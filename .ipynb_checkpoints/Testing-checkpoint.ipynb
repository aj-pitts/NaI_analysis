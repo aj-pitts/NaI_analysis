{
 "cells": [
  {
   "cell_type": "code",
   "execution_count": 158,
   "id": "16c690c0-128e-4975-8c25-3a438d9ff015",
   "metadata": {},
   "outputs": [],
   "source": [
    "config = \"/Users/apitts4030/Repo/mangadap_muse/MUSE_cubes/LSF-Config_MUSE_WFM\"\n",
    "lsf = np.genfromtxt(config,comments='#',names=('wavelength','fwhm'))"
   ]
  },
  {
   "cell_type": "code",
   "execution_count": 161,
   "id": "8990204e-a9e7-4e20-9b8a-a62bea953574",
   "metadata": {},
   "outputs": [
    {
     "data": {
      "text/plain": [
       "2253.524819009482"
      ]
     },
     "execution_count": 161,
     "metadata": {},
     "output_type": "execute_result"
    }
   ],
   "source": [
    "z = .012\n",
    "rest = (5891.5833 + 5897.5581)/2\n",
    "lam = rest * (1+z)\n",
    "ind = np.argmin(abs(lsf['wavelength'] - lam))\n",
    "\n",
    "\n",
    "fwhm = lsf['fwhm'][ind]\n",
    "\n",
    "R = lam / fwhm\n",
    "R"
   ]
  },
  {
   "cell_type": "code",
   "execution_count": 160,
   "id": "b0cedff3-bf8f-4310-8959-924a783983be",
   "metadata": {},
   "outputs": [
    {
     "data": {
      "text/plain": [
       "2220.2690930757085"
      ]
     },
     "execution_count": 160,
     "metadata": {},
     "output_type": "execute_result"
    }
   ],
   "source": [
    "z = .002\n",
    "rest = (5891.5833 + 5897.5581)/2\n",
    "lam = rest * (1+z)\n",
    "ind = np.argmin(abs(lsf['wavelength'] - lam))\n",
    "\n",
    "\n",
    "fwhm = lsf['fwhm'][ind]\n",
    "\n",
    "R = lam / fwhm\n",
    "R"
   ]
  },
  {
   "cell_type": "code",
   "execution_count": 162,
   "id": "6b3a85a9-979d-4923-9c41-10540428d07b",
   "metadata": {},
   "outputs": [],
   "source": [
    "Rs = lsf['wavelength'] / lsf['fwhm']"
   ]
  },
  {
   "cell_type": "code",
   "execution_count": 163,
   "id": "d9cecbb3-f469-4305-bb38-794492d7b319",
   "metadata": {},
   "outputs": [
    {
     "data": {
      "text/plain": [
       "(1210.7270415884739, 3677.8725540679716)"
      ]
     },
     "execution_count": 163,
     "metadata": {},
     "output_type": "execute_result"
    }
   ],
   "source": [
    "Rs.min(), Rs.max()"
   ]
  },
  {
   "cell_type": "code",
   "execution_count": 1,
   "id": "8d70309e-43ab-4382-bb0f-2ed18aa2774a",
   "metadata": {},
   "outputs": [],
   "source": [
    "import numpy as np\n",
    "import matplotlib.pyplot as plt\n",
    "from astropy.io import fits\n",
    "from astropy.table import Table, vstack, join\n",
    "from glob import glob\n",
    "from tqdm import tqdm\n",
    "import bokeh.plotting as bp\n",
    "import warnings"
   ]
  },
  {
   "cell_type": "code",
   "execution_count": 2,
   "id": "729e1b93-33fc-4831-81f5-e645b88f9be7",
   "metadata": {},
   "outputs": [],
   "source": [
    "warnings.filterwarnings(\"ignore\",category=SyntaxWarning)"
   ]
  },
  {
   "cell_type": "code",
   "execution_count": null,
   "id": "69cd6610-9269-4e1d-a62d-e916630e96b9",
   "metadata": {},
   "outputs": [],
   "source": []
  },
  {
   "cell_type": "code",
   "execution_count": 2,
   "id": "5124d082-aaef-49ce-885d-2c5ac33db4bb",
   "metadata": {
    "scrolled": true
   },
   "outputs": [
    {
     "name": "stderr",
     "output_type": "stream",
     "text": [
      "<>:447: SyntaxWarning: invalid escape sequence '\\m'\n",
      "<>:447: SyntaxWarning: invalid escape sequence '\\A'\n",
      "<>:555: SyntaxWarning: invalid escape sequence '\\m'\n",
      "<>:559: SyntaxWarning: invalid escape sequence '\\m'\n",
      "<>:562: SyntaxWarning: invalid escape sequence '\\m'\n",
      "<>:569: SyntaxWarning: invalid escape sequence '\\m'\n",
      "<>:569: SyntaxWarning: invalid escape sequence '\\A'\n",
      "<>:673: SyntaxWarning: invalid escape sequence '\\m'\n",
      "<>:673: SyntaxWarning: invalid escape sequence '\\A'\n",
      "<>:1054: SyntaxWarning: invalid escape sequence '\\m'\n",
      "<>:447: SyntaxWarning: invalid escape sequence '\\m'\n",
      "<>:447: SyntaxWarning: invalid escape sequence '\\A'\n",
      "<>:555: SyntaxWarning: invalid escape sequence '\\m'\n",
      "<>:559: SyntaxWarning: invalid escape sequence '\\m'\n",
      "<>:562: SyntaxWarning: invalid escape sequence '\\m'\n",
      "<>:569: SyntaxWarning: invalid escape sequence '\\m'\n",
      "<>:569: SyntaxWarning: invalid escape sequence '\\A'\n",
      "<>:673: SyntaxWarning: invalid escape sequence '\\m'\n",
      "<>:673: SyntaxWarning: invalid escape sequence '\\A'\n",
      "<>:1054: SyntaxWarning: invalid escape sequence '\\m'\n",
      "/var/folders/ms/1cj6qz8d54qg6yvchfl0610c0000gt/T/ipykernel_82573/3308379431.py:447: SyntaxWarning: invalid escape sequence '\\m'\n",
      "  f'{wv_dict[\"wv_range\"][1]} $\\mathrm{{\\AA}}$)', fontsize=22)\n",
      "/var/folders/ms/1cj6qz8d54qg6yvchfl0610c0000gt/T/ipykernel_82573/3308379431.py:447: SyntaxWarning: invalid escape sequence '\\A'\n",
      "  f'{wv_dict[\"wv_range\"][1]} $\\mathrm{{\\AA}}$)', fontsize=22)\n",
      "/var/folders/ms/1cj6qz8d54qg6yvchfl0610c0000gt/T/ipykernel_82573/3308379431.py:555: SyntaxWarning: invalid escape sequence '\\m'\n",
      "  ax.set_title(f'$N_{{ \\mathrm{{spax}} }}$ < {N_spx_range[1]}', fontsize=22)\n",
      "/var/folders/ms/1cj6qz8d54qg6yvchfl0610c0000gt/T/ipykernel_82573/3308379431.py:559: SyntaxWarning: invalid escape sequence '\\m'\n",
      "  ax.set_title(f'$N_{{ \\mathrm{{spax}} }}$ > {N_spx_range[1]}', fontsize=22)\n",
      "/var/folders/ms/1cj6qz8d54qg6yvchfl0610c0000gt/T/ipykernel_82573/3308379431.py:562: SyntaxWarning: invalid escape sequence '\\m'\n",
      "  ax.set_title(f'{N_spx_range[0]} < $N_{{\\mathrm{{spax}}}}$ < {N_spx_range[1]}', fontsize=22)\n",
      "/var/folders/ms/1cj6qz8d54qg6yvchfl0610c0000gt/T/ipykernel_82573/3308379431.py:569: SyntaxWarning: invalid escape sequence '\\m'\n",
      "  f'{wv_dict[\"wv_range\"][1]} $\\mathrm{{\\AA}}$)', fontsize=25, y=1.03)\n",
      "/var/folders/ms/1cj6qz8d54qg6yvchfl0610c0000gt/T/ipykernel_82573/3308379431.py:569: SyntaxWarning: invalid escape sequence '\\A'\n",
      "  f'{wv_dict[\"wv_range\"][1]} $\\mathrm{{\\AA}}$)', fontsize=25, y=1.03)\n",
      "/var/folders/ms/1cj6qz8d54qg6yvchfl0610c0000gt/T/ipykernel_82573/3308379431.py:673: SyntaxWarning: invalid escape sequence '\\m'\n",
      "  f'{wv_range[1]} $\\mathrm{{\\AA}}$)', fontsize=22)\n",
      "/var/folders/ms/1cj6qz8d54qg6yvchfl0610c0000gt/T/ipykernel_82573/3308379431.py:673: SyntaxWarning: invalid escape sequence '\\A'\n",
      "  f'{wv_range[1]} $\\mathrm{{\\AA}}$)', fontsize=22)\n",
      "/var/folders/ms/1cj6qz8d54qg6yvchfl0610c0000gt/T/ipykernel_82573/3308379431.py:1054: SyntaxWarning: invalid escape sequence '\\m'\n",
      "  \"\"\"for N_spx_key in N_spx_dict.keys():\n",
      " UserWarning: MANGADRP_VER environmental variable undefined.  Using: v3_1_1\n",
      " UserWarning: MANGA_SPECTRO_REDUX environmental variable undefined.  Using: /Users/apitts4030/MaNGA/redux\n",
      " UserWarning: MANGADAP_VER environmental variable undefined.  Using: 3.1.3dev\n",
      " UserWarning: MANGA_SPECTRO_ANALYSIS environmental variable undefined.  Using: /Users/apitts4030/MaNGA/analysis\n"
     ]
    }
   ],
   "source": [
    "import numpy as np\n",
    "import numpy.ma as ma\n",
    "import os\n",
    "from scipy import stats\n",
    "from scipy.optimize import curve_fit\n",
    "from astropy.io import fits\n",
    "from astropy.table import Table\n",
    "import matplotlib.pyplot as plt\n",
    "import matplotlib.patches as mpatches\n",
    "import matplotlib.lines as mlines\n",
    "from glob import glob\n",
    "plt.style.use('/Users/apitts4030/Repo/NaI_analysis/figures.mplstyle')\n",
    "import logging\n",
    "logger = logging.getLogger()\n",
    "logger.setLevel(logging.INFO)\n",
    "\n",
    "from mpl_toolkits.axes_grid1.inset_locator import zoomed_inset_axes, mark_inset\n",
    "from mpl_toolkits.axes_grid1 import make_axes_locatable\n",
    "\n",
    "\n",
    "import sys\n",
    "sys.path.append(\"/Users/apitts4030/Repo/mangadap_muse/\")\n",
    "from mangadap.config import defaults\n",
    "\n",
    "plt.rcParams['figure.figsize'] = (10,6)\n",
    "plt.rc('axes', labelsize = 25)\n",
    "plt.rc('axes', titlesize = 18)\n",
    "#plt.rc('axes', titleweight = 'bold')\n",
    "plt.rc('axes', lw = 2)\n",
    "plt.rc('xtick',labelsize=20)\n",
    "plt.rc('ytick',labelsize=20)\n",
    "plt.rcParams['font.family'] = 'stixgeneral'\n",
    "plt.rcParams['mathtext.fontset'] = 'stix'\n",
    "plt.rcParams['xtick.major.size'] = 10\n",
    "plt.rcParams['ytick.major.size'] = 10\n",
    "plt.rcParams['xtick.minor.size'] = 8\n",
    "plt.rcParams['ytick.minor.size'] = 8\n",
    "\n",
    "\n",
    "class CubeData:\n",
    "\n",
    "    def __init__(self, galname=None, bin_key=None, plate=None, ifu=None, nspax_list=None):\n",
    "        self.galname = galname\n",
    "        self.bin_key = bin_key\n",
    "        self.nspax_list = nspax_list\n",
    "        cubedir = f\"/Users/apitts4030/Repo/NaI_analysis/data/{self.galname}/cube/{self.galname}-{self.bin_key}/NO-CORR/\"\n",
    "        fitsfils = glob(os.path.join(cubedir, \"**\", \"*.fits\"),recursive=True)\n",
    "        cube_file_path = None\n",
    "        maps_file_path = None\n",
    "        for fil in fitsfils:\n",
    "            if \"LOGCUBE\" in fil:\n",
    "                cube_file_path = fil\n",
    "\n",
    "            if \"MAPS\" in fil:\n",
    "                maps_file_path = fil\n",
    "\n",
    "        \n",
    "        self.galname = galname\n",
    "        self.bin_key = bin_key\n",
    "\n",
    "\n",
    "        # output beta plot directory\n",
    "        output_beta_dir = \"paper/\"\n",
    "        self.output_beta_dir = output_beta_dir\n",
    "\n",
    "        cube = fits.open(cube_file_path)\n",
    "        maps = fits.open(maps_file_path)\n",
    "        # bin ID has multiple layers of the same bin id map so use first one\n",
    "        self.binid_map = maps['BINID'].data[0]\n",
    "        # obtain wavelength, flux, model and error array from MUSE cube\n",
    "        self.wave = cube['WAVE'].data\n",
    "        self.flux = cube['FLUX'].data\n",
    "        self.model = cube['MODEL'].data\n",
    "        self.error = np.sqrt(1 / cube['IVAR'].data)\n",
    "\n",
    "    def SN_dict(self):\n",
    "        # create a dictionary containing that stores the number of spaxels in each bin ID\n",
    "        # and beta values for each S/N bin\n",
    "        SN_dict = {}\n",
    "        SN_channel_keys = ['SN_range', 'bin_size', 'beta_bin']\n",
    "\n",
    "        SN_lims = [[0, 50], [50, 75], [75, 100], [100, 1000]]\n",
    "\n",
    "        for i in range(len(SN_lims)):\n",
    "            channel = f'SN_CHANNEL{i}'\n",
    "            SN_dict[channel] = {}\n",
    "\n",
    "            for key in SN_channel_keys:\n",
    "                if key == 'SN_range':\n",
    "                    SN_dict[channel][key] = SN_lims[i]\n",
    "                else:\n",
    "                    SN_dict[channel][key] = None\n",
    "\n",
    "        return SN_dict\n",
    "\n",
    "    def N_spx_dict(self):\n",
    "        # create a dictionary containing the different N_spx bins\n",
    "        N_spx_dict = {}\n",
    "        N_spx_channel_keys = ['N_spx_range', 'SN_dict']\n",
    "        \n",
    "        #N_spx_lims = [[0, 5.5], [5.5, 22], [22, 52], [52, 122]]\n",
    "        N_spx_lims = [[1, 4], [4, 7], [7, 10], [10, 12]]\n",
    "\n",
    "        if self.nspax_list:\n",
    "            N_spx_lims=self.nspax_list\n",
    "\n",
    "        #print(N_spx_lims)\n",
    "        for i in range(len(N_spx_lims)):\n",
    "            channel = f'N_spx_CHANNEL{i}'\n",
    "            N_spx_dict[channel] = {}\n",
    "\n",
    "            for key in N_spx_channel_keys:\n",
    "                if key == 'N_spx_range':\n",
    "                    N_spx_dict[channel][key] = N_spx_lims[i]\n",
    "                # add S/N dictionary\n",
    "                if key == 'SN_dict':\n",
    "                    N_spx_dict[channel][key] = self.SN_dict()\n",
    "        return N_spx_dict\n",
    "\n",
    "    def beta_all_dict(self):\n",
    "        # create a dictionary containing the different N_spx bins\n",
    "        beta_all_dict = {}\n",
    "        beta_all_channel_keys = ['SN_range', 'bin_size_all', 'beta_all', 'bin_modes', 'beta_medians', 'beta_stds']\n",
    "\n",
    "        SN_lims = [[0, 50], [50, 75], [75, 100], [100, 1000]]\n",
    "\n",
    "        for i in range(len(SN_lims)):\n",
    "            channel = f'SN_CHANNEL{i}'\n",
    "            beta_all_dict[channel] = {}\n",
    "\n",
    "            for key in beta_all_channel_keys:\n",
    "                if key == 'SN_range':\n",
    "                    beta_all_dict[channel][key] = SN_lims[i]\n",
    "\n",
    "                elif (key == 'bin_size_all') or (key == 'beta_all'):\n",
    "                    beta_all_dict[channel][key] = []\n",
    "\n",
    "                else:\n",
    "                    beta_all_dict[channel][key] = []\n",
    "\n",
    "        return beta_all_dict\n",
    "\n",
    "    def wv_dict(self):\n",
    "        # create a dictionary for each wavelength channel\n",
    "        wv_dict = {}\n",
    "        wv_channel_keys = ['wv_range', 'bin_masks', 'N_spx', 'SN', 'beta', 'N_spx_dict', 'beta_all_dict']\n",
    "\n",
    "        # wavelength ranges\n",
    "        wv_lims = [[4751.42, 5212], [5212, 5672], [5672, 6132], [6132, 6592],\n",
    "                   [6592, 7052], [7052, 7513], [7513, 7973], [7973, 8433], [8433, 8893], [8893, 9353.44]]\n",
    "\n",
    "        for i in range(len(wv_lims)):\n",
    "            channel = f'WAVE_CHANNEL{i}'\n",
    "            wv_dict[channel] = {}\n",
    "\n",
    "            for key in wv_channel_keys:\n",
    "                if key == 'wv_range':\n",
    "                    wv_dict[channel][key] = wv_lims[i]\n",
    "                # add N_spx dictionary\n",
    "                elif key == 'N_spx_dict':\n",
    "                    wv_dict[channel][key] = self.N_spx_dict()\n",
    "                # add Beta_all dictionary\n",
    "                elif key == 'beta_all_dict':\n",
    "                    wv_dict[channel][key] = self.beta_all_dict()\n",
    "                else:\n",
    "                    wv_dict[channel][key] = None\n",
    "\n",
    "        return wv_dict\n",
    "\n",
    "    def filter_data(self, array, conditional_array, lim):\n",
    "        # filter out the input array based on the conditional array and input limits\n",
    "        return array[(conditional_array >= lim[0]) & (conditional_array <= lim[1])]\n",
    "\n",
    "    def apply_mask(self, wave_bin, flux_bin, model_bin, error_bin):\n",
    "        # mask for large unaccounted emission or absorption lines if present\n",
    "\n",
    "        # calculate the standard deviation in the fit residuals (rN)\n",
    "        # https://quantifyinghealth.com/residual-standard-deviation-error/ for reference\n",
    "        rN_1sigma = np.sqrt(np.mean((flux_bin - model_bin) ** 2))\n",
    "        # calculate rN per pixel\n",
    "        rN = np.sqrt((flux_bin - model_bin) ** 2)\n",
    "\n",
    "        # perform a rudimentary sigma clip and\n",
    "        # mask indices where the residual noise exceeds 10 sigma\n",
    "        wave_mask = ma.masked_where(rN / rN_1sigma >= 10, wave_bin)\n",
    "        flux_mask = ma.masked_where(rN / rN_1sigma >= 10, flux_bin)\n",
    "        model_mask = ma.masked_where(rN / rN_1sigma >= 10, model_bin)\n",
    "        error_mask = ma.masked_where(rN / rN_1sigma >= 10, error_bin)\n",
    "\n",
    "        return wave_mask, flux_mask, model_mask, error_mask\n",
    "\n",
    "    def calc_beta(self, wave, flux, model, error, binid_map):\n",
    "        # calculate number of spaxels, S/N and correlation ratio value for each bin ID\n",
    "\n",
    "        # total number of bins\n",
    "        n_bins = np.max(binid_map) + 1\n",
    "\n",
    "        bin_masks = []\n",
    "        bin_sizes = np.zeros(n_bins)\n",
    "        sn = np.zeros(n_bins)\n",
    "        betas = np.zeros(n_bins)\n",
    "\n",
    "        for i in range(n_bins):\n",
    "            id_mask = binid_map == i\n",
    "            # get bin sizes, S/N and beta value for each bin ID\n",
    "            n_spx = len(flux[:, id_mask][0, :])\n",
    "            #if n_spx not in [3, 6, 9, 12]:\n",
    "             #   continue\n",
    "            #print(n_spx)\n",
    "            # get flux, stellar continuum model and variance array from bin ID\n",
    "            # print(flux)\n",
    "            flux_bin = flux[:, id_mask][:, 0]\n",
    "            model_bin = model[:, id_mask][:, 0]\n",
    "            error_bin = error[:, id_mask][:, 0]\n",
    "\n",
    "            # mask values\n",
    "            wave_mask, flux_mask, model_mask, error_mask = self.apply_mask(wave, flux_bin, model_bin,\n",
    "                                                                           error_bin)\n",
    "\n",
    "            # calculate the S/N and correlation ratio with the masked data\n",
    "            snr = np.median(flux_mask / error_mask)\n",
    "            # calculate the standard deviation in the fit residuals (rN)\n",
    "            rN_1sigma = np.sqrt(np.mean((flux_mask - model_mask) ** 2))\n",
    "            # calculate the correlation ratio (between residual noise\n",
    "            # and propagated noise (beta = rN/N)\n",
    "            beta = (rN_1sigma / np.median(error_mask))\n",
    "\n",
    "            # don't store correlation ratio if its non-finite and less than 0\n",
    "            if (np.isfinite(beta) == False) or (beta < 0):\n",
    "                continue\n",
    "            else:\n",
    "                bin_masks.append(flux_mask.mask)\n",
    "                bin_sizes[i] = n_spx\n",
    "                sn[i] = snr\n",
    "                betas[i] = beta\n",
    "        return bin_masks, bin_sizes, sn, betas\n",
    "\n",
    "    def get_beta(self):\n",
    "        # dictionary for each wavelength channel\n",
    "        self.wv_dict = self.wv_dict()\n",
    "\n",
    "        for wv_key in self.wv_dict.keys():\n",
    "            # filter data\n",
    "            # wave_filt, flux_filt, model_filt, err_filt = self.filter_data(self.wv_dict[key]['wv_range'])\n",
    "            wave_filt = self.filter_data(self.wave, self.wave, self.wv_dict[wv_key]['wv_range'])\n",
    "            flux_filt = self.filter_data(self.flux, self.wave, self.wv_dict[wv_key]['wv_range'])\n",
    "            model_filt = self.filter_data(self.model, self.wave, self.wv_dict[wv_key]['wv_range'])\n",
    "            err_filt = self.filter_data(self.error, self.wave, self.wv_dict[wv_key]['wv_range'])\n",
    "\n",
    "            # get number of spaxels in each bin, S/N and beta value for each bin ID\n",
    "            bin_masks, bin_sizes, sn, betas = self.calc_beta(wave_filt, flux_filt,\n",
    "                                                             model_filt, err_filt, self.binid_map)\n",
    "            # save the mask from each bin ID\n",
    "            self.wv_dict[wv_key]['bin_masks'] = bin_masks\n",
    "\n",
    "            # loop through and place each spaxel bin size and beta value into their respective\n",
    "            # N_spx and S/N bin\n",
    "            N_spx_dict = self.wv_dict[wv_key]['N_spx_dict']\n",
    "            beta_all_dict = self.wv_dict[wv_key]['beta_all_dict']\n",
    "\n",
    "            for N_spx_key in N_spx_dict.keys():\n",
    "                # filter bin size, S/N and beta values according to number of spaxel (N_spx) range\n",
    "                bin_sizes_N_spx_filt = self.filter_data(bin_sizes,\n",
    "                                                        bin_sizes, N_spx_dict[N_spx_key]['N_spx_range'])\n",
    "                #print(\"-----------\")\n",
    "                #print(f\"n_spax range: {N_spx_dict[N_spx_key]['N_spx_range']}\")\n",
    "                #print(np.unique(bin_sizes_N_spx_filt))\n",
    "                \n",
    "                sn_N_spx_filt = self.filter_data(sn,\n",
    "                                                 bin_sizes, N_spx_dict[N_spx_key]['N_spx_range'])\n",
    "                beta_N_spx_filt = self.filter_data(betas,\n",
    "                                                   bin_sizes, N_spx_dict[N_spx_key]['N_spx_range'])\n",
    "\n",
    "                SN_dict = N_spx_dict[N_spx_key]['SN_dict']\n",
    "                for SN_key in SN_dict.keys():\n",
    "                    # filter bin size and beta values according to S/N range\n",
    "                    bin_size_SN_filt = self.filter_data(bin_sizes_N_spx_filt,\n",
    "                                                        sn_N_spx_filt, SN_dict[SN_key]['SN_range'])\n",
    "\n",
    "                    #print(f\"S/N range: {SN_dict[SN_key]['SN_range']}\")\n",
    "                    #print(np.unique(bin_size_SN_filt))\n",
    "                    \n",
    "                    beta_SN_filt = self.filter_data(beta_N_spx_filt,\n",
    "                                                    sn_N_spx_filt, SN_dict[SN_key]['SN_range'])\n",
    "                    # save the data\n",
    "                    SN_dict[SN_key]['bin_size'] = bin_size_SN_filt\n",
    "                    SN_dict[SN_key]['beta_bin'] = beta_SN_filt\n",
    "\n",
    "                N_spx_dict[N_spx_key]['SN_dict'] = SN_dict\n",
    "\n",
    "            for all_key in beta_all_dict.keys():\n",
    "                for N_spx_key in N_spx_dict.keys():\n",
    "                    bin_size = N_spx_dict[N_spx_key]['SN_dict'][all_key]['bin_size']\n",
    "                    beta_bin = N_spx_dict[N_spx_key]['SN_dict'][all_key]['beta_bin']\n",
    "\n",
    "                    beta_all_dict[all_key]['bin_size_all'].append(bin_size)\n",
    "                    beta_all_dict[all_key]['beta_all'].append(beta_bin)\n",
    "\n",
    "            for all_key in beta_all_dict.keys():\n",
    "                #print(f\"all key: {all_key}\")\n",
    "                \n",
    "                bin_size_all = beta_all_dict[all_key]['bin_size_all']\n",
    "                beta_all = beta_all_dict[all_key]['beta_all']\n",
    "\n",
    "                #print(all_key)\n",
    "                #print(bin_size_all)\n",
    "                for bin_array, beta_array in zip(bin_size_all, beta_all):\n",
    "                    if len(bin_array) == 0:\n",
    "                        #print('true')\n",
    "                        beta_all_dict[all_key]['bin_modes'].append(-999)\n",
    "                        beta_all_dict[all_key]['beta_medians'].append(-999)\n",
    "                        beta_all_dict[all_key]['beta_stds'].append(-999)\n",
    "\n",
    "                    else:\n",
    "                        #print(stats.mode(bin_array)[0])\n",
    "                        beta_all_dict[all_key]['bin_modes'].append(stats.mode(bin_array)[0])\n",
    "                        beta_all_dict[all_key]['beta_medians'].append(np.median(beta_array))\n",
    "                        beta_all_dict[all_key]['beta_stds'].append(np.std(beta_array))\n",
    "\n",
    "            self.wv_dict[wv_key]['N_spx_dict'] = N_spx_dict\n",
    "            self.wv_dict[wv_key]['beta_all_dict'] = beta_all_dict\n",
    "\n",
    "    # Sarzi+2018 quadratic function\n",
    "    def beta_func_quad(self, N_spx, a, b):\n",
    "        return 1 + a * (np.log10(N_spx)) ** b\n",
    "\n",
    "    def create_beta_tables(self):\n",
    "\n",
    "        # dictionary for each wavelength channel\n",
    "        wv_dict = self.wv_dict\n",
    "\n",
    "        return_dict = {}\n",
    "        for wv_key in wv_dict.keys():\n",
    "            # dictionary for each wavelength channel\n",
    "            wv_range = wv_dict[wv_key]['wv_range']\n",
    "            beta_all_dict = wv_dict[wv_key]['beta_all_dict']\n",
    "\n",
    "            # list to store median beta values to write into .dat file\n",
    "            beta_table_data = []\n",
    "\n",
    "            # list to store for values for fitting Sarzi+2018 relation\n",
    "            bin_fit = []\n",
    "            beta_fit = []\n",
    "            beta_err = []\n",
    "\n",
    "            temp_dict = {}\n",
    "            for i in [1,2,3,4,5,6,7,8,9,10,12]:\n",
    "                key = str(i)\n",
    "                temp_dict[key] = None\n",
    "            # loop through each S/N channel within Beta_all dicitonary\n",
    "            for all_key in beta_all_dict.keys():\n",
    "                bin_modes = beta_all_dict[all_key]['bin_modes']\n",
    "                beta_medians = beta_all_dict[all_key]['beta_medians']\n",
    "                beta_stds = beta_all_dict[all_key]['beta_stds']\n",
    "                \n",
    "                # don't keep last beta median value because the correlation\n",
    "                # correction does not do well for N_spx > 100\n",
    "                beta_table_data.append(beta_medians[:3])\n",
    "                \n",
    "                for bin_mode, beta_median, beta_std in zip(bin_modes, beta_medians, beta_stds):\n",
    "\n",
    "                    if bin_mode == -999:\n",
    "                        continue\n",
    "                    else:\n",
    "                        bin_fit.append(bin_mode)\n",
    "                        beta_fit.append(beta_median)\n",
    "                        beta_err.append(beta_std)\n",
    "\n",
    "            beta_func_quad = self.beta_func_quad\n",
    "            # get parameters\n",
    "            # fit data points usings Sarzi+2018 relationshiop\n",
    "            popt_sarzi, pcov_sarzi = curve_fit(beta_func_quad, np.array(bin_fit),np.array(beta_fit), sigma=np.array(beta_err))\n",
    "\n",
    "            for key in temp_dict.keys():\n",
    "                #temp_dict[key] = [popt_sarzi[0],popt_sarzi[1],1 + popt_sarzi[0] * (np.log10(float(key))) ** popt_sarzi[1]]\n",
    "                temp_dict[key] = 1 + popt_sarzi[0] * (np.log10(float(key))) ** popt_sarzi[1]\n",
    "            #print(f\"{wv_range}: a = {popt_sarzi[0]:.3f}, b = {popt_sarzi[1]:.3f}, beta = {(1 + popt_sarzi[0] * (np.log10(9)) ** popt_sarzi[1]):.3f}\")\n",
    "            return_dict[wv_key] = temp_dict\n",
    "            # create an Astropy data table containting each median beta histogram distribution\n",
    "            # for a given S/N and N_spx size\n",
    "            beta_table = Table([beta_table_data[0], beta_table_data[1], beta_table_data[2],\n",
    "                                [popt_sarzi[0], -999, -999], [popt_sarzi[1], -999, -999]],\n",
    "                               names=('S_N_0-50', 'S_N_50-75', 'S_N_75-100', 'param_fit_a', 'param_fit_b'))\n",
    "\n",
    "            self.wv_dict[wv_key]['beta_table'] = beta_table\n",
    "\n",
    "            # write the beta table into a .dat file\n",
    "            beta_tables_dir = os.path.join(defaults.dap_data_root(), 'beta_tables')\n",
    "            beta_tables_gal_dir = os.path.join(beta_tables_dir, f'{self.galname}-{self.bin_key}')\n",
    "            if not os.path.isdir(beta_tables_gal_dir):\n",
    "                os.makedirs(beta_tables_gal_dir)\n",
    "\n",
    "            # create the file name\n",
    "            file_name = f'beta_corr_{wv_range[0]}_{wv_range[1]}.dat'\n",
    "            beta_table_path = os.path.join(beta_tables_gal_dir, file_name)\n",
    "            beta_table.write(beta_table_path, format='ascii', overwrite=True)\n",
    "            logging.info(f'Writing {file_name} to {beta_tables_gal_dir}')\n",
    "\n",
    "        return return_dict\n",
    "\n",
    "    def mk_residual_plot(self, wv_channel, bin_id, zoom=None):\n",
    "        # plot the flux, model and error in main plot\n",
    "        # lower plot showcases the ratio between the residual-noise-per-pixel and\n",
    "        # 1 standard deviation of the residual noise over the entire wavelength channel (rN/1sigma_rN)\n",
    "\n",
    "        # wavelength channel dictionary\n",
    "        wv_dict = self.wv_dict[f'WAVE_CHANNEL{wv_channel}']\n",
    "        # mask array\n",
    "        mask_bin = wv_dict['bin_masks'][bin_id]\n",
    "\n",
    "        wave_bin = self.wave\n",
    "        # get flux, stellar continuum model and variance array from bin ID\n",
    "        id_mask = self.binid_map == bin_id\n",
    "        flux_bin = self.flux[:, id_mask][:, 0]\n",
    "        model_bin = self.model[:, id_mask][:, 0]\n",
    "        error_bin = self.error[:, id_mask][:, 0]\n",
    "\n",
    "        # filter out data and apply mask from bin ID\n",
    "        wave = ma.masked_array(self.filter_data(wave_bin, wave_bin, wv_dict['wv_range']), mask=mask_bin)\n",
    "        flux = ma.masked_array(self.filter_data(flux_bin, wave_bin, wv_dict['wv_range']), mask=mask_bin)\n",
    "        model = ma.masked_array(self.filter_data(model_bin, wave_bin, wv_dict['wv_range']), mask=mask_bin)\n",
    "        err = ma.masked_array(self.filter_data(error_bin, wave_bin, wv_dict['wv_range']), mask=mask_bin)\n",
    "\n",
    "        # 1 sigma residual noise before and afer being masked\n",
    "        rN_1sigma_unmasked = np.sqrt(np.mean((flux.data - model.data) ** 2))\n",
    "        rN_1sigma_masked = np.sqrt(np.mean((flux - model) ** 2))\n",
    "\n",
    "        # show good and bad beta values per pixel before being masked\n",
    "        beta_good_unmasked = rN_1sigma_unmasked / err\n",
    "        beta_bad_unmasked = rN_1sigma_unmasked / err.data\n",
    "\n",
    "        # show beta values after being masked\n",
    "        beta_good_masked = rN_1sigma_masked / err.data\n",
    "\n",
    "        # make plots\n",
    "        fig = plt.figure(figsize=(10, 6))\n",
    "\n",
    "        # create an extra masked plot if there are masked pixels\n",
    "        if flux.mask.any() == True:\n",
    "            gs = fig.add_gridspec(3, hspace=0, height_ratios=(3, 1, 1))\n",
    "            axs = gs.subplots(sharex=True)\n",
    "        else:\n",
    "            gs = fig.add_gridspec(2, hspace=0, height_ratios=(3, 1))\n",
    "            axs = gs.subplots(sharex=True)\n",
    "\n",
    "        axs[0].set_title(f'Wavelength Channel {wv_channel} ({wv_dict[\"wv_range\"][0]}-'\n",
    "                         f'{wv_dict[\"wv_range\"][1]} $\\mathrm{{\\AA}}$)', fontsize=22)\n",
    "\n",
    "        axs[0].step(wave.data, flux.data, c='k', zorder=2, label='Data')\n",
    "        axs[0].step(wave.data, model.data, c='tab:purple', zorder=3, label='Model')\n",
    "        axs[0].step(wave.data, err.data, c='tab:green', zorder=1, label='Error')\n",
    "        axs[0].set_ylabel(r'Flux ($10^{-20} \\mathrm{erg}$ $\\mathrm{cm}^{-2}$ $\\mathrm{s}^{-1}$)', fontsize=19)\n",
    "        axs[0].set_ylim(-0.01, np.median(flux) * 1.25)\n",
    "\n",
    "        if flux.mask.any() == True:\n",
    "\n",
    "            # manually define a patch for the masked region\n",
    "            ax0_handles, labels = axs[0].get_legend_handles_labels()\n",
    "            mask_patch = mpatches.Patch(color='cadetblue', label='Masked Region', alpha=0.3)\n",
    "            # append manual patch\n",
    "            ax0_handles.append(mask_patch)\n",
    "            axs[0].legend(handles=ax0_handles, fontsize='large', loc='center left')\n",
    "\n",
    "            # plot beta values before being maksed\n",
    "            axs[1].step(wave, beta_good_unmasked,\n",
    "                        label=r'$\\beta$ Before Masking', c='grey', zorder=2)\n",
    "            # plot bad beta values\n",
    "            axs[1].step(wave.data, beta_bad_unmasked,\n",
    "                        label=r'Masked Pixels', c='r', zorder=1)\n",
    "\n",
    "            axs[1].set_ylabel(r'$\\beta$', fontsize=20)\n",
    "            axs[1].set_ylim(-0.5, np.median(beta_good_unmasked) * 2.2)\n",
    "            axs[1].legend(fontsize='large', frameon=False, loc='upper left', ncol=2)\n",
    "\n",
    "            # plot beta values after being masked\n",
    "            axs[2].step(wave.data, beta_good_masked,\n",
    "                        label=r'$\\beta$ After Masking', c='grey', zorder=1)\n",
    "\n",
    "            axs[2].set_xlabel(r'Wavelength ($\\mathrm{\\AA}$)', fontsize=20)\n",
    "            axs[2].set_ylabel(r'$\\beta$', fontsize=20)\n",
    "            axs[2].set_ylim(-0.5, np.median(beta_good_unmasked) * 2.2)\n",
    "            axs[2].legend(fontsize='large', frameon=False, loc='upper left')\n",
    "\n",
    "            # highlight masked regions\n",
    "            pix_size = wave.data[1] - wave.data[0]\n",
    "            for masked_pix in wave.data[wave.mask]:\n",
    "                axs[0].axvspan(masked_pix - (pix_size / 1), masked_pix, alpha=0.3,\n",
    "                               color='cadetblue', zorder=4)\n",
    "                axs[1].axvspan(masked_pix - (pix_size / 1), masked_pix, alpha=0.3,\n",
    "                               color='cadetblue', zorder=4)\n",
    "                axs[2].axvspan(masked_pix - (pix_size / 1), masked_pix, alpha=0.3,\n",
    "                               color='cadetblue', zorder=4)\n",
    "\n",
    "            if zoom is not None:\n",
    "                axs[0].set_xlim(zoom[0], zoom[1])\n",
    "                axs[1].set_xlim(zoom[0], zoom[1])\n",
    "                axs[2].set_xlim(zoom[0], zoom[1])\n",
    "\n",
    "        else:\n",
    "            # only create one beta plot if theres no masking\n",
    "            logging.info('No masked pixels!')\n",
    "\n",
    "            # create legend without masked region patch\n",
    "            axs[0].legend(fontsize='large', loc='center left')\n",
    "\n",
    "            # plot beta values before being maksed\n",
    "            axs[1].step(wave, beta_good_masked, c='grey', zorder=1)\n",
    "\n",
    "            axs[1].set_xlabel(r'Wavelength ($\\mathrm{\\AA}$)', fontsize=20)\n",
    "            axs[1].set_ylabel(r'$\\beta$', fontsize=20)\n",
    "            axs[1].set_ylim(-0.5, np.median(beta_good_masked) * 2.2)\n",
    "\n",
    "            # zoom must be a list with two wavelegnth values in it\n",
    "            if zoom is not None:\n",
    "                axs[0].set_xlim(zoom[0], zoom[1])\n",
    "                axs[1].set_xlim(zoom[0], zoom[1])\n",
    "\n",
    "    def mk_hist_plot(self, wv_channel, show_plot=True, save_plot=False):\n",
    "        # wavelength channel dictionary\n",
    "        wv_dict = self.wv_dict[f'WAVE_CHANNEL{wv_channel}']\n",
    "\n",
    "        beta_bins = np.arange(0, 15, 0.2)\n",
    "        #median_colors = ['tab:blue', 'tab:orange', 'tab:green', 'tab:red']\n",
    "        median_colors = ['peachpuff', 'steelblue', 'slategray', 'lavender']\n",
    "\n",
    "        fig, ((ax1, ax2), (ax3, ax4)) = plt.subplots(2, 2, figsize=(14, 10))\n",
    "        fig.tight_layout(pad=4.0)\n",
    "\n",
    "        N_spx_dict = wv_dict['N_spx_dict']\n",
    "\n",
    "        for N_spx_key, ax in zip(N_spx_dict.keys(), fig.get_axes()):\n",
    "            N_spx_range = N_spx_dict[N_spx_key]['N_spx_range']\n",
    "            SN_dict = N_spx_dict[N_spx_key]['SN_dict']\n",
    "\n",
    "            for i, SN_key in enumerate(SN_dict.keys()):\n",
    "                SN_range = SN_dict[SN_key]['SN_range']\n",
    "                beta_SN_bin = SN_dict[SN_key]['beta_bin']\n",
    "\n",
    "                if SN_key == 'SN_CHANNEL3':\n",
    "                    label = f'{SN_range[0]} < SN'\n",
    "                else:\n",
    "                    label = f'{SN_range[0]} < SN < {SN_range[1]}'\n",
    "\n",
    "                ax.hist(beta_SN_bin, bins=beta_bins, label=label, color=median_colors[i],\n",
    "                        histtype='step', stacked=False, alpha=0.9, fill=False)\n",
    "                ax.tick_params(axis='both', which='both', direction='in', top=True, right=True, length=5)\n",
    "                ax.set_xticks(np.arange(1, 10))\n",
    "\n",
    "                if np.isnan(np.median(beta_SN_bin)) == True:\n",
    "                    continue\n",
    "                else:\n",
    "                    ax.axvline(np.median(beta_SN_bin), ls='--', c=median_colors[i], lw=1)\n",
    "\n",
    "            if N_spx_key == 'N_spx_CHANNEL0':\n",
    "                ax.set_title(f'$N_{{ \\mathrm{{spax}} }}$ < {N_spx_range[1]}', fontsize=22)\n",
    "                ax.legend(fontsize=16)\n",
    "\n",
    "            elif N_spx_key == 'N_spx_CHANNEL3':\n",
    "                ax.set_title(f'$N_{{ \\mathrm{{spax}} }}$ > {N_spx_range[1]}', fontsize=22)\n",
    "\n",
    "            else:\n",
    "                ax.set_title(f'{N_spx_range[0]} < $N_{{\\mathrm{{spax}}}}$ < {N_spx_range[1]}', fontsize=22)\n",
    "\n",
    "            ax.set_xlim(0, 10)\n",
    "            ax.set_xlabel(r'$\\beta$ (rN/N)', fontsize=22)\n",
    "            ax.set_ylabel('Counts')\n",
    "\n",
    "        fig.suptitle(f' $\\\\beta$ Histograms for Wavelength Channel {wv_channel} ({wv_dict[\"wv_range\"][0]}-'\n",
    "                     f'{wv_dict[\"wv_range\"][1]} $\\mathrm{{\\AA}}$)', fontsize=25, y=1.03)\n",
    "\n",
    "        # save the figure if save_plot is True\n",
    "        if save_plot:\n",
    "            # create historgram directory if it doesn't exist already\n",
    "            beta_hist_dir = os.path.join(self.output_beta_dir, 'beta_histogram_plots')\n",
    "            if not os.path.isdir(beta_hist_dir):\n",
    "                os.makedirs(beta_hist_dir)\n",
    "\n",
    "            file_name = f'beta_hist_{wv_dict[\"wv_range\"][0]}_{wv_dict[\"wv_range\"][1]}.png'\n",
    "            # save the figure image\n",
    "            fig.savefig(f'{beta_hist_dir}/{file_name}', bbox_inches='tight')\n",
    "            logging.info(f'Saving {file_name} to {beta_hist_dir}')\n",
    "\n",
    "        # don't show the plot if show_plot is False\n",
    "        if not show_plot:\n",
    "            plt.close()\n",
    "            logging.info('Not displaying plot!')\n",
    "\n",
    "    def mk_violin_plot(self, wv_channel, show_plot=True, save_plot=False):\n",
    "        # create violin plots for each wavelength channel\n",
    "\n",
    "        # dictionary containing all the bin sizes and beta values for each\n",
    "        # wavelength channel\n",
    "        beta_all_dict = self.wv_dict[f'WAVE_CHANNEL{wv_channel}']['beta_all_dict']\n",
    "\n",
    "        # slightly offset each violin plot within the same S/N channel\n",
    "        x_offset = [-3, -1, 1, 3]\n",
    "        colors = ['tab:blue', 'tab:orange', 'tab:green', 'tab:red']\n",
    "        # get all the bin modes for each S/N channel\n",
    "        bin_mode_all = []\n",
    "\n",
    "        plt.figure(figsize=(10, 6))\n",
    "        # legend patches\n",
    "        color_patches = []\n",
    "        color_patches.append(plt.Line2D([], [], color='k', ls=\"--\", label='Sarzi+2018'))\n",
    "\n",
    "        # loop through each S/N channel and create a violin plot\n",
    "        # for each non-zero array using the beta distribution and bin size mode\n",
    "        for i, SN_key in enumerate(beta_all_dict.keys()):\n",
    "            SN_range = beta_all_dict[SN_key]['SN_range']\n",
    "            bin_modes = np.array(beta_all_dict[SN_key]['bin_modes'])\n",
    "            beta_all = beta_all_dict[SN_key]['beta_all']\n",
    "\n",
    "            # check to see if there are any beta distributions for the given\n",
    "            # S/N range\n",
    "            if np.all(bin_modes == -999):\n",
    "                logging.info(f'No beta distributions for S/N range between {SN_range[0]}-{SN_range[1]}')\n",
    "                continue\n",
    "            else:\n",
    "                for bin_mode, betas in zip(bin_modes, beta_all):\n",
    "                    # if array empty, skip\n",
    "                    if bin_mode == -999:\n",
    "                        continue\n",
    "                    else:\n",
    "                        bin_mode_all.append(bin_mode)\n",
    "                        violinplots = plt.violinplot(betas, positions=[bin_mode + x_offset[i]],\n",
    "                                                     showmedians=True, widths=7)\n",
    "\n",
    "                        # configure each individiual violin plot colors\n",
    "                        for partname in ('cbars', 'cmins', 'cmaxes', 'cmedians', 'bodies'):\n",
    "                            violin = violinplots[partname]\n",
    "                            if partname == 'bodies':\n",
    "                                for vp in violin:\n",
    "                                    vp.set_color(colors[i])\n",
    "                                    vp.set_facecolor(colors[i])\n",
    "                                    vp.set_edgecolor(colors[i])\n",
    "                                    vp.set_alpha(0.2)\n",
    "                                    vp.set_label('uhh')\n",
    "\n",
    "                            else:\n",
    "                                violin.set_edgecolor(colors[i])\n",
    "                                violin.set_linewidth(2)\n",
    "\n",
    "                        if SN_key == 'SN_CHANNEL3':\n",
    "                            SN_str = f'{SN_range[0]} < SN'\n",
    "                        else:\n",
    "                            SN_str = f'{SN_range[0]} < SN < {SN_range[1]}'\n",
    "\n",
    "                        # add to legend handle\n",
    "                        if bin_modes[bin_modes > -999][-1] == bin_mode:\n",
    "                            c_patch = mpatches.Patch(color=colors[i], label=SN_str)\n",
    "                            color_patches.append(c_patch)\n",
    "\n",
    "        # Sarzi+2018 fit parameters\n",
    "        a = self.wv_dict[f'WAVE_CHANNEL{wv_channel}']['beta_table']['param_fit_a'][0]\n",
    "        b = self.wv_dict[f'WAVE_CHANNEL{wv_channel}']['beta_table']['param_fit_b'][0]\n",
    "\n",
    "        # show Sarzi relation against violin plots\n",
    "        N_spx_range = np.arange(0, bin_mode_all[-1] + x_offset[-1] + 1)\n",
    "        plt.plot(N_spx_range, self.beta_func_quad(N_spx_range, a, b), c='k', ls='--', label='Sarzi+2018')\n",
    "\n",
    "        plt.tick_params(axis='both', which='both', direction='in', top=True, right=True, length=7)\n",
    "        plt.ylabel(r'$\\beta$ (rN/N)')\n",
    "        plt.xlabel('Mode $N_{spx}$')\n",
    "        # {x:.2f}\n",
    "        plt.legend(handles=color_patches, fontsize='xx-large', loc='upper center', frameon=False)\n",
    "\n",
    "        plt.figtext(x=0.15, y=0.50, s='Parameter Fits\\n', fontsize=16)\n",
    "        text_str = f'a = {a:.2f}, b = {b:.2f}'\n",
    "        plt.figtext(x=0.15, y=0.49, s=text_str, fontsize=16)\n",
    "\n",
    "        wv_range = self.wv_dict[f'WAVE_CHANNEL{wv_channel}'][\"wv_range\"]\n",
    "        plt.title(f'Wavelength Channel {wv_channel} ({wv_range[0]}-'\n",
    "                  f'{wv_range[1]} $\\mathrm{{\\AA}}$)', fontsize=22)\n",
    "\n",
    "        # save the figure if save_plot is True\n",
    "        if save_plot:\n",
    "            # create historgram directory if it doesn't exist already\n",
    "            beta_violin_dir = os.path.join(self.output_beta_dir, 'beta_violin_plots')\n",
    "            if not os.path.isdir(beta_violin_dir):\n",
    "                os.makedirs(beta_violin_dir)\n",
    "\n",
    "            file_name = f'beta_violin_{wv_range[0]}_{wv_range[1]}.png'\n",
    "            # save the figure image\n",
    "            plt.savefig(f'{beta_violin_dir}/{file_name}', bbox_inches='tight')\n",
    "            logging.info(f'Saving {file_name} to {beta_violin_dir}')\n",
    "\n",
    "        # don't show the plot if show_plot is False\n",
    "        if not show_plot:\n",
    "            plt.close()\n",
    "\n",
    "    def mk_hist_plots(self, show_plots=False, save_plots=True):\n",
    "\n",
    "        # create histogram plots for all the wavelength channels\n",
    "        for i in range(len(self.wv_dict.keys())):\n",
    "            self.mk_hist_plot(wv_channel=i, show_plot=show_plots, save_plot=save_plots)\n",
    "\n",
    "    def mk_violin_plots(self, show_plots=False, save_plots=True):\n",
    "\n",
    "        # create violin plots for all the wavelength channels\n",
    "        for i in range(len(self.wv_dict.keys())):\n",
    "            self.mk_violin_plot(wv_channel=i, show_plot=show_plots, save_plot=save_plots)\n",
    "\n",
    "##############################################################################################################\n",
    "##############################################################################################################\n",
    "\n",
    "\n",
    "\n",
    "    def mk_violin_plot_paper(self, wv_channel, show_plot=True, save_plot=False):\n",
    "        # create violin plots for each wavelength channel\n",
    "\n",
    "        # dictionary containing all the bin sizes and beta values for each\n",
    "        # wavelength channel\n",
    "        beta_all_dict = self.wv_dict[f'WAVE_CHANNEL{wv_channel}']['beta_all_dict']\n",
    "\n",
    "        # slightly offset each violin plot within the same S/N channel\n",
    "        x_offset = [-3, -1, 1, 3]\n",
    "        #colors = ['tab:blue', 'tab:orange', 'tab:green', 'tab:red']\n",
    "        colors = ['xkcd:raspberry', 'xkcd:dark beige', 'xkcd:dark slate blue', 'xkcd:dark mint green']\n",
    "        # get all the bin modes for each S/N channel\n",
    "        bin_mode_all = []\n",
    "\n",
    "        plt.figure(figsize=(10, 6))\n",
    "        # legend patches\n",
    "        color_patches = []\n",
    "        color_patches.append(plt.Line2D([], [], color='k', ls=\"--\", label='Sarzi+2018'))\n",
    "\n",
    "        # loop through each S/N channel and create a violin plot\n",
    "        # for each non-zero array using the beta distribution and bin size mode\n",
    "        for i, SN_key in enumerate(beta_all_dict.keys()):\n",
    "            SN_range = beta_all_dict[SN_key]['SN_range']\n",
    "            bin_modes = np.array(beta_all_dict[SN_key]['bin_modes'])\n",
    "            beta_all = beta_all_dict[SN_key]['beta_all']\n",
    "\n",
    "            # check to see if there are any beta distributions for the given\n",
    "            # S/N range\n",
    "            if np.all(bin_modes == -999):\n",
    "                logging.info(f'No beta distributions for S/N range between {SN_range[0]}-{SN_range[1]}')\n",
    "                continue\n",
    "            else:\n",
    "                for bin_mode, betas in zip(bin_modes, beta_all):\n",
    "                    # if array empty, skip\n",
    "                    if bin_mode != 9:\n",
    "                        continue\n",
    "                    else:\n",
    "                        bin_mode_all.append(bin_mode)\n",
    "                        violinplots = plt.violinplot(betas, positions=[bin_mode + x_offset[i]],\n",
    "                                                     showmedians=True, widths=7)\n",
    "\n",
    "                        # configure each individiual violin plot colors\n",
    "                        for partname in ('cbars', 'cmins', 'cmaxes', 'cmedians', 'bodies'):\n",
    "                            violin = violinplots[partname]\n",
    "                            if partname == 'bodies':\n",
    "                                for vp in violin:\n",
    "                                    vp.set_color(colors[i])\n",
    "                                    vp.set_facecolor(colors[i])\n",
    "                                    vp.set_edgecolor(colors[i])\n",
    "                                    vp.set_alpha(0.2)\n",
    "                                    #vp.set_label('uhh')L\n",
    "\n",
    "                            else:\n",
    "                                violin.set_edgecolor(colors[i])\n",
    "                                violin.set_linewidth(2)\n",
    "\n",
    "                        if SN_key == 'SN_CHANNEL3':\n",
    "                            SN_str = f'{SN_range[0]} < SN'\n",
    "                        else:\n",
    "                            SN_str = f'{SN_range[0]} < SN < {SN_range[1]}'\n",
    "\n",
    "                        # add to legend handle\n",
    "                        if bin_modes[bin_modes > -999][-1] == bin_mode:\n",
    "                            c_patch = mpatches.Patch(color=colors[i], label=SN_str)\n",
    "                            color_patches.append(c_patch)\n",
    "\n",
    "        # Sarzi+2018 fit parameters\n",
    "        a = self.wv_dict[f'WAVE_CHANNEL{wv_channel}']['beta_table']['param_fit_a'][0]\n",
    "        b = self.wv_dict[f'WAVE_CHANNEL{wv_channel}']['beta_table']['param_fit_b'][0]\n",
    "\n",
    "        # show Sarzi relation against violin plots\n",
    "        N_spx_range = np.arange(0, bin_mode_all[-1] + x_offset[-1] + 1)\n",
    "        plt.plot(N_spx_range, self.beta_func_quad(N_spx_range, a, b), c='k', ls='--', label='Sarzi+2018')\n",
    "\n",
    "        plt.tick_params(axis='both', which='both', direction='in', top=True, right=True, length=7)\n",
    "        plt.ylabel(r'$\\beta$ (rN/N)')\n",
    "        plt.xlabel('Mode $N_{spx}$')\n",
    "        # {x:.2f}\n",
    "        plt.legend(handles=color_patches, fontsize='xx-large', loc='upper center', frameon=False)\n",
    "\n",
    "        plt.figtext(x=0.15, y=0.50, s='Parameter Fits\\n', fontsize=16)\n",
    "        text_str = f'a = {a:.2f}, b = {b:.2f}'\n",
    "        plt.figtext(x=0.15, y=0.49, s=text_str, fontsize=16)\n",
    "\n",
    "        wv_range = self.wv_dict[f'WAVE_CHANNEL{wv_channel}'][\"wv_range\"]\n",
    "        #plt.title(f'Wavelength Channel {wv_channel} ({wv_range[0]}-'\n",
    "         #         f'{wv_range[1]} $\\mathrm{{\\AA}}$)', fontsize=22)\n",
    "\n",
    "        # save the figure if save_plot is True\n",
    "        if save_plot:\n",
    "            # create historgram directory if it doesn't exist already\n",
    "            beta_violin_dir = \"paper/paper-plots/NGC4030\"\n",
    "\n",
    "            file_name = f'beta_violin_NGC4030_{wv_range[0]}_{wv_range[1]}.png'\n",
    "            # save the figure image\n",
    "            plt.savefig(f'{beta_violin_dir}/{file_name}', bbox_inches='tight',dpi=400)\n",
    "            logging.info(f'Saving {file_name} to {beta_violin_dir}')\n",
    "\n",
    "        # don't show the plot if show_plot is False\n",
    "        if not show_plot:\n",
    "            plt.close()\n",
    "\n",
    "##############################################################################################################\n",
    "##############################################################################################################\n",
    "\n",
    "    \n",
    "    def mk_hist_plot_paper(self, wv_channel, show_plot=True, save_plot=False):\n",
    "        # wavelength channel dictionary\n",
    "        wv_dict = self.wv_dict[f'WAVE_CHANNEL{wv_channel}']\n",
    "\n",
    "        beta_bins = np.arange(0, 15, 0.2)\n",
    "        #median_colors = ['tab:blue', 'tab:orange', 'tab:green', 'tab:red']\n",
    "        median_colors = ['xkcd:raspberry', 'xkcd:dark beige', 'xkcd:dark slate blue', 'xkcd:dark mint green']\n",
    "\n",
    "        plt.figure()\n",
    "        \n",
    "        #fig, ((ax1, ax2), (ax3, ax4)) = plt.subplots(2, 2, figsize=(14, 10))\n",
    "        #fig.tight_layout(pad=4.0)\n",
    "\n",
    "        N_spx_dict = wv_dict['N_spx_dict']\n",
    "\n",
    "    #for N_spx_key, ax in zip(N_spx_dict.keys(), fig.get_axes()):\n",
    "        N_spx_key = 'N_spx_CHANNEL1'\n",
    "        N_spx_range = N_spx_dict[N_spx_key]['N_spx_range']\n",
    "        SN_dict = N_spx_dict[N_spx_key]['SN_dict']\n",
    "        for i, SN_key in enumerate(SN_dict.keys()):\n",
    "            SN_range = SN_dict[SN_key]['SN_range']\n",
    "            beta_SN_bin = SN_dict[SN_key]['beta_bin']\n",
    "\n",
    "            if SN_key == 'SN_CHANNEL3':\n",
    "                label = f'{SN_range[0]} < SN'\n",
    "            else:\n",
    "                label = f'{SN_range[0]} < SN < {SN_range[1]}'\n",
    "\n",
    "            plt.hist(beta_SN_bin, bins=beta_bins, label=label, color=median_colors[i], linewidth=2,\n",
    "                    histtype='step', stacked=False, alpha=1, fill=False)\n",
    "            plt.tick_params(axis='both', which='both', direction='in', top=True, right=True, length=5)\n",
    "            plt.xticks(np.arange(1, 10))\n",
    "\n",
    "            if np.isnan(np.median(beta_SN_bin)) == True:\n",
    "                continue\n",
    "            else:\n",
    "                plt.vlines(np.median(beta_SN_bin), ymin=0, ymax=800, linestyles='--', colors=median_colors[i], linewidths=1.5)\n",
    "\n",
    "        #if N_spx_key == 'N_spx_CHANNEL0':\n",
    "            #ax.set_title(f'$N_{{ \\mathrm{{spax}} }}$ < {N_spx_range[1]}', fontsize=22)\n",
    "            plt.legend(fontsize=20,frameon=False)\n",
    "\n",
    "        #elif N_spx_key == 'N_spx_CHANNEL3':\n",
    "         #   ax.set_title(f'$N_{{ \\mathrm{{spax}} }}$ > {N_spx_range[1]}', fontsize=22)\n",
    "\n",
    "        #else:\n",
    "         #   ax.set_title(f'{N_spx_range[0]} < $N_{{\\mathrm{{spax}}}}$ < {N_spx_range[1]}', fontsize=22)\n",
    "\n",
    "        plt.xlim(0, 10)\n",
    "        plt.xlabel(r'$\\beta$ (rN/N)', fontsize=22)\n",
    "        plt.ylabel('Counts')\n",
    "\n",
    "        #fig.suptitle(f' $\\\\beta$ Histograms for Wavelength Channel {wv_channel} ({wv_dict[\"wv_range\"][0]}-'\n",
    "         #            f'{wv_dict[\"wv_range\"][1]} $\\mathrm{{\\AA}}$)', fontsize=25, y=1.03)\n",
    "\n",
    "        # save the figure if save_plot is True\n",
    "        if save_plot:\n",
    "            # create historgram directory if it doesn't exist already\n",
    "            beta_hist_dir = \"paper/paper-plots/NGC4030\"\n",
    "            file_name = f'beta_hist_NGC4030_{wv_dict[\"wv_range\"][0]}_{wv_dict[\"wv_range\"][1]}.png'\n",
    "            # save the figure image\n",
    "            plt.savefig(f'{beta_hist_dir}/{file_name}', bbox_inches='tight',dpi=400)\n",
    "            logging.info(f'Saving {file_name} to {beta_hist_dir}')\n",
    "\n",
    "        # don't show the plot if show_plot is False\n",
    "        if not show_plot:\n",
    "            plt.close()\n",
    "            logging.info('Not displaying plot!')\n",
    "\n",
    "\n",
    "\n",
    "##############################################################################################################\n",
    "##############################################################################################################\n",
    "##############################################################################################################\n",
    "##############################################################################################################\n",
    "    \n",
    "\n",
    "    def make_scatter_plot(self, wv_channel, show_plot=False, save_plot=False):\n",
    "        beta_all_dict = self.wv_dict[f'WAVE_CHANNEL{wv_channel}']['beta_all_dict']\n",
    "        wv_dict = self.wv_dict[f'WAVE_CHANNEL{wv_channel}']\n",
    "        beta_bins = np.arange(0, 15, 0.2)\n",
    "        N_spx_dict = wv_dict['N_spx_dict']\n",
    "\n",
    "        colors = ['xkcd:raspberry', 'xkcd:dark beige', 'xkcd:dark slate blue', 'xkcd:dark mint green']\n",
    "        bin_mode_all = []\n",
    "        \n",
    "        color_patches = []\n",
    "        color_patches.append(plt.Line2D([], [], color='k', ls=\"--\", label='Sarzi+2018'))\n",
    "\n",
    "\n",
    "\n",
    "        fig, ax = plt.subplots(1,2, figsize=(8,4), sharey=True)\n",
    "        plt.subplots_adjust(wspace=0)\n",
    "\n",
    "        #x1, x2, y1, y2 = 8.8, 9.2, 2, 2.6\n",
    "        #axins = ax[0].inset_axes([.12,.37,.33,.33], xlim=(x1,x2),ylim=(y1,y2))\n",
    "        for N_spx_key in N_spx_dict.keys():\n",
    "            #N_spx_key = 'N_spx_CHANNEL1'\n",
    "            N_spx_range = N_spx_dict[N_spx_key]['N_spx_range']\n",
    "            SN_dict = N_spx_dict[N_spx_key]['SN_dict']\n",
    "            for i, SN_key in enumerate(SN_dict.keys()):\n",
    "                SN_range = SN_dict[SN_key]['SN_range']\n",
    "                beta_SN_bin = SN_dict[SN_key]['beta_bin']\n",
    "    \n",
    "                if SN_key == 'SN_CHANNEL3':\n",
    "                    label = f'{SN_range[0]} < SN'\n",
    "                else:\n",
    "                    label = f'{SN_range[0]} < SN < {SN_range[1]}'\n",
    "    \n",
    "                ax[1].hist(beta_SN_bin, bins=beta_bins, label=label, color=colors[i], linewidth=2,\n",
    "                        histtype='step', stacked=False, alpha=1, fill=False, orientation='horizontal')\n",
    "                ax[1].tick_params(axis='both', which='both', direction='in', top=True, right=True, length=5)\n",
    "                #ax[1].set_xticks(np.arange(1, 10))\n",
    "    \n",
    "                if np.isnan(np.median(beta_SN_bin)) == True:\n",
    "                    continue\n",
    "                \n",
    "                    #ax[1].axvline(np.median(beta_SN_bin), ls='--', c=colors[i], lw=1.5)\n",
    "    \n",
    "            #if N_spx_key == 'N_spx_CHANNEL0':\n",
    "                #ax.set_title(f'$N_{{ \\mathrm{{spax}} }}$ < {N_spx_range[1]}', fontsize=22)\n",
    "    \n",
    "            #elif N_spx_key == 'N_spx_CHANNEL3':\n",
    "             #   ax.set_title(f'$N_{{ \\mathrm{{spax}} }}$ > {N_spx_range[1]}', fontsize=22)\n",
    "    \n",
    "            #else:\n",
    "             #   ax.set_title(f'{N_spx_range[0]} < $N_{{\\mathrm{{spax}}}}$ < {N_spx_range[1]}', fontsize=22)\n",
    "\n",
    "        #ax[1].set_ylim(0, 10)\n",
    "        #ax[1].set_ylabel(r'$\\beta$ (rN/N)', fontsize=22)\n",
    "        ax[1].set_xlabel('Counts')\n",
    "        #ax[1].legend(fontsize=13,frameon=False)\n",
    "\n",
    "        #fig.suptitle(f' $\\\\beta$ Histograms for Wavelength Channel {wv_channel} ({wv_dict[\"wv_range\"][0]}-'\n",
    "         #            f'{wv_dict[\"wv_range\"][1]} $\\mathrm{{\\AA}}$)', fontsize=25, y=1.03)\n",
    "\n",
    "\n",
    "        \n",
    "        for i, SN_key in enumerate(beta_all_dict.keys()):\n",
    "            SN_range = beta_all_dict[SN_key]['SN_range']\n",
    "            bin_modes = np.array(beta_all_dict[SN_key]['bin_modes'])\n",
    "            beta_all = beta_all_dict[SN_key]['beta_all']\n",
    "\n",
    "            # check to see if there are any beta distributions for the given\n",
    "            # S/N range\n",
    "            if np.all(bin_modes == -999):\n",
    "                logging.info(f'No beta distributions for S/N range between {SN_range[0]}-{SN_range[1]}')\n",
    "                continue\n",
    "            else:\n",
    "                for bin_mode, betas in zip(bin_modes, beta_all):\n",
    "                    if bin_mode == -999:\n",
    "                        continue\n",
    "                        \n",
    "                    percentiles = np.abs(np.percentile(betas, [15.87,84.13]) - np.median(betas))\n",
    "                    err=percentiles.reshape(2,1)\n",
    "                    #print(err)\n",
    "                    ax[0].errorbar(bin_mode,np.median(betas),yerr=err,fmt='o',ecolor=colors[i],\n",
    "                                   mfc=colors[i],mec='k',mew=.75,ms=5,capsize=9,capthick=10)\n",
    "                    #axins.errorbar(9,np.median(betas),yerr=np.std(betas),fmt='o',ecolor=colors[i],mfc=colors[i],mec='k',mew=.75,ms=5,capsize=5)\n",
    "                    #axins.scatter(bin_mode, np.median(betas), s=50, c=colors[i], edgecolors='k', linewidths=1)\n",
    "                    if SN_key == 'SN_CHANNEL3':\n",
    "                        SN_str = f'{SN_range[0]} < SN'\n",
    "                    else:\n",
    "                        SN_str = f'{SN_range[0]} < SN < {SN_range[1]}'\n",
    "\n",
    "                    # add to legend handle\n",
    "                    if bin_modes[bin_modes > -999][-1] == bin_mode:\n",
    "                        c_patch = mpatches.Patch(color=colors[i], label=SN_str)\n",
    "                        color_patches.append(c_patch)\n",
    "\n",
    "        # Sarzi+2018 fit parameters\n",
    "        a = self.wv_dict[f'WAVE_CHANNEL{wv_channel}']['beta_table']['param_fit_a'][0]\n",
    "        b = self.wv_dict[f'WAVE_CHANNEL{wv_channel}']['beta_table']['param_fit_b'][0]\n",
    "\n",
    "        # show Sarzi relation against violin plots\n",
    "        N_spx_range = np.arange(0, 15)\n",
    "        ax[0].plot(N_spx_range, self.beta_func_quad(N_spx_range, a, b), c='k', ls='--', label='Sarzi+2018')\n",
    "\n",
    "        ax[0].tick_params(axis='both', which='both', direction='in', top=True, right=True, length=7)\n",
    "        ax[0].set_ylabel(r'$\\beta$ (rN/N)')\n",
    "        ax[0].set_xlabel('Mode $N_{spx}$')\n",
    "        ax[0].set_ylim(1,5)\n",
    "        # {x:.2f}\n",
    "        ax[0].legend(fontsize=20, loc='upper center', frameon=False)\n",
    "\n",
    "        #fig.text(x=0.15, y=0.50, s='Parameter Fits\\n', fontsize=16, transform=ax[0].transAxes)\n",
    "        text_str = f'$a$ = {a:.2f}, $b$ = {b:.2f}'\n",
    "        fig.text(x=0.15, y=0.77, s=text_str, fontsize=16, transform=ax[0].transAxes)\n",
    "\n",
    "        wv_range = self.wv_dict[f'WAVE_CHANNEL{wv_channel}'][\"wv_range\"]\n",
    "\n",
    "        \n",
    "        #axins.plot(N_spx_range, self.beta_func_quad(N_spx_range, a, b), c='k', ls='--')\n",
    "\n",
    "        #plt.setp(axins.get_xticklabels(), visible=True, fontsize=11)\n",
    "        #plt.setp(axins.get_yticklabels(), visible=True, fontsize=11)\n",
    "        #axins.tick_params(which='minor', length=5)\n",
    "        #axins.tick_params(which='major', length=8)\n",
    "\n",
    "        #divider = make_axes_locatable(ax[0])\n",
    "        #mark_inset(ax[0], axins, loc1=3, loc2=4, fc='none', ec='black', linewidth=0.5)\n",
    "        # save the figure if save_plot is True\n",
    "        if save_plot:\n",
    "            # create historgram directory if it doesn't exist already\n",
    "            beta_hist_dir = \"paper/paper-plots/NGC4030\"\n",
    "            file_name = f'beta_NGC4030_{wv_dict[\"wv_range\"][0]}_{wv_dict[\"wv_range\"][1]}.png'\n",
    "            # save the figure image\n",
    "            plt.savefig(f'{beta_hist_dir}/{file_name}', bbox_inches='tight',dpi=500)\n",
    "            logging.info(f'Saving {file_name} to {beta_hist_dir}')\n",
    "\n",
    "            file_name = f'beta_NGC4030_{wv_dict[\"wv_range\"][0]}_{wv_dict[\"wv_range\"][1]}.pdf'\n",
    "            # save the figure image\n",
    "            plt.savefig(f'{beta_hist_dir}/{file_name}', bbox_inches='tight',dpi=500)\n",
    "            logging.info(f'Saving {file_name} to {beta_hist_dir}')\n",
    "        # don't show the plot if show_plot is False\n",
    "        if not show_plot:\n",
    "            plt.close()\n",
    "            logging.info('Not displaying plot!')\n",
    "\n",
    "\n",
    "    def make_scatter_plot_only(self, wv_channel, show_plot=False, save_plot=False):\n",
    "            beta_all_dict = self.wv_dict[f'WAVE_CHANNEL{wv_channel}']['beta_all_dict']\n",
    "            wv_dict = self.wv_dict[f'WAVE_CHANNEL{wv_channel}']\n",
    "            beta_bins = np.arange(0, 15, 0.2)\n",
    "            N_spx_dict = wv_dict['N_spx_dict']\n",
    "    \n",
    "            colors = ['xkcd:raspberry', 'xkcd:dark beige', 'xkcd:dark slate blue', 'xkcd:dark mint green']\n",
    "            bin_mode_all = []\n",
    "            \n",
    "            color_patches = []\n",
    "            color_patches.append(plt.Line2D([], [], color='k', ls=\"--\", label='Sarzi+2018'))\n",
    "    \n",
    "    \n",
    "    \n",
    "            fig, ax = plt.subplots(1, figsize=(5,5))\n",
    "            #plt.subplots_adjust(wspace=0)\n",
    "    \n",
    "            #x1, x2, y1, y2 = 8.8, 9.2, 2, 2.6\n",
    "            #axins = ax[0].inset_axes([.12,.37,.33,.33], xlim=(x1,x2),ylim=(y1,y2))\n",
    "            \n",
    "            \"\"\"for N_spx_key in N_spx_dict.keys():\n",
    "                #N_spx_key = 'N_spx_CHANNEL1'\n",
    "                N_spx_range = N_spx_dict[N_spx_key]['N_spx_range']\n",
    "                SN_dict = N_spx_dict[N_spx_key]['SN_dict']\n",
    "                for i, SN_key in enumerate(SN_dict.keys()):\n",
    "                    SN_range = SN_dict[SN_key]['SN_range']\n",
    "                    beta_SN_bin = SN_dict[SN_key]['beta_bin']\n",
    "        \n",
    "                    if SN_key == 'SN_CHANNEL3':\n",
    "                        label = f'{SN_range[0]} < SN'\n",
    "                    else:\n",
    "                        label = f'{SN_range[0]} < SN < {SN_range[1]}'\n",
    "        \n",
    "                    ax[1].hist(beta_SN_bin, bins=beta_bins, label=label, color=colors[i], linewidth=2,\n",
    "                            histtype='step', stacked=False, alpha=1, fill=False, orientation='horizontal')\n",
    "                    ax[1].tick_params(axis='both', which='both', direction='in', top=True, right=True, length=5)\n",
    "                    #ax[1].set_xticks(np.arange(1, 10))\n",
    "        \n",
    "                    if np.isnan(np.median(beta_SN_bin)) == True:\n",
    "                        continue\n",
    "                    \n",
    "                        #ax[1].axvline(np.median(beta_SN_bin), ls='--', c=colors[i], lw=1.5)\n",
    "        \n",
    "                #if N_spx_key == 'N_spx_CHANNEL0':\n",
    "                    #ax.set_title(f'$N_{{ \\mathrm{{spax}} }}$ < {N_spx_range[1]}', fontsize=22)\n",
    "        \n",
    "                #elif N_spx_key == 'N_spx_CHANNEL3':\n",
    "                 #   ax.set_title(f'$N_{{ \\mathrm{{spax}} }}$ > {N_spx_range[1]}', fontsize=22)\n",
    "        \n",
    "                #else:\n",
    "                 #   ax.set_title(f'{N_spx_range[0]} < $N_{{\\mathrm{{spax}}}}$ < {N_spx_range[1]}', fontsize=22)\n",
    "    \n",
    "            #ax[1].set_ylim(0, 10)\n",
    "            #ax[1].set_ylabel(r'$\\beta$ (rN/N)', fontsize=22)\n",
    "            ax[1].set_xlabel('Counts')\n",
    "            #ax[1].legend(fontsize=13,frameon=False)\n",
    "    \n",
    "            #fig.suptitle(f' $\\\\beta$ Histograms for Wavelength Channel {wv_channel} ({wv_dict[\"wv_range\"][0]}-'\n",
    "             #            f'{wv_dict[\"wv_range\"][1]} $\\mathrm{{\\AA}}$)', fontsize=25, y=1.03)\"\"\"\n",
    "    \n",
    "    \n",
    "            x_offset = [-.5, 0 , .5, 1]\n",
    "            for i, SN_key in enumerate(beta_all_dict.keys()):\n",
    "                SN_range = beta_all_dict[SN_key]['SN_range']\n",
    "                bin_modes = np.array(beta_all_dict[SN_key]['bin_modes'])\n",
    "                beta_all = beta_all_dict[SN_key]['beta_all']\n",
    "    \n",
    "                # check to see if there are any beta distributions for the given\n",
    "                # S/N range\n",
    "                if np.all(bin_modes == -999):\n",
    "                    logging.info(f'No beta distributions for S/N range between {SN_range[0]}-{SN_range[1]}')\n",
    "                    continue\n",
    "                else:\n",
    "                    for bin_mode, betas in zip(bin_modes, beta_all):\n",
    "                        if bin_mode == -999:\n",
    "                            continue\n",
    "                            \n",
    "                        percentiles = np.abs(np.percentile(betas, [15.87,84.13]) - np.median(betas))\n",
    "                        err=percentiles.reshape(2,1)\n",
    "                        #print(err)\n",
    "                        #ax.errorbar(bin_mode + x_offset[i],np.median(betas),yerr=err,fmt='o',ecolor=colors[i],\n",
    "                         #              mfc=colors[i],mec='k',mew=.75,ms=6,capsize=9,capthick=10)\n",
    "                        ax.scatter(bin_mode, np.median(betas), c=colors[i], edgecolors='k')\n",
    "                        #axins.errorbar(9,np.median(betas),yerr=np.std(betas),fmt='o',ecolor=colors[i],mfc=colors[i],mec='k',mew=.75,ms=5,capsize=5)\n",
    "                        #axins.scatter(bin_mode, np.median(betas), s=50, c=colors[i], edgecolors='k', linewidths=1)\n",
    "                        if SN_key == 'SN_CHANNEL3':\n",
    "                            SN_str = f'{SN_range[0]} < SN'\n",
    "                        else:\n",
    "                            SN_str = f'{SN_range[0]} < SN < {SN_range[1]}'\n",
    "    \n",
    "                        # add to legend handle\n",
    "                        if bin_modes[bin_modes > -999][-1] == bin_mode:\n",
    "                            c_patch = mpatches.Patch(color=colors[i], label=SN_str)\n",
    "                            color_patches.append(c_patch)\n",
    "    \n",
    "            # Sarzi+2018 fit parameters\n",
    "            a = self.wv_dict[f'WAVE_CHANNEL{wv_channel}']['beta_table']['param_fit_a'][0]\n",
    "            b = self.wv_dict[f'WAVE_CHANNEL{wv_channel}']['beta_table']['param_fit_b'][0]\n",
    "\n",
    "\n",
    "            # show Sarzi relation against violin plots\n",
    "            N_spx_range = np.linspace(0, 15, 1000)\n",
    "            ax.plot(N_spx_range, self.beta_func_quad(N_spx_range, a, b), c='k', ls='--', label='Sarzi+2018')\n",
    "    \n",
    "            ax.tick_params(axis='both', which='both', direction='in', top=True, right=True, length=7)\n",
    "            ax.set_ylabel(r'$\\beta$ (rN/N)')\n",
    "            ax.set_xlabel('Mode $N_{spx}$')\n",
    "            #ax.set_ylim(1,3.5)\n",
    "            ax.set_xlim(0,15)\n",
    "            # {x:.2f}\n",
    "\n",
    "            #legends = []\n",
    "            #for color in colors:\n",
    "             #   lin = mlines.Line2D([], [], linestyle='none', marker='o', markersize=10,\n",
    "              #                     mfc = color, mec='k', label='')\n",
    "               # legends.append(lin)\n",
    "                \n",
    "            ax.legend(handles=color_patches, fontsize=8, loc='lower right', frameon=False)\n",
    "    \n",
    "            #fig.text(x=0.15, y=0.50, s='Parameter Fits\\n', fontsize=16, transform=ax[0].transAxes)\n",
    "            text_str = f'$a$ = {a:.2f}, $b$ = {b:.2f}'\n",
    "            fig.text(x=0.1, y=0.77, s=text_str, fontsize=16, transform=ax.transAxes)\n",
    "    \n",
    "            wv_range = self.wv_dict[f'WAVE_CHANNEL{wv_channel}'][\"wv_range\"]\n",
    "    \n",
    "            \n",
    "            #axins.plot(N_spx_range, self.beta_func_quad(N_spx_range, a, b), c='k', ls='--')\n",
    "    \n",
    "            #plt.setp(axins.get_xticklabels(), visible=True, fontsize=11)\n",
    "            #plt.setp(axins.get_yticklabels(), visible=True, fontsize=11)\n",
    "            #axins.tick_params(which='minor', length=5)\n",
    "            #axins.tick_params(which='major', length=8)\n",
    "    \n",
    "            #divider = make_axes_locatable(ax[0])\n",
    "            #mark_inset(ax[0], axins, loc1=3, loc2=4, fc='none', ec='black', linewidth=0.5)\n",
    "            # save the figure if save_plot is True\n",
    "            if save_plot:\n",
    "                # create historgram directory if it doesn't exist already\n",
    "                beta_hist_dir = \"paper/paper-plots/NGC4030\"\n",
    "                file_name = f'beta_NGC4030_{wv_dict[\"wv_range\"][0]}_{wv_dict[\"wv_range\"][1]}.png'\n",
    "                # save the figure image\n",
    "                plt.savefig(f'{beta_hist_dir}/{file_name}', bbox_inches='tight',dpi=500)\n",
    "                logging.info(f'Saving {file_name} to {beta_hist_dir}')\n",
    "    \n",
    "                file_name = f'beta_NGC4030_{wv_dict[\"wv_range\"][0]}_{wv_dict[\"wv_range\"][1]}.pdf'\n",
    "                # save the figure image\n",
    "                plt.savefig(f'{beta_hist_dir}/{file_name}', bbox_inches='tight',dpi=500)\n",
    "                logging.info(f'Saving {file_name} to {beta_hist_dir}')\n",
    "            # don't show the plot if show_plot is False\n",
    "            if not show_plot:\n",
    "                plt.close()\n",
    "                logging.info('Not displaying plot!')"
   ]
  },
  {
   "cell_type": "code",
   "execution_count": 152,
   "id": "9626779f-cc99-4ef3-b5f4-6b18b402d058",
   "metadata": {},
   "outputs": [
    {
     "name": "stderr",
     "output_type": "stream",
     "text": [
      " RuntimeWarning: divide by zero encountered in divide\n",
      " UserWarning: Warning: 'partition' will ignore the 'mask' of the MaskedArray.\n",
      " RuntimeWarning: invalid value encountered in divide\n",
      " RuntimeWarning: invalid value encountered in divide\n",
      " RuntimeWarning: invalid value encountered in divide\n",
      " RuntimeWarning: invalid value encountered in divide\n",
      "INFO:root:Writing beta_corr_4751.42_5212.dat to /Users/apitts4030/Repo/mangadap_muse/mangadap/data/beta_tables/NGC4030-SQUARE0.6\n",
      "INFO:root:Writing beta_corr_5212_5672.dat to /Users/apitts4030/Repo/mangadap_muse/mangadap/data/beta_tables/NGC4030-SQUARE0.6\n",
      "INFO:root:Writing beta_corr_5672_6132.dat to /Users/apitts4030/Repo/mangadap_muse/mangadap/data/beta_tables/NGC4030-SQUARE0.6\n",
      "INFO:root:Writing beta_corr_6132_6592.dat to /Users/apitts4030/Repo/mangadap_muse/mangadap/data/beta_tables/NGC4030-SQUARE0.6\n",
      "INFO:root:Writing beta_corr_6592_7052.dat to /Users/apitts4030/Repo/mangadap_muse/mangadap/data/beta_tables/NGC4030-SQUARE0.6\n",
      "INFO:root:Writing beta_corr_7052_7513.dat to /Users/apitts4030/Repo/mangadap_muse/mangadap/data/beta_tables/NGC4030-SQUARE0.6\n",
      "INFO:root:Writing beta_corr_7513_7973.dat to /Users/apitts4030/Repo/mangadap_muse/mangadap/data/beta_tables/NGC4030-SQUARE0.6\n",
      "INFO:root:Writing beta_corr_7973_8433.dat to /Users/apitts4030/Repo/mangadap_muse/mangadap/data/beta_tables/NGC4030-SQUARE0.6\n",
      "INFO:root:Writing beta_corr_8433_8893.dat to /Users/apitts4030/Repo/mangadap_muse/mangadap/data/beta_tables/NGC4030-SQUARE0.6\n",
      "INFO:root:Writing beta_corr_8893_9353.44.dat to /Users/apitts4030/Repo/mangadap_muse/mangadap/data/beta_tables/NGC4030-SQUARE0.6\n"
     ]
    }
   ],
   "source": [
    "cube = CubeData(galname=\"NGC4030\",bin_key=\"SQUARE0.6\", nspax_list=[[1, 4], [4, 7], [7, 10], [10, 12]])\n",
    "cube.get_beta()\n",
    "ranges = cube.create_beta_tables()"
   ]
  },
  {
   "cell_type": "code",
   "execution_count": 153,
   "id": "4b8fac06-ef4d-41a3-beb3-73d3fc5eb93a",
   "metadata": {},
   "outputs": [
    {
     "data": {
      "text/plain": [
       "{'WAVE_CHANNEL0': {'1': 1.0,\n",
       "  '2': 1.385302393699324,\n",
       "  '3': 1.4279097305477069,\n",
       "  '4': 1.4511858429120723,\n",
       "  '5': 1.4667847778759497,\n",
       "  '6': 1.4783328213720068,\n",
       "  '7': 1.487408106808793,\n",
       "  '8': 1.4948309338178343,\n",
       "  '9': 1.501078673853522,\n",
       "  '10': 1.5064519449342115,\n",
       "  '12': 1.5153174513520469},\n",
       " 'WAVE_CHANNEL1': {'1': 1.0,\n",
       "  '2': 1.5548537942488982,\n",
       "  '3': 1.7620930113393203,\n",
       "  '4': 1.8945668685425092,\n",
       "  '5': 1.9914669359602706,\n",
       "  '6': 2.067562273277386,\n",
       "  '7': 2.130035334211902,\n",
       "  '8': 2.1829164374217127,\n",
       "  '9': 2.2286897300843336,\n",
       "  '10': 2.268992350076836,\n",
       "  '12': 2.3374074587855764},\n",
       " 'WAVE_CHANNEL2': {'1': 1.0,\n",
       "  '2': 1.217754857889259,\n",
       "  '3': 1.307552466059712,\n",
       "  '4': 1.366138763673876,\n",
       "  '5': 1.4094863326401628,\n",
       "  '6': 1.4437913873823365,\n",
       "  '7': 1.4721172919569394,\n",
       "  '8': 1.49620232524391,\n",
       "  '9': 1.5171268314262907,\n",
       "  '10': 1.5356074478166875,\n",
       "  '12': 1.5670965370666732},\n",
       " 'WAVE_CHANNEL3': {'1': 1.0,\n",
       "  '2': 1.4702057475285986,\n",
       "  '3': 1.817139934166645,\n",
       "  '4': 2.080195651756099,\n",
       "  '5': 2.2920529723126117,\n",
       "  '6': 2.4696149704512695,\n",
       "  '7': 2.622604577216637,\n",
       "  '8': 2.7571116445954877,\n",
       "  '9': 2.8772016471563644,\n",
       "  '10': 2.985724353430296,\n",
       "  '12': 3.1758545751836613},\n",
       " 'WAVE_CHANNEL4': {'1': 1.0,\n",
       "  '2': 1.6520952315049173,\n",
       "  '3': 1.7024174209675489,\n",
       "  '4': 1.7292879678567252,\n",
       "  '5': 1.7470698022453548,\n",
       "  '6': 1.7601224902744765,\n",
       "  '7': 1.7703159086267797,\n",
       "  '8': 1.7786122288676651,\n",
       "  '9': 1.785567120836587,\n",
       "  '10': 1.7915283870745673,\n",
       "  '12': 1.8013239540066035},\n",
       " 'WAVE_CHANNEL5': {'1': 1.0,\n",
       "  '2': 1.18396283257886,\n",
       "  '3': 1.3400734689836349,\n",
       "  '4': 1.4637993997421628,\n",
       "  '5': 1.565983848751475,\n",
       "  '6': 1.6531001556136753,\n",
       "  '7': 1.729117554109163,\n",
       "  '8': 1.7966199486123076,\n",
       "  '9': 1.857379007334169,\n",
       "  '10': 1.9126616939604637,\n",
       "  '12': 2.0103238510949875},\n",
       " 'WAVE_CHANNEL6': {'1': 1.0,\n",
       "  '2': 1.6133965644219022,\n",
       "  '3': 1.82658635469353,\n",
       "  '4': 1.960971101727924,\n",
       "  '5': 2.0585020244489782,\n",
       "  '6': 2.13468889035119,\n",
       "  '7': 2.1969924004640524,\n",
       "  '8': 2.2495679424862436,\n",
       "  '9': 2.2949625837760026,\n",
       "  '10': 2.3348476205671447,\n",
       "  '12': 2.402381044645546},\n",
       " 'WAVE_CHANNEL7': {'1': 1.0,\n",
       "  '2': 1.177483405154734,\n",
       "  '3': 1.4015408272747623,\n",
       "  '4': 1.6064444882486983,\n",
       "  '5': 1.7901230551135332,\n",
       "  '6': 1.9556786236867865,\n",
       "  '7': 2.106243124297275,\n",
       "  '8': 2.2443613786418224,\n",
       "  '9': 2.372028113249815,\n",
       "  '10': 2.4908081332689447,\n",
       "  '12': 2.7064277108014028},\n",
       " 'WAVE_CHANNEL8': {'1': 1.0,\n",
       "  '2': 1.0924519240844675,\n",
       "  '3': 1.2772815782178393,\n",
       "  '4': 1.4828496766926922,\n",
       "  '5': 1.6892736490319717,\n",
       "  '6': 1.8903000000074992,\n",
       "  '7': 2.0839640961761434,\n",
       "  '8': 2.2698551337412662,\n",
       "  '9': 2.448161536075774,\n",
       "  '10': 2.61929798447597,\n",
       "  '12': 2.9420045268316937},\n",
       " 'WAVE_CHANNEL9': {'1': 1.0,\n",
       "  '2': 2.82915459524975,\n",
       "  '3': 3.1776829274182568,\n",
       "  '4': 3.378187103789921,\n",
       "  '5': 3.51647099810555,\n",
       "  '6': 3.620841372692325,\n",
       "  '7': 3.70404539548821,\n",
       "  '8': 3.7728678684192762,\n",
       "  '9': 3.8313284550027094,\n",
       "  '10': 3.8819947184057804,\n",
       "  '12': 3.9663714764815983}}"
      ]
     },
     "execution_count": 153,
     "metadata": {},
     "output_type": "execute_result"
    }
   ],
   "source": [
    "ranges"
   ]
  },
  {
   "cell_type": "code",
   "execution_count": 128,
   "id": "1296bea0-9167-4ab6-86fc-5cd9aed87f15",
   "metadata": {
    "scrolled": true
   },
   "outputs": [
    {
     "name": "stderr",
     "output_type": "stream",
     "text": [
      " RuntimeWarning: divide by zero encountered in divide\n",
      " UserWarning: Warning: 'partition' will ignore the 'mask' of the MaskedArray.\n",
      " RuntimeWarning: invalid value encountered in divide\n",
      " RuntimeWarning: invalid value encountered in divide\n",
      " RuntimeWarning: invalid value encountered in divide\n",
      " RuntimeWarning: invalid value encountered in divide\n",
      "INFO:root:Writing beta_corr_4751.42_5212.dat to /Users/apitts4030/Repo/mangadap_muse/mangadap/data/beta_tables/NGC4030-SQUARE0.6\n",
      "INFO:root:Writing beta_corr_5212_5672.dat to /Users/apitts4030/Repo/mangadap_muse/mangadap/data/beta_tables/NGC4030-SQUARE0.6\n",
      "INFO:root:Writing beta_corr_5672_6132.dat to /Users/apitts4030/Repo/mangadap_muse/mangadap/data/beta_tables/NGC4030-SQUARE0.6\n",
      "INFO:root:Writing beta_corr_6132_6592.dat to /Users/apitts4030/Repo/mangadap_muse/mangadap/data/beta_tables/NGC4030-SQUARE0.6\n",
      "INFO:root:Writing beta_corr_6592_7052.dat to /Users/apitts4030/Repo/mangadap_muse/mangadap/data/beta_tables/NGC4030-SQUARE0.6\n",
      "INFO:root:Writing beta_corr_7052_7513.dat to /Users/apitts4030/Repo/mangadap_muse/mangadap/data/beta_tables/NGC4030-SQUARE0.6\n",
      "INFO:root:Writing beta_corr_7513_7973.dat to /Users/apitts4030/Repo/mangadap_muse/mangadap/data/beta_tables/NGC4030-SQUARE0.6\n",
      "INFO:root:Writing beta_corr_7973_8433.dat to /Users/apitts4030/Repo/mangadap_muse/mangadap/data/beta_tables/NGC4030-SQUARE0.6\n",
      " RuntimeWarning: divide by zero encountered in power\n",
      "INFO:root:Writing beta_corr_8433_8893.dat to /Users/apitts4030/Repo/mangadap_muse/mangadap/data/beta_tables/NGC4030-SQUARE0.6\n",
      " RuntimeWarning: divide by zero encountered in power\n",
      "INFO:root:Writing beta_corr_8893_9353.44.dat to /Users/apitts4030/Repo/mangadap_muse/mangadap/data/beta_tables/NGC4030-SQUARE0.6\n"
     ]
    }
   ],
   "source": [
    "cube2 = CubeData(galname=\"NGC4030\",bin_key=\"SQUARE0.6\", nspax_list=[[1, 1], [2, 2], [3, 3], [4, 4], [5, 5], [6, 6], [7,7], [8,8], [9,9], [10,10], [12,12]])\n",
    "cube2.get_beta()\n",
    "all_bins = cube2.create_beta_tables()"
   ]
  },
  {
   "cell_type": "code",
   "execution_count": 155,
   "id": "54560a9d-6958-4bc6-8475-e4797be6da9d",
   "metadata": {},
   "outputs": [
    {
     "name": "stderr",
     "output_type": "stream",
     "text": [
      " RuntimeWarning: divide by zero encountered in log10\n",
      " RuntimeWarning: invalid value encountered in power\n"
     ]
    },
    {
     "data": {
      "image/png": "[encoded data removed]",
      "text/plain": [
       "<Figure size 500x500 with 1 Axes>"
      ]
     },
     "metadata": {},
     "output_type": "display_data"
    }
   ],
   "source": [
    "wvchannel=9\n",
    "cube.make_scatter_plot_only(wvchannel,show_plot=True,save_plot=False)"
   ]
  },
  {
   "cell_type": "code",
   "execution_count": 146,
   "id": "b4a7d553-ae8e-4fc3-96cb-1e7a82e716e3",
   "metadata": {},
   "outputs": [
    {
     "name": "stderr",
     "output_type": "stream",
     "text": [
      " RuntimeWarning: divide by zero encountered in log10\n",
      " RuntimeWarning: invalid value encountered in power\n"
     ]
    },
    {
     "data": {
      "image/png": "[encoded data removed]",
      "text/plain": [
       "<Figure size 500x500 with 1 Axes>"
      ]
     },
     "metadata": {},
     "output_type": "display_data"
    }
   ],
   "source": [
    "cube2.make_scatter_plot_only(wvchannel,show_plot=True,save_plot=False)"
   ]
  },
  {
   "cell_type": "code",
   "execution_count": 142,
   "id": "5a01f265-9262-4182-a5cd-bf84474fc38b",
   "metadata": {},
   "outputs": [
    {
     "data": {
      "text/plain": [
       "{'WAVE_CHANNEL0': {'1': 1.0,\n",
       "  '2': 1.4167197882850435,\n",
       "  '3': 1.4917528514236227,\n",
       "  '4': 1.5346361125682721,\n",
       "  '5': 1.5641041844502213,\n",
       "  '6': 1.586290753120434,\n",
       "  '7': 1.6039457113835827,\n",
       "  '8': 1.6185282212792345,\n",
       "  '9': 1.6309007640636795,\n",
       "  '10': 1.6416132381309003,\n",
       "  '12': 1.659432088675187},\n",
       " 'WAVE_CHANNEL1': {'1': 1.0,\n",
       "  '2': 1.85036150383092,\n",
       "  '3': 2.010801984007289,\n",
       "  '4': 2.1029940654680193,\n",
       "  '5': 2.1665360351852287,\n",
       "  '6': 2.214473705737463,\n",
       "  '7': 2.252677255625337,\n",
       "  '8': 2.2842694342413687,\n",
       "  '9': 2.3110995555426976,\n",
       "  '10': 2.3343484839759268,\n",
       "  '12': 2.3730578150630026},\n",
       " 'WAVE_CHANNEL2': {'1': 1.0,\n",
       "  '2': 1.4215981330618372,\n",
       "  '3': 1.587723657731902,\n",
       "  '4': 1.6950768297590924,\n",
       "  '5': 1.774081785949945,\n",
       "  '6': 1.8363798615759017,\n",
       "  '7': 1.887681808092995,\n",
       "  '8': 1.9312110843799135,\n",
       "  '9': 1.9689632490160727,\n",
       "  '10': 2.0022579804413727,\n",
       "  '12': 2.0588894900495367},\n",
       " 'WAVE_CHANNEL3': {'1': 1.0,\n",
       "  '2': 1.5770669114561846,\n",
       "  '3': 1.9280322761939601,\n",
       "  '4': 2.1796812519658895,\n",
       "  '5': 2.3760393446332895,\n",
       "  '6': 2.5371223610427016,\n",
       "  '7': 2.6737233520706774,\n",
       "  '8': 2.7923303449293186,\n",
       "  '9': 2.897149629810943,\n",
       "  '10': 2.9910645323187097,\n",
       "  '12': 3.1538976598684396},\n",
       " 'WAVE_CHANNEL4': {'1': 1.0,\n",
       "  '2': 1.2447299186164018,\n",
       "  '3': 1.4294463409620715,\n",
       "  '4': 1.5704829408128556,\n",
       "  '5': 1.684519689379122,\n",
       "  '6': 1.7803526736644146,\n",
       "  '7': 1.863087994358215,\n",
       "  '8': 1.935941927941376,\n",
       "  '9': 2.001070130282565,\n",
       "  '10': 2.059988175831088,\n",
       "  '12': 2.1633463924683074},\n",
       " 'WAVE_CHANNEL5': {'1': 1.0,\n",
       "  '2': 1.4567212139273265,\n",
       "  '3': 1.6126300835966232,\n",
       "  '4': 1.7105759817616137,\n",
       "  '5': 1.7815267388606157,\n",
       "  '6': 1.836879630083912,\n",
       "  '7': 1.8821028683175274,\n",
       "  '8': 1.9202366780310207,\n",
       "  '9': 1.9531421134680162,\n",
       "  '10': 1.9820390596610413,\n",
       "  '12': 2.030937247173302},\n",
       " 'WAVE_CHANNEL6': {'1': 1.0,\n",
       "  '2': 1.6798457398824653,\n",
       "  '3': 1.9398174525150735,\n",
       "  '4': 2.1067874542655645,\n",
       "  '5': 2.2292443804861866,\n",
       "  '6': 2.325581676173568,\n",
       "  '7': 2.4047780646904506,\n",
       "  '8': 2.4718847016347585,\n",
       "  '9': 2.530020863149539,\n",
       "  '10': 2.581245329841325,\n",
       "  '12': 2.6682759287258997},\n",
       " 'WAVE_CHANNEL7': {'1': 1.0,\n",
       "  '2': 1.5276676634160677,\n",
       "  '3': 1.8067640606926052,\n",
       "  '4': 1.999684153354232,\n",
       "  '5': 2.1471376227461683,\n",
       "  '6': 2.266422009081939,\n",
       "  '7': 2.366533016867163,\n",
       "  '8': 2.452751268246563,\n",
       "  '9': 2.5284416743464035,\n",
       "  '10': 2.5958802357523973,\n",
       "  '12': 2.7120171869281315},\n",
       " 'WAVE_CHANNEL8': {'1': 1.0,\n",
       "  '2': 2.119946049061253,\n",
       "  '3': 2.325549383339193,\n",
       "  '4': 2.4433173368792342,\n",
       "  '5': 2.5243435598710686,\n",
       "  '6': 2.585398961564296,\n",
       "  '7': 2.634013634158678,\n",
       "  '8': 2.6741873731796355,\n",
       "  '9': 2.7082862227753592,\n",
       "  '10': 2.7378196534137587,\n",
       "  '12': 2.786964414516839},\n",
       " 'WAVE_CHANNEL9': {'1': 1.0,\n",
       "  '2': 2.76529566047746,\n",
       "  '3': 2.7652956626366096,\n",
       "  '4': 2.7652956637269956,\n",
       "  '5': 2.7652956644266964,\n",
       "  '6': 2.7652956649297895,\n",
       "  '7': 2.765295665316706,\n",
       "  '8': 2.7652956656278525,\n",
       "  '9': 2.7652956658861454,\n",
       "  '10': 2.7652956661057235,\n",
       "  '12': 2.7652956664629684}}"
      ]
     },
     "execution_count": 142,
     "metadata": {},
     "output_type": "execute_result"
    }
   ],
   "source": [
    "all_bins"
   ]
  },
  {
   "cell_type": "code",
   "execution_count": null,
   "id": "23234f12-93d3-4d13-9fff-4d0024c2adde",
   "metadata": {},
   "outputs": [],
   "source": [
    "ranges"
   ]
  },
  {
   "cell_type": "code",
   "execution_count": 23,
   "id": "1881139b-4838-4113-aa94-4f5cf5e4d025",
   "metadata": {},
   "outputs": [
    {
     "name": "stdout",
     "output_type": "stream",
     "text": [
      "WAVE_CHANNEL0: dBeta = 0.030\n",
      "WAVE_CHANNEL1: dBeta = 0.011\n",
      "WAVE_CHANNEL2: dBeta = 0.053\n",
      "WAVE_CHANNEL3: dBeta = 0.013\n",
      "WAVE_CHANNEL4: dBeta = 0.039\n",
      "WAVE_CHANNEL5: dBeta = 0.006\n",
      "WAVE_CHANNEL6: dBeta = 0.041\n",
      "WAVE_CHANNEL7: dBeta = 0.036\n",
      "WAVE_CHANNEL8: dBeta = 0.004\n",
      "WAVE_CHANNEL9: dBeta = 0.196\n"
     ]
    }
   ],
   "source": [
    "for keyall,keyrange in zip(list(all_bins.keys()), list(ranges.keys())):\n",
    "    key=keyall\n",
    "    dbeta = abs(all_bins[keyall][2] - ranges[keyrange][2])\n",
    "    print(f\"{key}: dBeta = {dbeta:.3f}\")"
   ]
  },
  {
   "cell_type": "code",
   "execution_count": 57,
   "id": "c6e7ea17-428d-49b3-8e3a-5862a7d53d9a",
   "metadata": {},
   "outputs": [
    {
     "name": "stderr",
     "output_type": "stream",
     "text": [
      " RuntimeWarning: divide by zero encountered in divide\n"
     ]
    }
   ],
   "source": [
    "err = np.sqrt(1/cube['IVAR'].data)"
   ]
  },
  {
   "cell_type": "code",
   "execution_count": 58,
   "id": "58d63904-bbf1-4dff-ab26-cb39d4807a5d",
   "metadata": {},
   "outputs": [
    {
     "data": {
      "text/plain": [
       "0.0018883753"
      ]
     },
     "execution_count": 58,
     "metadata": {},
     "output_type": "execute_result"
    }
   ],
   "source": [
    "err=err[np.isfinite(err)]\n",
    "np.median(err)"
   ]
  },
  {
   "cell_type": "code",
   "execution_count": 54,
   "id": "85fb0134-b9a9-43bb-84f6-45bfe6764fc7",
   "metadata": {},
   "outputs": [
    {
     "data": {
      "text/plain": [
       "0.001"
      ]
     },
     "execution_count": 54,
     "metadata": {},
     "output_type": "execute_result"
    }
   ],
   "source": [
    "1e-3"
   ]
  },
  {
   "cell_type": "code",
   "execution_count": 59,
   "id": "0172cbb5-af26-4a12-9866-d0b56fc06a83",
   "metadata": {},
   "outputs": [
    {
     "data": {
      "text/plain": [
       "0.9978716443667349"
      ]
     },
     "execution_count": 59,
     "metadata": {},
     "output_type": "execute_result"
    }
   ],
   "source": [
    "w = err < 0.01\n",
    "np.sum(w)/err.size"
   ]
  },
  {
   "cell_type": "code",
   "execution_count": 55,
   "id": "9d60721d-49e5-4a90-81b5-3b18e5fc7ee8",
   "metadata": {},
   "outputs": [
    {
     "data": {
      "text/plain": [
       "4.174557514488697e-05"
      ]
     },
     "execution_count": 55,
     "metadata": {},
     "output_type": "execute_result"
    }
   ],
   "source": [
    "np.median(err) * 0.01"
   ]
  },
  {
   "cell_type": "code",
   "execution_count": null,
   "id": "9d856ebf-1808-4f7b-8afe-b4cf90b0e149",
   "metadata": {},
   "outputs": [],
   "source": []
  },
  {
   "cell_type": "code",
   "execution_count": 42,
   "id": "1776cd2e-88fe-4775-a2bf-4d529c9c68a4",
   "metadata": {},
   "outputs": [
    {
     "data": {
      "image/png": "[encoded data removed]",
      "text/plain": [
       "<Figure size 1000x600 with 1 Axes>"
      ]
     },
     "metadata": {},
     "output_type": "display_data"
    }
   ],
   "source": [
    "err = err[err<0.02]\n",
    "plt.hist(err, bins=100000)\n",
    "plt.show()"
   ]
  },
  {
   "cell_type": "code",
   "execution_count": null,
   "id": "8e9b57b5-df66-4a73-92f8-6dd662414524",
   "metadata": {},
   "outputs": [],
   "source": [
    "1/(error_seg[i]*beta)**2"
   ]
  },
  {
   "cell_type": "code",
   "execution_count": 89,
   "id": "85e0435a-f440-474c-b37f-f56a06e71ff5",
   "metadata": {},
   "outputs": [
    {
     "name": "stderr",
     "output_type": "stream",
     "text": [
      " RuntimeWarning: divide by zero encountered in log10\n",
      " RuntimeWarning: invalid value encountered in power\n"
     ]
    },
    {
     "data": {
      "image/png": "[encoded data removed]",
      "text/plain": [
       "<Figure size 500x500 with 1 Axes>"
      ]
     },
     "metadata": {},
     "output_type": "display_data"
    }
   ],
   "source": [
    "cube.make_scatter_plot_only(1, show_plot=True, save_plot=False)"
   ]
  },
  {
   "cell_type": "raw",
   "id": "19b9ee34-5863-458f-a04c-768623c64f6e",
   "metadata": {},
   "source": [
    "[4751.42, 5212]: a = 0.580, b = 0.537, beta = 1.565 # original N_spax limits\n",
    "                 a = 0.579, b = 0.454, beta = 1.567 # updated N_spax\n",
    "\n",
    "[5212, 5672]: a = 1.298, b = 0.447, beta = 2.271 # original N_spax limits\n",
    "              a = 1.293, b = 0.542, beta = 2.260 # updated N_spax\n",
    "\n",
    "[5672, 6132]: a = 0.856, b = 1.059, beta = 1.815 # original N_spax limits\n",
    "              a = 0.893, b = 1.138, beta = 1.846 # updated N_spax\n",
    "\n",
    "[6132, 6592]: a = 1.923, b = 0.739, beta = 2.858 # original N_spax limits\n",
    "              a = 2.002, b = 1.057, beta = 2.905 # updated N_spax\n",
    "\n",
    "[6592, 7052]: a = 0.908, b = 1.141, beta = 1.861 # original N_spax limits\n",
    "              a = 0.984, b = 0.873, beta = 1.945 # updated N_spax\n",
    "\n",
    "[7052, 7513]: a = 0.985, b = 0.785, beta = 1.950 # original N_spax limits\n",
    "              a = 0.957, b = 0.877, beta = 1.918 # updated N_spax\n",
    "\n",
    "[7513, 7973]: a = 1.469, b = 0.971, beta = 2.403 # original N_spax limits\n",
    "              a = 1.463, b = 0.907, beta = 2.402 # updated N_spax\n",
    "\n",
    "[7973, 8433]: a = 1.537, b = 0.837, beta = 2.478 # original N_spax limits\n",
    "              a = 1.536, b = 1.222, beta = 2.451 # updated N_spax\n",
    "\n",
    "[8433, 8893]: a = 1.731, b = 0.361, beta = 2.702 # original N_spax limits\n",
    "              a = 1.734, b = 0.929, beta = 2.660 # updated N_spax\n",
    "\n",
    "[8893, 9353.44]: a = 2.930, b = 0.778, beta = 3.825 # original N_spax limits\n",
    "                 a = 3.128, b = 0.873, beta = 4.003 # updated N_spax"
   ]
  },
  {
   "cell_type": "raw",
   "id": "2826c6c5-3078-40a8-ad87-0c3c9efe58b8",
   "metadata": {},
   "source": [
    "3,6,9,12 fits\n",
    "[4751.42, 5212]: a = 0.576, b = 0.495, beta = 1.563\n",
    "[5212, 5672]: a = 1.302, b = 0.574, beta = 2.267\n",
    "[5672, 6132]: a = 0.910, b = 1.265, beta = 1.857\n",
    "[6132, 6592]: a = 2.087, b = 1.104, beta = 2.982\n",
    "[6592, 7052]: a = 1.014, b = 0.970, beta = 1.969\n",
    "[7052, 7513]: a = 0.919, b = 0.689, beta = 1.890\n",
    "[7513, 7973]: a = 1.452, b = 0.832, beta = 2.396\n",
    "[7973, 8433]: a = 1.562, b = 1.223, beta = 2.475\n",
    "[8433, 8893]: a = 1.735, b = 0.928, beta = 2.661\n",
    "[8893, 9353.44]: a = 3.103, b = 0.809, beta = 3.987"
   ]
  },
  {
   "cell_type": "code",
   "execution_count": 3,
   "id": "ce1f2dfe-e227-4462-82eb-cd6e0ceb3ec2",
   "metadata": {},
   "outputs": [],
   "source": [
    "cubefil = \"data/NGC4030/cube/NGC4030-SQUARE0.6/NO-CORR/SQUARE0.6-MILESHC-MASTARHC2-NOISM/1/1/manga-1-1-LOGCUBE-SQUARE0.6-MILESHC-MASTARHC2-NOISM.fits\"\n",
    "cube = fits.open(cubefil)\n",
    "binid = cube['BINID'].data[0]\n",
    "flux = cube['FLUX'].data\n",
    "mask = cube['MASK'].data.astype(bool)\n",
    "ivar = cube['IVAR'].data"
   ]
  },
  {
   "cell_type": "code",
   "execution_count": 91,
   "id": "78df18b0-5fe5-41f0-aeda-d7851a5242a2",
   "metadata": {},
   "outputs": [],
   "source": [
    "w = binid == 1000\n",
    "inds = np.where(binid==1000)"
   ]
  },
  {
   "cell_type": "code",
   "execution_count": 96,
   "id": "6ade73fb-1707-4b34-96d0-d4b93942edb2",
   "metadata": {},
   "outputs": [
    {
     "data": {
      "text/plain": [
       "{'1': 2}"
      ]
     },
     "execution_count": 96,
     "metadata": {},
     "output_type": "execute_result"
    }
   ],
   "source": [
    "test={}\n",
    "test['1']=1\n",
    "test['1']+=1\n",
    "test"
   ]
  },
  {
   "cell_type": "code",
   "execution_count": 99,
   "id": "e2b54e2b-6215-418b-879c-0fd69d89d5a4",
   "metadata": {},
   "outputs": [
    {
     "name": "stderr",
     "output_type": "stream",
     "text": [
      "100%|██████████████████████████████████| 11239/11239 [00:00<00:00, 29343.19it/s]\n"
     ]
    }
   ],
   "source": [
    "bincount = {}\n",
    "for ID in tqdm(np.unique(binid)[1:]):\n",
    "    w = binid == ID\n",
    "    nspax = np.sum(w)\n",
    "    key = str(nspax)\n",
    "\n",
    "    if key not in list(bincount.keys()):\n",
    "        bincount[key] = 1\n",
    "    else:\n",
    "        bincount[key] += 1"
   ]
  },
  {
   "cell_type": "code",
   "execution_count": 104,
   "id": "691ed56d-5cc8-401d-9d3d-6c8a46d6cf17",
   "metadata": {},
   "outputs": [
    {
     "data": {
      "text/plain": [
       "array([ 6,  9,  3,  0,  7,  8,  2, 10,  5,  4,  1])"
      ]
     },
     "execution_count": 104,
     "metadata": {},
     "output_type": "execute_result"
    }
   ],
   "source": [
    "np.argsort(list(bincount.values()))"
   ]
  },
  {
   "cell_type": "code",
   "execution_count": 108,
   "id": "b9ec05bc-6542-43e1-a584-8c346b0982b0",
   "metadata": {},
   "outputs": [
    {
     "name": "stdout",
     "output_type": "stream",
     "text": [
      "There are 15 bins of size 1 spaxels.\n",
      "There are 20 bins of size 2 spaxels.\n",
      "There are 110 bins of size 3 spaxels.\n",
      "There are 10 bins of size 4 spaxels.\n",
      "There are 13 bins of size 5 spaxels.\n",
      "There are 139 bins of size 6 spaxels.\n",
      "There are 12 bins of size 7 spaxels.\n",
      "There are 15 bins of size 8 spaxels.\n",
      "There are 10,828 bins of size 9 spaxels.\n",
      "There are 25 bins of size 10 spaxels.\n",
      "There are 52 bins of size 12 spaxels.\n"
     ]
    }
   ],
   "source": [
    "keylist = [1,2,3,4,5,6,7,8,9,10,12]\n",
    "for key in keylist:\n",
    "    key = str(key)\n",
    "    print(f\"There are {bincount[key]:,} bins of size {int(key)} spaxels.\")"
   ]
  },
  {
   "cell_type": "code",
   "execution_count": 6,
   "id": "0fbdcba7-6be5-4a00-b941-2481bcac987d",
   "metadata": {},
   "outputs": [
    {
     "data": {
      "text/plain": [
       "0.9633451957295374"
      ]
     },
     "execution_count": 6,
     "metadata": {},
     "output_type": "execute_result"
    }
   ],
   "source": [
    "10828/np.unique(binid).size"
   ]
  },
  {
   "cell_type": "code",
   "execution_count": 92,
   "id": "ad94621f-7ddc-4219-9b7c-2d24e23d456c",
   "metadata": {},
   "outputs": [
    {
     "name": "stderr",
     "output_type": "stream",
     "text": [
      " 17%|██████▍                              | 1942/11239 [00:16<00:38, 244.35it/s] RuntimeWarning: divide by zero encountered in divide\n",
      "100%|█████████████████████████████████████| 11239/11239 [02:28<00:00, 75.80it/s]\n"
     ]
    }
   ],
   "source": [
    "snrdict = {}\n",
    "for ID in tqdm(np.unique(binid)[1:]):\n",
    "\n",
    "    w = binid == ID\n",
    "    inds = np.where(binid==ID)\n",
    "    \n",
    "    nspax = np.sum(w)\n",
    "    if nspax > 12:\n",
    "        print(ID)\n",
    "    key = str(nspax)\n",
    "\n",
    "    \n",
    "    fluxarr = flux[:,inds[0],inds[1]][:,0]\n",
    "    ivararr = ivar[:,inds[0],inds[1]][:,0]\n",
    "    maskarr = mask[:,inds[0],inds[1]][:,0]\n",
    "    errorarr = 1 / np.sqrt(ivararr)\n",
    "\n",
    "    warr = (fluxarr > 0 ) & (errorarr > 0)\n",
    "    snrmask = np.logical_or(warr, ~maskarr)\n",
    "    snrarr = fluxarr[snrmask]/errorarr[snrmask]\n",
    "\n",
    "    if str(nspax) not in list(snrdict.keys()):\n",
    "        snrdict[key] = snrarr\n",
    "    else:\n",
    "        values = snrdict[key]\n",
    "        values = np.append(values, snrarr)\n",
    "        snrdict[key] = values"
   ]
  },
  {
   "cell_type": "code",
   "execution_count": 93,
   "id": "3c2ef440-844b-4a8f-b2af-7a23cf459b43",
   "metadata": {},
   "outputs": [
    {
     "name": "stdout",
     "output_type": "stream",
     "text": [
      "1 spaxels: S/N: median = 3.2  std = 2.9  n_values = 51,433\n",
      "10 spaxels: S/N: median = 31  std = 23  n_values = 100,224\n",
      "12 spaxels: S/N: median = 40  std = 32  n_values = 208,462\n",
      "2 spaxels: S/N: median = 2.8  std = 3  n_values = 75,692\n",
      "3 spaxels: S/N: median = 4.4  std = 3.3  n_values = 438,200\n",
      "4 spaxels: S/N: median = 7.8  std = 4.9  n_values = 40,083\n",
      "5 spaxels: S/N: median = 6.1  std = 3.3  n_values = 51,952\n",
      "6 spaxels: S/N: median = 8.9  std = 22  n_values = 557,136\n",
      "7 spaxels: S/N: median = 7.2  std = 31  n_values = 48,103\n",
      "8 spaxels: S/N: median = 8.7  std = 34  n_values = 60,128\n",
      "9 spaxels: S/N: median = 24  std = 20  n_values = 43,407,863\n"
     ]
    }
   ],
   "source": [
    "for key in sorted(snrdict.keys()):\n",
    "    snr = snrdict[key]\n",
    "    if len(snr) == 0:\n",
    "        continue\n",
    "    print(f\"{key} spaxels: S/N: median = {np.median(snr):.2g}  std = {np.std(snr):.2g}  n_values = {len(snr):,}\")"
   ]
  },
  {
   "cell_type": "code",
   "execution_count": 94,
   "id": "1e8fda85-fb8d-4438-9aca-2131f2f84ec3",
   "metadata": {},
   "outputs": [
    {
     "data": {
      "image/png": "[encoded data removed]",
      "text/plain": [
       "<Figure size 2200x200 with 11 Axes>"
      ]
     },
     "metadata": {},
     "output_type": "display_data"
    }
   ],
   "source": [
    "fig, ax = plt.subplots(1,11,figsize = (22,2))\n",
    "\n",
    "keylist = [1,2,3,4,5,6,7,8,9,10,12]\n",
    "#sorted(snrdict.keys())\n",
    "\n",
    "for i,k in enumerate(keylist):\n",
    "    key = str(k)\n",
    "    snr = snrdict[key]\n",
    "    snr = snr[np.isfinite(snr)]\n",
    "    snr = snr[snr>0]\n",
    "\n",
    "    bin_width = 3.5 * np.std(snr) / (snr.size ** (1/3))\n",
    "    nbins = (max(snr) - min(snr)) / bin_width\n",
    "\n",
    "    hist = np.histogram(snr, bins=int(nbins))\n",
    "    \n",
    "    ax[i].hist(snr, bins=int(nbins), color='k')\n",
    "    latex = r\"$N_{\\mathrm{spax}}$\"\n",
    "    ax[i].text(0.85,0.87, s = f\"{latex} = {key}\", transform=ax[i].transAxes, ha='right')\n",
    "    latex = r\"$C_{\\mathrm{max}}$\"\n",
    "    ax[i].text(0.85,0.75, s = f\"{latex} = {np.max(hist[0])}\", transform=ax[i].transAxes, ha='right')\n",
    "    #ax[i].text(0.5,0.8, s = f\"Pea\", transform=ax[i].transAxes, ha='center')\n",
    "    \n",
    "    ax[i].get_yaxis().set_visible(False)\n",
    "    ax[i].tick_params(axis='x', labelsize='medium')\n",
    "    ax[i].tick_params(axis='x',which='both', length=5)\n",
    "    \n",
    "fig.subplots_adjust(wspace=0)\n",
    "fig.text(0.5,-0.12,\"S/N\", ha='center',fontsize='xx-large')\n",
    "plt.savefig('bin_snr_dists.pdf',bbox_inches='tight',dpi=500)\n",
    "#fig.text(0.1,0.5,\"Counts\", va='center',rotation='vertical',fontsize='xx-large')"
   ]
  },
  {
   "cell_type": "code",
   "execution_count": 95,
   "id": "f9eb9dde-4abd-4e68-9ade-9128673e423c",
   "metadata": {},
   "outputs": [
    {
     "name": "stdout",
     "output_type": "stream",
     "text": [
      "NGC4030 shows 3747/11255 (0.33) outflow spaxels and 2999/11255 (0.27) inflow spaxels.\n",
      "NGC0289 shows 1518/11201 (0.14) outflow spaxels and 3842/11201 (0.34) inflow spaxels.\n"
     ]
    },
    {
     "ename": "KeyboardInterrupt",
     "evalue": "",
     "output_type": "error",
     "traceback": [
      "\u001b[0;31m---------------------------------------------------------------------------\u001b[0m",
      "\u001b[0;31mKeyboardInterrupt\u001b[0m                         Traceback (most recent call last)",
      "Cell \u001b[0;32mIn[95], line 14\u001b[0m\n\u001b[1;32m     12\u001b[0m \u001b[38;5;28;01mfor\u001b[39;00m fil \u001b[38;5;129;01min\u001b[39;00m mcmc_fils:\n\u001b[1;32m     13\u001b[0m     mcmc \u001b[38;5;241m=\u001b[39m fits\u001b[38;5;241m.\u001b[39mopen(fil)\n\u001b[0;32m---> 14\u001b[0m     table \u001b[38;5;241m=\u001b[39m \u001b[43mTable\u001b[49m\u001b[43m(\u001b[49m\u001b[43mmcmc\u001b[49m\u001b[43m[\u001b[49m\u001b[38;5;241;43m1\u001b[39;49m\u001b[43m]\u001b[49m\u001b[38;5;241;43m.\u001b[39;49m\u001b[43mdata\u001b[49m\u001b[43m)\u001b[49m\n\u001b[1;32m     15\u001b[0m     nspx \u001b[38;5;241m+\u001b[39m\u001b[38;5;241m=\u001b[39m \u001b[38;5;28mlen\u001b[39m(table)\n\u001b[1;32m     17\u001b[0m     \u001b[38;5;28;01mfor\u001b[39;00m row \u001b[38;5;129;01min\u001b[39;00m table[\u001b[38;5;124m'\u001b[39m\u001b[38;5;124mpercentiles\u001b[39m\u001b[38;5;124m'\u001b[39m]:\n",
      "File \u001b[0;32m~/miniconda3/envs/stenv/lib/python3.12/site-packages/astropy/table/table.py:891\u001b[0m, in \u001b[0;36mTable.__init__\u001b[0;34m(self, data, masked, names, dtype, meta, copy, rows, copy_indices, units, descriptions, **kwargs)\u001b[0m\n\u001b[1;32m    888\u001b[0m \u001b[38;5;28mself\u001b[39m\u001b[38;5;241m.\u001b[39m_check_names_dtype(names, dtype, n_cols)\n\u001b[1;32m    890\u001b[0m \u001b[38;5;66;03m# Finally do the real initialization\u001b[39;00m\n\u001b[0;32m--> 891\u001b[0m \u001b[43minit_func\u001b[49m\u001b[43m(\u001b[49m\u001b[43mdata\u001b[49m\u001b[43m,\u001b[49m\u001b[43m \u001b[49m\u001b[43mnames\u001b[49m\u001b[43m,\u001b[49m\u001b[43m \u001b[49m\u001b[43mdtype\u001b[49m\u001b[43m,\u001b[49m\u001b[43m \u001b[49m\u001b[43mn_cols\u001b[49m\u001b[43m,\u001b[49m\u001b[43m \u001b[49m\u001b[43mcopy\u001b[49m\u001b[43m)\u001b[49m\n\u001b[1;32m    893\u001b[0m \u001b[38;5;66;03m# Set table meta.  If copy=True then deepcopy meta otherwise use the\u001b[39;00m\n\u001b[1;32m    894\u001b[0m \u001b[38;5;66;03m# user-supplied meta directly.\u001b[39;00m\n\u001b[1;32m    895\u001b[0m \u001b[38;5;28;01mif\u001b[39;00m meta \u001b[38;5;129;01mis\u001b[39;00m \u001b[38;5;129;01mnot\u001b[39;00m \u001b[38;5;28;01mNone\u001b[39;00m:\n",
      "File \u001b[0;32m~/miniconda3/envs/stenv/lib/python3.12/site-packages/astropy/table/table.py:1432\u001b[0m, in \u001b[0;36mTable._init_from_ndarray\u001b[0;34m(self, data, names, dtype, n_cols, copy)\u001b[0m\n\u001b[1;32m   1424\u001b[0m names \u001b[38;5;241m=\u001b[39m [name \u001b[38;5;129;01mor\u001b[39;00m data_names[i] \u001b[38;5;28;01mfor\u001b[39;00m i, name \u001b[38;5;129;01min\u001b[39;00m \u001b[38;5;28menumerate\u001b[39m(names)]\n\u001b[1;32m   1426\u001b[0m cols \u001b[38;5;241m=\u001b[39m (\n\u001b[1;32m   1427\u001b[0m     [data[name] \u001b[38;5;28;01mfor\u001b[39;00m name \u001b[38;5;129;01min\u001b[39;00m data_names]\n\u001b[1;32m   1428\u001b[0m     \u001b[38;5;28;01mif\u001b[39;00m struct\n\u001b[1;32m   1429\u001b[0m     \u001b[38;5;28;01melse\u001b[39;00m [data[:, i] \u001b[38;5;28;01mfor\u001b[39;00m i \u001b[38;5;129;01min\u001b[39;00m \u001b[38;5;28mrange\u001b[39m(n_cols)]\n\u001b[1;32m   1430\u001b[0m )\n\u001b[0;32m-> 1432\u001b[0m \u001b[38;5;28;43mself\u001b[39;49m\u001b[38;5;241;43m.\u001b[39;49m\u001b[43m_init_from_list\u001b[49m\u001b[43m(\u001b[49m\u001b[43mcols\u001b[49m\u001b[43m,\u001b[49m\u001b[43m \u001b[49m\u001b[43mnames\u001b[49m\u001b[43m,\u001b[49m\u001b[43m \u001b[49m\u001b[43mdtype\u001b[49m\u001b[43m,\u001b[49m\u001b[43m \u001b[49m\u001b[43mn_cols\u001b[49m\u001b[43m,\u001b[49m\u001b[43m \u001b[49m\u001b[43mcopy\u001b[49m\u001b[43m)\u001b[49m\n",
      "File \u001b[0;32m~/miniconda3/envs/stenv/lib/python3.12/site-packages/astropy/table/table.py:1255\u001b[0m, in \u001b[0;36mTable._init_from_list\u001b[0;34m(self, data, names, dtype, n_cols, copy)\u001b[0m\n\u001b[1;32m   1252\u001b[0m default_names \u001b[38;5;241m=\u001b[39m _auto_names(n_cols)\n\u001b[1;32m   1254\u001b[0m \u001b[38;5;28;01mfor\u001b[39;00m col, name, default_name, dt \u001b[38;5;129;01min\u001b[39;00m \u001b[38;5;28mzip\u001b[39m(data, names, default_names, dtype):\n\u001b[0;32m-> 1255\u001b[0m     col \u001b[38;5;241m=\u001b[39m \u001b[38;5;28;43mself\u001b[39;49m\u001b[38;5;241;43m.\u001b[39;49m\u001b[43m_convert_data_to_col\u001b[49m\u001b[43m(\u001b[49m\u001b[43mcol\u001b[49m\u001b[43m,\u001b[49m\u001b[43m \u001b[49m\u001b[43mcopy\u001b[49m\u001b[43m,\u001b[49m\u001b[43m \u001b[49m\u001b[43mdefault_name\u001b[49m\u001b[43m,\u001b[49m\u001b[43m \u001b[49m\u001b[43mdt\u001b[49m\u001b[43m,\u001b[49m\u001b[43m \u001b[49m\u001b[43mname\u001b[49m\u001b[43m)\u001b[49m\n\u001b[1;32m   1257\u001b[0m     cols\u001b[38;5;241m.\u001b[39mappend(col)\n\u001b[1;32m   1259\u001b[0m \u001b[38;5;28mself\u001b[39m\u001b[38;5;241m.\u001b[39m_init_from_cols(cols)\n",
      "File \u001b[0;32m~/miniconda3/envs/stenv/lib/python3.12/site-packages/astropy/table/table.py:1405\u001b[0m, in \u001b[0;36mTable._convert_data_to_col\u001b[0;34m(self, data, copy, default_name, dtype, name)\u001b[0m\n\u001b[1;32m   1402\u001b[0m     col_cls \u001b[38;5;241m=\u001b[39m \u001b[38;5;28mself\u001b[39m\u001b[38;5;241m.\u001b[39mColumnClass\n\u001b[1;32m   1404\u001b[0m \u001b[38;5;28;01mtry\u001b[39;00m:\n\u001b[0;32m-> 1405\u001b[0m     col \u001b[38;5;241m=\u001b[39m \u001b[43mcol_cls\u001b[49m\u001b[43m(\u001b[49m\n\u001b[1;32m   1406\u001b[0m \u001b[43m        \u001b[49m\u001b[43mname\u001b[49m\u001b[38;5;241;43m=\u001b[39;49m\u001b[43mname\u001b[49m\u001b[43m,\u001b[49m\n\u001b[1;32m   1407\u001b[0m \u001b[43m        \u001b[49m\u001b[43mdata\u001b[49m\u001b[38;5;241;43m=\u001b[39;49m\u001b[43mdata\u001b[49m\u001b[43m,\u001b[49m\n\u001b[1;32m   1408\u001b[0m \u001b[43m        \u001b[49m\u001b[43mdtype\u001b[49m\u001b[38;5;241;43m=\u001b[39;49m\u001b[43mdtype\u001b[49m\u001b[43m,\u001b[49m\n\u001b[1;32m   1409\u001b[0m \u001b[43m        \u001b[49m\u001b[43mcopy\u001b[49m\u001b[38;5;241;43m=\u001b[39;49m\u001b[43mcopy\u001b[49m\u001b[43m,\u001b[49m\n\u001b[1;32m   1410\u001b[0m \u001b[43m        \u001b[49m\u001b[43mcopy_indices\u001b[49m\u001b[38;5;241;43m=\u001b[39;49m\u001b[38;5;28;43mself\u001b[39;49m\u001b[38;5;241;43m.\u001b[39;49m\u001b[43m_init_indices\u001b[49m\u001b[43m,\u001b[49m\n\u001b[1;32m   1411\u001b[0m \u001b[43m    \u001b[49m\u001b[43m)\u001b[49m\n\u001b[1;32m   1412\u001b[0m \u001b[38;5;28;01mexcept\u001b[39;00m \u001b[38;5;167;01mException\u001b[39;00m:\n\u001b[1;32m   1413\u001b[0m     \u001b[38;5;66;03m# Broad exception class since we don't know what might go wrong\u001b[39;00m\n\u001b[1;32m   1414\u001b[0m     \u001b[38;5;28;01mraise\u001b[39;00m \u001b[38;5;167;01mValueError\u001b[39;00m(\u001b[38;5;124m\"\u001b[39m\u001b[38;5;124munable to convert data to Column for Table\u001b[39m\u001b[38;5;124m\"\u001b[39m)\n",
      "File \u001b[0;32m~/miniconda3/envs/stenv/lib/python3.12/site-packages/astropy/table/column.py:1255\u001b[0m, in \u001b[0;36mColumn.__new__\u001b[0;34m(cls, data, name, dtype, shape, length, description, unit, format, meta, copy, copy_indices)\u001b[0m\n\u001b[1;32m   1250\u001b[0m \u001b[38;5;28;01mif\u001b[39;00m \u001b[38;5;28misinstance\u001b[39m(data, MaskedColumn) \u001b[38;5;129;01mand\u001b[39;00m np\u001b[38;5;241m.\u001b[39many(data\u001b[38;5;241m.\u001b[39mmask):\n\u001b[1;32m   1251\u001b[0m     \u001b[38;5;28;01mraise\u001b[39;00m \u001b[38;5;167;01mTypeError\u001b[39;00m(\n\u001b[1;32m   1252\u001b[0m         \u001b[38;5;124m\"\u001b[39m\u001b[38;5;124mCannot convert a MaskedColumn with masked value to a Column\u001b[39m\u001b[38;5;124m\"\u001b[39m\n\u001b[1;32m   1253\u001b[0m     )\n\u001b[0;32m-> 1255\u001b[0m \u001b[38;5;28mself\u001b[39m \u001b[38;5;241m=\u001b[39m \u001b[38;5;28;43msuper\u001b[39;49m\u001b[43m(\u001b[49m\u001b[43m)\u001b[49m\u001b[38;5;241;43m.\u001b[39;49m\u001b[38;5;21;43m__new__\u001b[39;49m\u001b[43m(\u001b[49m\n\u001b[1;32m   1256\u001b[0m \u001b[43m    \u001b[49m\u001b[38;5;28;43mcls\u001b[39;49m\u001b[43m,\u001b[49m\n\u001b[1;32m   1257\u001b[0m \u001b[43m    \u001b[49m\u001b[43mdata\u001b[49m\u001b[38;5;241;43m=\u001b[39;49m\u001b[43mdata\u001b[49m\u001b[43m,\u001b[49m\n\u001b[1;32m   1258\u001b[0m \u001b[43m    \u001b[49m\u001b[43mname\u001b[49m\u001b[38;5;241;43m=\u001b[39;49m\u001b[43mname\u001b[49m\u001b[43m,\u001b[49m\n\u001b[1;32m   1259\u001b[0m \u001b[43m    \u001b[49m\u001b[43mdtype\u001b[49m\u001b[38;5;241;43m=\u001b[39;49m\u001b[43mdtype\u001b[49m\u001b[43m,\u001b[49m\n\u001b[1;32m   1260\u001b[0m \u001b[43m    \u001b[49m\u001b[43mshape\u001b[49m\u001b[38;5;241;43m=\u001b[39;49m\u001b[43mshape\u001b[49m\u001b[43m,\u001b[49m\n\u001b[1;32m   1261\u001b[0m \u001b[43m    \u001b[49m\u001b[43mlength\u001b[49m\u001b[38;5;241;43m=\u001b[39;49m\u001b[43mlength\u001b[49m\u001b[43m,\u001b[49m\n\u001b[1;32m   1262\u001b[0m \u001b[43m    \u001b[49m\u001b[43mdescription\u001b[49m\u001b[38;5;241;43m=\u001b[39;49m\u001b[43mdescription\u001b[49m\u001b[43m,\u001b[49m\n\u001b[1;32m   1263\u001b[0m \u001b[43m    \u001b[49m\u001b[43munit\u001b[49m\u001b[38;5;241;43m=\u001b[39;49m\u001b[43munit\u001b[49m\u001b[43m,\u001b[49m\n\u001b[1;32m   1264\u001b[0m \u001b[43m    \u001b[49m\u001b[38;5;28;43mformat\u001b[39;49m\u001b[38;5;241;43m=\u001b[39;49m\u001b[38;5;28;43mformat\u001b[39;49m\u001b[43m,\u001b[49m\n\u001b[1;32m   1265\u001b[0m \u001b[43m    \u001b[49m\u001b[43mmeta\u001b[49m\u001b[38;5;241;43m=\u001b[39;49m\u001b[43mmeta\u001b[49m\u001b[43m,\u001b[49m\n\u001b[1;32m   1266\u001b[0m \u001b[43m    \u001b[49m\u001b[43mcopy\u001b[49m\u001b[38;5;241;43m=\u001b[39;49m\u001b[43mcopy\u001b[49m\u001b[43m,\u001b[49m\n\u001b[1;32m   1267\u001b[0m \u001b[43m    \u001b[49m\u001b[43mcopy_indices\u001b[49m\u001b[38;5;241;43m=\u001b[39;49m\u001b[43mcopy_indices\u001b[49m\u001b[43m,\u001b[49m\n\u001b[1;32m   1268\u001b[0m \u001b[43m\u001b[49m\u001b[43m)\u001b[49m\n\u001b[1;32m   1269\u001b[0m \u001b[38;5;28;01mreturn\u001b[39;00m \u001b[38;5;28mself\u001b[39m\n",
      "File \u001b[0;32m~/miniconda3/envs/stenv/lib/python3.12/site-packages/astropy/table/column.py:563\u001b[0m, in \u001b[0;36mBaseColumn.__new__\u001b[0;34m(cls, data, name, dtype, shape, length, description, unit, format, meta, copy, copy_indices)\u001b[0m\n\u001b[1;32m    561\u001b[0m     \u001b[38;5;28;01mif\u001b[39;00m np\u001b[38;5;241m.\u001b[39mdtype(dtype)\u001b[38;5;241m.\u001b[39mchar \u001b[38;5;241m==\u001b[39m \u001b[38;5;124m\"\u001b[39m\u001b[38;5;124mS\u001b[39m\u001b[38;5;124m\"\u001b[39m:\n\u001b[1;32m    562\u001b[0m         data \u001b[38;5;241m=\u001b[39m \u001b[38;5;28mcls\u001b[39m\u001b[38;5;241m.\u001b[39m_encode_str(data)\n\u001b[0;32m--> 563\u001b[0m     self_data \u001b[38;5;241m=\u001b[39m \u001b[43mnp\u001b[49m\u001b[38;5;241;43m.\u001b[39;49m\u001b[43marray\u001b[49m\u001b[43m(\u001b[49m\u001b[43mdata\u001b[49m\u001b[43m,\u001b[49m\u001b[43m \u001b[49m\u001b[43mdtype\u001b[49m\u001b[38;5;241;43m=\u001b[39;49m\u001b[43mdtype\u001b[49m\u001b[43m,\u001b[49m\u001b[43m \u001b[49m\u001b[43mcopy\u001b[49m\u001b[38;5;241;43m=\u001b[39;49m\u001b[43mcopy\u001b[49m\u001b[43m)\u001b[49m\n\u001b[1;32m    565\u001b[0m \u001b[38;5;28mself\u001b[39m \u001b[38;5;241m=\u001b[39m self_data\u001b[38;5;241m.\u001b[39mview(\u001b[38;5;28mcls\u001b[39m)\n\u001b[1;32m    566\u001b[0m \u001b[38;5;28mself\u001b[39m\u001b[38;5;241m.\u001b[39m_name \u001b[38;5;241m=\u001b[39m \u001b[38;5;28;01mNone\u001b[39;00m \u001b[38;5;28;01mif\u001b[39;00m name \u001b[38;5;129;01mis\u001b[39;00m \u001b[38;5;28;01mNone\u001b[39;00m \u001b[38;5;28;01melse\u001b[39;00m \u001b[38;5;28mstr\u001b[39m(name)\n",
      "\u001b[0;31mKeyboardInterrupt\u001b[0m: "
     ]
    }
   ],
   "source": [
    "galnames = [\"NGC4030\", \"NGC0289\", \"NGC1097\", \"NGC1084\", \"NGC1483\"]\n",
    "lamrest = 5897.558\n",
    "outfracs={}\n",
    "infracs={}\n",
    "for gal in galnames:\n",
    "    filpath = f\"data/{gal}/mcmc/{gal}-SQUARE0.6/BETA-CORR/\"\n",
    "    mcmc_fils = glob(f\"{filpath}/**/*.fits\",recursive=True)\n",
    "\n",
    "    nspx=0\n",
    "    nin=0\n",
    "    nout=0\n",
    "    for fil in mcmc_fils:\n",
    "        mcmc = fits.open(fil)\n",
    "        table = Table(mcmc[1].data)\n",
    "        nspx += len(table)\n",
    "\n",
    "        for row in table['percentiles']:\n",
    "            lam = row[0][0]\n",
    "            plus = row[0][1]\n",
    "            minus = row[0][2]\n",
    "\n",
    "            if lam+plus > lamrest and lam-minus > lamrest:\n",
    "                nin += 1\n",
    "            elif lam+plus < lamrest and lam-minus < lamrest:\n",
    "                nout +=1\n",
    "\n",
    "    outfracs[gal] = nout/nspx\n",
    "    infracs[gal] = nin/nspx\n",
    "    print(f\"{gal} shows {nout}/{nspx} ({nout/nspx:.2f}) outflow spaxels and {nin}/{nspx} ({nin/nspx:.2f}) inflow spaxels.\")"
   ]
  },
  {
   "cell_type": "code",
   "execution_count": 70,
   "id": "d3cbe5f0-d48e-4064-9462-acb7494911a9",
   "metadata": {},
   "outputs": [
    {
     "name": "stdout",
     "output_type": "stream",
     "text": [
      "NGC4030 shows 4756/11255 (0.42) outflow spaxels and 4030/11255 (0.36) inflow spaxels.\n",
      "NGC0289 shows 3219/11201 (0.29) outflow spaxels and 5534/11201 (0.49) inflow spaxels.\n",
      "NGC1097 shows 6007/11030 (0.54) outflow spaxels and 3685/11030 (0.33) inflow spaxels.\n",
      "NGC1084 shows 5863/10441 (0.56) outflow spaxels and 2450/10441 (0.23) inflow spaxels.\n",
      "NGC1483 shows 2121/8421 (0.25) outflow spaxels and 4140/8421 (0.49) inflow spaxels.\n"
     ]
    }
   ],
   "source": [
    "galnames = [\"NGC4030\", \"NGC0289\", \"NGC1097\", \"NGC1084\", \"NGC1483\"]\n",
    "lamrest = 5897.558\n",
    "outfracs={}\n",
    "infracs={}\n",
    "for gal in galnames:\n",
    "    filpath = f\"data/{gal}/mcmc/{gal}-SQUARE0.6/BETA-CORR/\"\n",
    "    mcmc_fils = glob(f\"{filpath}/**/*.fits\",recursive=True)\n",
    "\n",
    "    nspx=0\n",
    "    nin=0\n",
    "    nout=0\n",
    "    for fil in mcmc_fils:\n",
    "        mcmc = fits.open(fil)\n",
    "        table = Table(mcmc[1].data)\n",
    "        nspx += len(table)\n",
    "\n",
    "        for row in table['samples']:\n",
    "            samples = row[0, 1000:, 0]\n",
    "            if np.sum(samples < lamrest)/len(samples) >= 0.95:\n",
    "                nout+=1\n",
    "            elif np.sum(samples > lamrest)/len(samples) >= 0.95:\n",
    "                nin+=1\n",
    "            \n",
    "            \n",
    "    outfracs[gal] = nout/nspx\n",
    "    infracs[gal] = nin/nspx\n",
    "    print(f\"{gal} shows {nout}/{nspx} ({nout/nspx:.2f}) outflow spaxels and {nin}/{nspx} ({nin/nspx:.2f}) inflow spaxels.\")"
   ]
  },
  {
   "cell_type": "code",
   "execution_count": 23,
   "id": "f1596ce9-abe1-48e1-8125-8f847fa12742",
   "metadata": {},
   "outputs": [],
   "source": [
    "datadir = \"data/NGC4030/mcmc/NGC4030-SQUARE0.6/BETA-CORR/\""
   ]
  },
  {
   "cell_type": "code",
   "execution_count": 24,
   "id": "2d419083-174a-45d3-bdaa-6f9bd9d490e0",
   "metadata": {},
   "outputs": [],
   "source": [
    "cubepath = \"data/NGC4030/cube/NGC4030-SQUARE0.6/BETA-CORR/SQUARE0.6-MILESHC-MASTARHC2-NOISM/1/1/manga-1-1-LOGCUBE-SQUARE0.6-MILESHC-MASTARHC2-NOISM.fits\"\n",
    "mappath = \"data/NGC4030/cube/NGC4030-SQUARE0.6/BETA-CORR/SQUARE0.6-MILESHC-MASTARHC2-NOISM/1/1/manga-1-1-MAPS-SQUARE0.6-MILESHC-MASTARHC2-NOISM.fits\""
   ]
  },
  {
   "cell_type": "code",
   "execution_count": 25,
   "id": "43f05996-fa1c-4c82-b1c5-00f5d05b8eb2",
   "metadata": {},
   "outputs": [],
   "source": [
    "cube = fits.open(cubepath)\n",
    "Map = fits.open(mappath)"
   ]
  },
  {
   "cell_type": "code",
   "execution_count": 26,
   "id": "275d29c1-7919-40ca-9c40-9fcaca991824",
   "metadata": {},
   "outputs": [],
   "source": [
    "mcmc_fils = glob(f\"{datadir}/**/*.fits\",recursive=True)"
   ]
  },
  {
   "cell_type": "code",
   "execution_count": 27,
   "id": "b80bdb18-19ae-4c66-a82d-fa50134872bf",
   "metadata": {},
   "outputs": [
    {
     "data": {
      "text/plain": [
       "['data/NGC4030/mcmc/NGC4030-SQUARE0.6/BETA-CORR/NGC4030-SQUARE0.6-binid-1400-2100-samples-run-2.fits',\n",
       " 'data/NGC4030/mcmc/NGC4030-SQUARE0.6/BETA-CORR/NGC4030-SQUARE0.6-binid-2100-2800-samples-run-3.fits',\n",
       " 'data/NGC4030/mcmc/NGC4030-SQUARE0.6/BETA-CORR/NGC4030-SQUARE0.6-binid-0-700-samples-run-0.fits',\n",
       " 'data/NGC4030/mcmc/NGC4030-SQUARE0.6/BETA-CORR/NGC4030-SQUARE0.6-binid-8400-9100-samples-run-12.fits',\n",
       " 'data/NGC4030/mcmc/NGC4030-SQUARE0.6/BETA-CORR/NGC4030-SQUARE0.6-binid-9800-10500-samples-run-14.fits',\n",
       " 'data/NGC4030/mcmc/NGC4030-SQUARE0.6/BETA-CORR/NGC4030-SQUARE0.6-binid-9100-9800-samples-run-13.fits',\n",
       " 'data/NGC4030/mcmc/NGC4030-SQUARE0.6/BETA-CORR/NGC4030-SQUARE0.6-binid-4900-5600-samples-run-7.fits',\n",
       " 'data/NGC4030/mcmc/NGC4030-SQUARE0.6/BETA-CORR/NGC4030-SQUARE0.6-binid-4200-4900-samples-run-6.fits',\n",
       " 'data/NGC4030/mcmc/NGC4030-SQUARE0.6/BETA-CORR/NGC4030-SQUARE0.6-binid-5600-6300-samples-run-8.fits',\n",
       " 'data/NGC4030/mcmc/NGC4030-SQUARE0.6/BETA-CORR/NGC4030-SQUARE0.6-binid-7000-7700-samples-run-10.fits',\n",
       " 'data/NGC4030/mcmc/NGC4030-SQUARE0.6/BETA-CORR/NGC4030-SQUARE0.6-binid-700-1400-samples-run-1.fits',\n",
       " 'data/NGC4030/mcmc/NGC4030-SQUARE0.6/BETA-CORR/NGC4030-SQUARE0.6-binid-7700-8400-samples-run-11.fits',\n",
       " 'data/NGC4030/mcmc/NGC4030-SQUARE0.6/BETA-CORR/NGC4030-SQUARE0.6-binid-10500-11200-samples-run-15.fits',\n",
       " 'data/NGC4030/mcmc/NGC4030-SQUARE0.6/BETA-CORR/NGC4030-SQUARE0.6-binid-2800-3500-samples-run-4.fits',\n",
       " 'data/NGC4030/mcmc/NGC4030-SQUARE0.6/BETA-CORR/NGC4030-SQUARE0.6-binid-11200-11238-samples-run-16.fits',\n",
       " 'data/NGC4030/mcmc/NGC4030-SQUARE0.6/BETA-CORR/NGC4030-SQUARE0.6-binid-3500-4200-samples-run-5.fits',\n",
       " 'data/NGC4030/mcmc/NGC4030-SQUARE0.6/BETA-CORR/NGC4030-SQUARE0.6-binid-6300-7000-samples-run-9.fits']"
      ]
     },
     "execution_count": 27,
     "metadata": {},
     "output_type": "execute_result"
    }
   ],
   "source": [
    "mcmc_fils"
   ]
  },
  {
   "cell_type": "code",
   "execution_count": 28,
   "id": "e15edf73-3f33-4ae5-b229-dd2cd36973f7",
   "metadata": {},
   "outputs": [],
   "source": [
    "test = fits.open(mcmc_fils[0])"
   ]
  },
  {
   "cell_type": "code",
   "execution_count": 29,
   "id": "358d30c3-8217-46ae-b28c-b12ac91ab9c5",
   "metadata": {},
   "outputs": [],
   "source": [
    "datatable = Table(test[1].data)"
   ]
  },
  {
   "cell_type": "code",
   "execution_count": 35,
   "id": "e58077f1-a2cb-417c-8cee-5acbfa8bae86",
   "metadata": {},
   "outputs": [
    {
     "data": {
      "text/plain": [
       "701"
      ]
     },
     "execution_count": 35,
     "metadata": {},
     "output_type": "execute_result"
    }
   ],
   "source": [
    "len(datatable)"
   ]
  },
  {
   "cell_type": "code",
   "execution_count": 54,
   "id": "b3697afd-39a9-4155-9073-ffa0e699efdd",
   "metadata": {},
   "outputs": [
    {
     "data": {
      "text/plain": [
       "(701, 100, 1100, 4)"
      ]
     },
     "execution_count": 54,
     "metadata": {},
     "output_type": "execute_result"
    }
   ],
   "source": [
    "datatable['samples'].shape"
   ]
  },
  {
   "cell_type": "code",
   "execution_count": 68,
   "id": "0d5cfc23-2985-43e1-a0cc-d93b96b2ca70",
   "metadata": {},
   "outputs": [
    {
     "data": {
      "text/plain": [
       "5897.3081101388425"
      ]
     },
     "execution_count": 68,
     "metadata": {},
     "output_type": "execute_result"
    }
   ],
   "source": [
    "np.median(datatable['samples'][0][:,1000:,0])"
   ]
  },
  {
   "cell_type": "code",
   "execution_count": 66,
   "id": "7a9bcdee-9d2a-4cf0-88a1-e6b4cdce67c6",
   "metadata": {},
   "outputs": [
    {
     "data": {
      "text/plain": [
       "(701, 4, 3)"
      ]
     },
     "execution_count": 66,
     "metadata": {},
     "output_type": "execute_result"
    }
   ],
   "source": [
    "datatable['percentiles'].shape"
   ]
  },
  {
   "cell_type": "code",
   "execution_count": 67,
   "id": "03acdd69-77fc-41b7-aaba-9c85a5c15b7f",
   "metadata": {},
   "outputs": [
    {
     "data": {
      "text/plain": [
       "5897.3081101388425"
      ]
     },
     "execution_count": 67,
     "metadata": {},
     "output_type": "execute_result"
    }
   ],
   "source": [
    "datatable['percentiles'][0][0,0]"
   ]
  },
  {
   "cell_type": "code",
   "execution_count": 192,
   "id": "2d0a8d31-7c96-4450-8dda-059df36a4104",
   "metadata": {},
   "outputs": [],
   "source": [
    "lamrest = 5897.558"
   ]
  },
  {
   "cell_type": "code",
   "execution_count": 211,
   "id": "97210710-12fc-4159-94ee-8360f16073c1",
   "metadata": {},
   "outputs": [
    {
     "data": {
      "text/plain": [
       "-12.708134299691975"
      ]
     },
     "execution_count": 211,
     "metadata": {},
     "output_type": "execute_result"
    }
   ],
   "source": [
    "datatable['velocities'][0]"
   ]
  },
  {
   "cell_type": "code",
   "execution_count": 217,
   "id": "b2bb2e2b-0620-46bc-8847-b3a17217a580",
   "metadata": {},
   "outputs": [
    {
     "data": {
      "text/plain": [
       "8.447902530746916"
      ]
     },
     "execution_count": 217,
     "metadata": {},
     "output_type": "execute_result"
    }
   ],
   "source": [
    "2.998e5 * ((np.median(datatable['samples'][0][:,:,0])/lamrest) - 1)"
   ]
  },
  {
   "cell_type": "code",
   "execution_count": 220,
   "id": "851e2571-42ec-4593-83f9-5a47f0fd6cd9",
   "metadata": {},
   "outputs": [],
   "source": [
    "lamred_mcmc, logN_mcmc, bD_mcmc, Cf_mcmc = datatable['percentiles'][0]"
   ]
  },
  {
   "cell_type": "code",
   "execution_count": 225,
   "id": "26c6799a-8e7d-4aae-b22b-fd2521a2fadb",
   "metadata": {},
   "outputs": [
    {
     "data": {
      "text/plain": [
       "5897.3081101388425"
      ]
     },
     "execution_count": 225,
     "metadata": {},
     "output_type": "execute_result"
    }
   ],
   "source": [
    "lamred_mcmc[0]"
   ]
  },
  {
   "cell_type": "code",
   "execution_count": 196,
   "id": "1e83e98b-355a-4021-8fff-574264ac6a43",
   "metadata": {},
   "outputs": [],
   "source": [
    "inflow = np.sum(datatable['samples'][0][:,:,0] < lamrest)\n",
    "outflow = np.sum(datatable['samples'][0][:,:,0] > lamrest)\n",
    "nsamples = datatable['samples'][0][:,:,0].size"
   ]
  },
  {
   "cell_type": "code",
   "execution_count": 197,
   "id": "1034b1ad-8890-4e6a-b47e-f9563aea20bd",
   "metadata": {},
   "outputs": [
    {
     "data": {
      "text/plain": [
       "0.4440090909090909"
      ]
     },
     "execution_count": 197,
     "metadata": {},
     "output_type": "execute_result"
    }
   ],
   "source": [
    "inflow/nsamples"
   ]
  },
  {
   "cell_type": "code",
   "execution_count": 198,
   "id": "10660787-0347-4ca7-998c-3ab4e39b8e11",
   "metadata": {},
   "outputs": [
    {
     "data": {
      "text/plain": [
       "0.5559909090909091"
      ]
     },
     "execution_count": 198,
     "metadata": {},
     "output_type": "execute_result"
    }
   ],
   "source": [
    "outflow/nsamples"
   ]
  },
  {
   "cell_type": "code",
   "execution_count": 182,
   "id": "74f2fb1d-cdc4-4756-aa04-941252927a05",
   "metadata": {},
   "outputs": [
    {
     "data": {
      "text/plain": [
       "array([[5.89730811e+03, 1.24284916e+00, 5.87336870e-01],\n",
       "       [1.49296892e+01, 1.05862409e+00, 1.82579692e+00],\n",
       "       [7.43568035e+01, 1.62362901e+01, 1.69379051e+01],\n",
       "       [8.61199749e-02, 3.26539390e-01, 1.32405973e-02]], dtype='>f8')"
      ]
     },
     "execution_count": 182,
     "metadata": {},
     "output_type": "execute_result"
    }
   ],
   "source": [
    "datatable['percentiles'][0]"
   ]
  },
  {
   "cell_type": "code",
   "execution_count": 50,
   "id": "61d4f185-6670-4ef1-bdc2-7c0d4efdee5e",
   "metadata": {},
   "outputs": [
    {
     "name": "stderr",
     "output_type": "stream",
     "text": [
      "Combining Tables: 100%|█████████████████████████| 17/17 [01:04<00:00,  3.80s/it]\n"
     ]
    }
   ],
   "source": [
    "cube = fits.open(cubepath)\n",
    "binid = cube['BINID'].data[0]\n",
    "\n",
    "table = None\n",
    "for i,fil in enumerate(tqdm(mcmc_fils, desc= \"Combining Tables\")):\n",
    "    data = fits.open(fil)\n",
    "    data_table = Table(data[1].data)\n",
    "    data_table.remove_columns(['samples','percentiles'])\n",
    "    data_table['id'] = np.arange(len(data_table))\n",
    "    if i == 0:\n",
    "        table = data_table\n",
    "        continue\n",
    "    table = join(table, data_table, join_type='outer')"
   ]
  },
  {
   "cell_type": "markdown",
   "id": "a8faaa6a-e4c6-40d8-9a9a-41bc3e250387",
   "metadata": {},
   "source": [
    "# EW map"
   ]
  },
  {
   "cell_type": "code",
   "execution_count": 14,
   "id": "8702e018-ca9f-46ef-a292-56f7d93200c6",
   "metadata": {},
   "outputs": [],
   "source": [
    "flux = cube['FLUX'].data\n",
    "wave = cube['WAVE'].data\n",
    "ivar = cube['IVAR'].data\n",
    "model = cube['MODEL'].data\n",
    "binid = Map['BINID'].data[0]\n",
    "stellarvel = Map['STELLAR_VEL'].data\n",
    "\n",
    "z_guess=0.01"
   ]
  },
  {
   "cell_type": "code",
   "execution_count": 22,
   "id": "47b00f53-b358-490d-8298-e81dd146515b",
   "metadata": {},
   "outputs": [
    {
     "data": {
      "text/plain": [
       "(array([162, 162, 163, 163, 163, 164, 164, 164]),\n",
       " array([160, 161, 159, 160, 161, 159, 160, 161]))"
      ]
     },
     "execution_count": 22,
     "metadata": {},
     "output_type": "execute_result"
    }
   ],
   "source": [
    "inds"
   ]
  },
  {
   "cell_type": "code",
   "execution_count": 30,
   "id": "0a43f4a1-7622-45f4-8977-b47f79afbf06",
   "metadata": {},
   "outputs": [],
   "source": [
    "bins = np.random.rand(10,10)"
   ]
  },
  {
   "cell_type": "code",
   "execution_count": 33,
   "id": "8daabbd4-df73-4017-b7b4-49c9784ba4ae",
   "metadata": {},
   "outputs": [],
   "source": [
    "w = bins > 0.8"
   ]
  },
  {
   "cell_type": "code",
   "execution_count": 41,
   "id": "194db055-8bce-4c3c-8988-66243113b75f",
   "metadata": {},
   "outputs": [],
   "source": [
    "arr =  np.zeros((100,10,10))\n",
    "values = np.random.rand(100)\n",
    "\n",
    "inds = (np.array([2,3,4,5]), np.array([5,6,7,8]))\n",
    "\n",
    "for y,x in zip(inds[0],inds[1]):\n",
    "    arr[np.arange(100),y,x] = values"
   ]
  },
  {
   "cell_type": "code",
   "execution_count": 45,
   "id": "6f2207e5-22f6-4027-b597-3f48ea518920",
   "metadata": {},
   "outputs": [
    {
     "data": {
      "text/plain": [
       "array([0.58887996, 0.40685785, 0.39410248, 0.02175126, 0.02606358,\n",
       "       0.62225853, 0.92211122, 0.82374667, 0.25184969, 0.57984596,\n",
       "       0.23527353, 0.58933369, 0.35719365, 0.00972674, 0.6683072 ,\n",
       "       0.64426263, 0.20634349, 0.40830759, 0.09236087, 0.80042608,\n",
       "       0.95648956, 0.75661247, 0.04089783, 0.48817994, 0.487328  ,\n",
       "       0.32886068, 0.14448527, 0.40060692, 0.84537462, 0.57791486,\n",
       "       0.40001358, 0.56727548, 0.20909275, 0.66084347, 0.60551182,\n",
       "       0.4816457 , 0.96200879, 0.9144578 , 0.98972012, 0.18494814,\n",
       "       0.55297962, 0.74219815, 0.50470365, 0.658662  , 0.97905935,\n",
       "       0.49448148, 0.83455744, 0.85054419, 0.33697375, 0.54434909,\n",
       "       0.71313987, 0.94401403, 0.52641143, 0.59375145, 0.54008943,\n",
       "       0.791435  , 0.69079203, 0.91043655, 0.05495296, 0.77014442,\n",
       "       0.88122104, 0.62501521, 0.10525275, 0.74810264, 0.28741016,\n",
       "       0.30972455, 0.86807274, 0.24426208, 0.66201271, 0.23705285,\n",
       "       0.81678629, 0.36783443, 0.24672001, 0.05048244, 0.57330893,\n",
       "       0.43119884, 0.08430368, 0.86734881, 0.17053224, 0.37980309,\n",
       "       0.95645405, 0.68455444, 0.83564242, 0.72425353, 0.68258102,\n",
       "       0.21708434, 0.51092278, 0.20715285, 0.98073085, 0.49711263,\n",
       "       0.77759778, 0.07632189, 0.46496299, 0.76689737, 0.59054734,\n",
       "       0.44387652, 0.25027467, 0.291154  , 0.96697446, 0.43464031])"
      ]
     },
     "execution_count": 45,
     "metadata": {},
     "output_type": "execute_result"
    }
   ],
   "source": [
    "arr[:,3,6]"
   ]
  },
  {
   "cell_type": "code",
   "execution_count": 26,
   "id": "1d9ac149-4aff-4980-854d-c6b3bedd17d3",
   "metadata": {},
   "outputs": [
    {
     "data": {
      "text/plain": [
       "array([[0., 0., 0., 0.],\n",
       "       [0., 0., 0., 0.],\n",
       "       [0., 0., 0., 0.],\n",
       "       [0., 0., 0., 0.],\n",
       "       [0., 0., 0., 0.],\n",
       "       [0., 0., 0., 0.],\n",
       "       [0., 0., 0., 0.],\n",
       "       [0., 0., 0., 0.],\n",
       "       [0., 0., 0., 0.],\n",
       "       [0., 0., 0., 0.],\n",
       "       [0., 0., 0., 0.],\n",
       "       [0., 0., 0., 0.],\n",
       "       [0., 0., 0., 0.],\n",
       "       [0., 0., 0., 0.],\n",
       "       [0., 0., 0., 0.],\n",
       "       [0., 0., 0., 0.],\n",
       "       [0., 0., 0., 0.],\n",
       "       [0., 0., 0., 0.],\n",
       "       [0., 0., 0., 0.],\n",
       "       [0., 0., 0., 0.],\n",
       "       [0., 0., 0., 0.],\n",
       "       [0., 0., 0., 0.],\n",
       "       [0., 0., 0., 0.],\n",
       "       [0., 0., 0., 0.],\n",
       "       [0., 0., 0., 0.],\n",
       "       [0., 0., 0., 0.],\n",
       "       [0., 0., 0., 0.],\n",
       "       [0., 0., 0., 0.],\n",
       "       [0., 0., 0., 0.],\n",
       "       [0., 0., 0., 0.],\n",
       "       [0., 0., 0., 0.],\n",
       "       [0., 0., 0., 0.],\n",
       "       [0., 0., 0., 0.],\n",
       "       [0., 0., 0., 0.],\n",
       "       [0., 0., 0., 0.],\n",
       "       [0., 0., 0., 0.],\n",
       "       [0., 0., 0., 0.],\n",
       "       [0., 0., 0., 0.],\n",
       "       [0., 0., 0., 0.],\n",
       "       [0., 0., 0., 0.],\n",
       "       [0., 0., 0., 0.],\n",
       "       [0., 0., 0., 0.],\n",
       "       [0., 0., 0., 0.],\n",
       "       [0., 0., 0., 0.],\n",
       "       [0., 0., 0., 0.],\n",
       "       [0., 0., 0., 0.],\n",
       "       [0., 0., 0., 0.],\n",
       "       [0., 0., 0., 0.],\n",
       "       [0., 0., 0., 0.],\n",
       "       [0., 0., 0., 0.],\n",
       "       [0., 0., 0., 0.],\n",
       "       [0., 0., 0., 0.],\n",
       "       [0., 0., 0., 0.],\n",
       "       [0., 0., 0., 0.],\n",
       "       [0., 0., 0., 0.],\n",
       "       [0., 0., 0., 0.],\n",
       "       [0., 0., 0., 0.],\n",
       "       [0., 0., 0., 0.],\n",
       "       [0., 0., 0., 0.],\n",
       "       [0., 0., 0., 0.],\n",
       "       [0., 0., 0., 0.],\n",
       "       [0., 0., 0., 0.],\n",
       "       [0., 0., 0., 0.],\n",
       "       [0., 0., 0., 0.],\n",
       "       [0., 0., 0., 0.],\n",
       "       [0., 0., 0., 0.],\n",
       "       [0., 0., 0., 0.],\n",
       "       [0., 0., 0., 0.],\n",
       "       [0., 0., 0., 0.],\n",
       "       [0., 0., 0., 0.],\n",
       "       [0., 0., 0., 0.],\n",
       "       [0., 0., 0., 0.],\n",
       "       [0., 0., 0., 0.],\n",
       "       [0., 0., 0., 0.],\n",
       "       [0., 0., 0., 0.],\n",
       "       [0., 0., 0., 0.],\n",
       "       [0., 0., 0., 0.],\n",
       "       [0., 0., 0., 0.],\n",
       "       [0., 0., 0., 0.],\n",
       "       [0., 0., 0., 0.],\n",
       "       [0., 0., 0., 0.],\n",
       "       [0., 0., 0., 0.],\n",
       "       [0., 0., 0., 0.],\n",
       "       [0., 0., 0., 0.],\n",
       "       [0., 0., 0., 0.],\n",
       "       [0., 0., 0., 0.],\n",
       "       [0., 0., 0., 0.],\n",
       "       [0., 0., 0., 0.],\n",
       "       [0., 0., 0., 0.],\n",
       "       [0., 0., 0., 0.],\n",
       "       [0., 0., 0., 0.],\n",
       "       [0., 0., 0., 0.],\n",
       "       [0., 0., 0., 0.],\n",
       "       [0., 0., 0., 0.],\n",
       "       [0., 0., 0., 0.],\n",
       "       [0., 0., 0., 0.],\n",
       "       [0., 0., 0., 0.],\n",
       "       [0., 0., 0., 0.],\n",
       "       [0., 0., 0., 0.],\n",
       "       [0., 0., 0., 0.]])"
      ]
     },
     "execution_count": 26,
     "metadata": {},
     "output_type": "execute_result"
    }
   ],
   "source": [
    "arr[:,inds[0],inds[1]]"
   ]
  },
  {
   "cell_type": "code",
   "execution_count": 17,
   "id": "1d8b9a30-fcbd-42b1-84e2-f701a5c18c5d",
   "metadata": {},
   "outputs": [
    {
     "ename": "IndexError",
     "evalue": "shape mismatch: indexing arrays could not be broadcast together with shapes (4009,) (8,) (8,) ",
     "output_type": "error",
     "traceback": [
      "\u001b[0;31m---------------------------------------------------------------------------\u001b[0m",
      "\u001b[0;31mIndexError\u001b[0m                                Traceback (most recent call last)",
      "Cell \u001b[0;32mIn[17], line 18\u001b[0m\n\u001b[1;32m     16\u001b[0m \u001b[38;5;66;03m# shift wavelengths to restframe\u001b[39;00m\n\u001b[1;32m     17\u001b[0m restwave \u001b[38;5;241m=\u001b[39m wave \u001b[38;5;241m/\u001b[39m (\u001b[38;5;241m1\u001b[39m\u001b[38;5;241m+\u001b[39mz)\n\u001b[0;32m---> 18\u001b[0m \u001b[43mwavecube\u001b[49m\u001b[43m[\u001b[49m\u001b[43mnp\u001b[49m\u001b[38;5;241;43m.\u001b[39;49m\u001b[43marange\u001b[49m\u001b[43m(\u001b[49m\u001b[38;5;28;43mlen\u001b[39;49m\u001b[43m(\u001b[49m\u001b[43mrestwave\u001b[49m\u001b[43m)\u001b[49m\u001b[43m)\u001b[49m\u001b[43m,\u001b[49m\u001b[43minds\u001b[49m\u001b[43m[\u001b[49m\u001b[38;5;241;43m0\u001b[39;49m\u001b[43m]\u001b[49m\u001b[43m,\u001b[49m\u001b[43minds\u001b[49m\u001b[43m[\u001b[49m\u001b[38;5;241;43m1\u001b[39;49m\u001b[43m]\u001b[49m\u001b[43m]\u001b[49m \u001b[38;5;241m=\u001b[39m restwave\n",
      "\u001b[0;31mIndexError\u001b[0m: shape mismatch: indexing arrays could not be broadcast together with shapes (4009,) (8,) (8,) "
     ]
    }
   ],
   "source": [
    "l, ny, nx = flux.shape\n",
    "ewmap = np.zeros((ny,nx))\n",
    "wavecube = np.zeros(flux.shape)\n",
    "uniqids = np.unique(binid)\n",
    "c = 2.998e5\n",
    "for ID in uniqids[1:]:\n",
    "    inds = np.where(binid == ID)\n",
    "    w = binid == ID\n",
    "    \n",
    "    ## get the stellar velocity of the bin\n",
    "    sv = stellarvel[w][0]\n",
    "        \n",
    "    ## Calculate redshift\n",
    "    z = (sv * (1+z_guess))/c + z_guess\n",
    "\n",
    "    # shift wavelengths to restframe\n",
    "    restwave = wave / (1+z)\n",
    "    wavecube[np.arange(len(restwave)),inds[0],inds[1]] = restwave"
   ]
  },
  {
   "cell_type": "code",
   "execution_count": null,
   "id": "943c550d-a957-474c-bebc-2d893a1425b2",
   "metadata": {},
   "outputs": [],
   "source": [
    "def make_EW_map(cubefil,mapfil,z_guess,savepath,vmin=-0.2,vmax=4,bad_bins=False,show_warnings=True):\n",
    "    c = 2.998e5\n",
    "    \n",
    "    if isinstance(z_guess, str):\n",
    "        z_guess = float(z_guess)\n",
    "        \n",
    "    if bad_bins:\n",
    "        bbins=[]\n",
    "        \n",
    "    cube = fits.open(cubefil)\n",
    "    Map = fits.open(mapfil)\n",
    "    \n",
    "    flux = cube['FLUX'].data\n",
    "    wave = cube['WAVE'].data\n",
    "    ivar = cube['IVAR'].data\n",
    "    model = cube['MODEL'].data\n",
    "    \n",
    "    stellarvel = Map['STELLAR_VEL'].data\n",
    "    binid = Map['BINID'].data[0]\n",
    "    uniqids = np.unique(binid)\n",
    "    \n",
    "    region = 5880, 5910\n",
    "    \n",
    "    \n",
    "    l, ny, nx = flux.shape\n",
    "    ewmap = np.zeros((ny,nx))\n",
    "    wavecube = np.zeros(flux.shape)\n",
    "\n",
    "    logging.info('Constructing equivalent width map.')\n",
    "    for ID in uniqids[1:]:\n",
    "        inds = np.where(binid == ID)\n",
    "        w = binid == ID\n",
    "\n",
    "        ## get the stellar velocity of the bin\n",
    "        sv = stellarvel[w][0]\n",
    "            \n",
    "        ## Calculate redshift\n",
    "        z = (sv * (1+z_guess))/c + z_guess\n",
    "\n",
    "        # shift wavelengths to restframe\n",
    "        restwave = wave / (1+z)\n",
    "        wavecube[np.arange(len(restwave)),inds[0],inds[1]] = restwave\n",
    "\n",
    "        # define wavelength boundaries and slice flux, model, and wavelength arrays\n",
    "        inbounds = np.where((restwave>region[0]) & (restwave<region[1]))[0]\n",
    "        Lam = restwave[inbounds]\n",
    "        fluxbound = flux[inbounds,:,:]\n",
    "        modelbound = model[inbounds,:,:]       \n",
    "\n",
    "        ## check the flux and model in the bin\n",
    "        \n",
    "        # slice the flux/model to just those in the current bin\n",
    "        fluxbin = fluxbound[:,inds[0],inds[1]]\n",
    "        modelbin = modelbound[:,inds[0],inds[1]]\n",
    "\n",
    "        if abs(sv) > 4 * np.std(stellarvel):\n",
    "            if show_warnings:\n",
    "                warnings.warn(f\"Stellar velocity in Bin ID {ID} beyond 4 standard deviations. Bin {ID} EW set to Nan\",UserWarning,\n",
    "                             stacklevel=2)\n",
    "            ewmap[w] = np.nan\n",
    "            if bad_bins:\n",
    "                bbins.append(ID)\n",
    "            continue\n",
    "\n",
    "        # make sure flux is identical throughout the bin\n",
    "        if not np.all(fluxbin == fluxbin[:,0][:,np.newaxis]):\n",
    "            if show_warnings:\n",
    "                warnings.warn(f\"Fluxes in Bin {ID} are not identical. Bin {ID} EW set to NaN\",UserWarning,\n",
    "                             stacklevel=2)\n",
    "            ewmap[w] = np.nan\n",
    "            if bad_bins:\n",
    "                bbins.append(ID)\n",
    "            continue\n",
    "            \n",
    "        # repeat comparison for the model\n",
    "        if not np.all(modelbin == modelbin[:,0][:,np.newaxis]):\n",
    "            if show_warnings:\n",
    "                warnings.warn(f\"Stellar models in Bin {ID} not identical. Bin {ID} EW set to NaN\",UserWarning,\n",
    "                             stacklevel=2)\n",
    "            ewmap[w] = np.nan\n",
    "            if bad_bins:\n",
    "                bbins.append(ID)\n",
    "            continue\n",
    "         \n",
    "        F = fluxbin[:,0]\n",
    "        M = modelbin[:,0]\n",
    "        \n",
    "        if not all(F>=0) or not all(M>=0):\n",
    "            if show_warnings:\n",
    "                warnings.warn(f\"Flux or model arrays in Bin {ID} contain values < 0. Logging Bin ID.\", UserWarning,\n",
    "                             stacklevel=2)\n",
    "            #ewmap[w] = np.nan\n",
    "            if bad_bins:\n",
    "                bbins.append(ID)\n",
    "            #continue\n",
    "            \n",
    "            \n",
    "        # create dlambda array\n",
    "        dLam = np.diff(Lam)\n",
    "        dLam = np.insert(dLam, 0, dLam[0])\n",
    "        \n",
    "        # exclude models equal to zero to avoid nan in calculation\n",
    "        nonzero = (M != 0) & (F != 0)\n",
    "        cont = np.ones(np.sum(nonzero))\n",
    "        W = np.sum( (cont - (F[nonzero])/M[nonzero]) * dLam[nonzero] )\n",
    "        ewmap[w] = W\n",
    "    \n",
    "    logging.info('Creating plots.')\n",
    "    \n",
    "    flatew = ewmap.flatten()\n",
    "    w = (flatew != 0) & (np.isfinite(flatew))\n",
    "    flatewcleaned = flatew[w]\n",
    "    \n",
    "    bin_width = 3.5 * np.std(flatewcleaned) / (flatewcleaned.size ** (1/3))\n",
    "    nbins = (max(flatewcleaned) - min(flatewcleaned)) / bin_width\n",
    "    \n",
    "    plt.hist(flatewcleaned,bins=int(nbins),color='k')\n",
    "    plt.xlim(-5,5)\n",
    "    plt.xlabel(r'$\\mathrm{EW_{Na\\ I}\\ (\\AA)}$')\n",
    "    plt.ylabel(r'$N_{\\mathrm{spax}}$')\n",
    "    \n",
    "    im2name = f\"{args.galname}-EW_distribution.png\"\n",
    "    output = os.path.join(savepath,im2name)\n",
    "    plt.savefig(output,bbox_inches='tight',dpi=150)\n",
    "    logging.info(f\"EW distriubtion plot saved to {output}\")\n",
    "    plt.close()\n",
    "    \n",
    "    \n",
    "    plotmap = np.copy(ewmap)\n",
    "    plotmap[(plotmap==0) | (plotmap>vmax) | (plotmap<vmin)] = np.nan\n",
    "    \n",
    "    nvmax = np.median(plotmap[np.isfinite(plotmap)]) + np.std(plotmap[np.isfinite(plotmap)])\n",
    "    if vmax < nvmax:\n",
    "        vmax = np.round(nvmax)\n",
    " \n",
    "    plt.imshow(plotmap,origin='lower',cmap='rainbow',vmin=vmin,vmax=vmax,\n",
    "           extent=[32.4, -32.6,-32.4, 32.6])\n",
    "    plt.colorbar(label=r'$\\mathrm{EW_{Na\\ I}\\ (\\AA)}$',fraction=0.0465, pad=0.01)\n",
    "    plt.gca().set_facecolor('lightgray')\n",
    "    plt.xlabel(r'$\\Delta \\alpha$ (arcsec)')\n",
    "    plt.ylabel(r'$\\Delta \\delta$ (arcsec)')\n",
    "    \n",
    "    im1name = f\"{args.galname}-EW_map.png\"\n",
    "    output = os.path.join(savepath,im1name)\n",
    "    plt.savefig(output,bbox_inches='tight',dpi=200)\n",
    "    logging.info(f\"EW map plot saved to {output}\")\n",
    "    plt.close()\n",
    "    \n",
    "    if args.bokeh:\n",
    "        logging.info(\"Creating BOKEH plot.\")\n",
    "        keyword = f\"{args.galname}-EW-bokeh\"\n",
    "        make_bokeh_map(flux, model, ivar, wavecube, ewmap, binid, savepath, keyword)\n",
    "\n",
    "\n",
    "    if bad_bins:\n",
    "        return ewmap, bbins\n",
    "    \n",
    "    return ewmap"
   ]
  },
  {
   "cell_type": "code",
   "execution_count": 71,
   "id": "c0c58746-36a3-4def-acb6-039781ccb42a",
   "metadata": {
    "scrolled": true
   },
   "outputs": [
    {
     "data": {
      "image/png": "[encoded data removed]",
      "text/plain": [
       "<Figure size 600x600 with 1 Axes>"
      ]
     },
     "metadata": {},
     "output_type": "display_data"
    }
   ],
   "source": [
    "plt.hist(table['velocities'],bins=1000);"
   ]
  },
  {
   "cell_type": "code",
   "execution_count": 60,
   "id": "a55d68f0-8127-49a2-89d0-0c18cb4a52a4",
   "metadata": {},
   "outputs": [],
   "source": [
    "bins,inds = np.unique(table['bin'],return_index=True)"
   ]
  },
  {
   "cell_type": "code",
   "execution_count": 64,
   "id": "9e7718e9-d346-4484-b1d2-7d8a09ff995b",
   "metadata": {},
   "outputs": [],
   "source": [
    "binid = cube['BINID'].data[0]"
   ]
  },
  {
   "cell_type": "code",
   "execution_count": 65,
   "id": "37003eb1-bee3-4c74-a931-a11d3d52853e",
   "metadata": {},
   "outputs": [],
   "source": [
    "vmap = np.zeros(binid.shape)\n",
    "for ID,ind in zip(bins,inds):\n",
    "    w = binid == ID\n",
    "    vmap[w] = table['velocities'][ind]"
   ]
  },
  {
   "cell_type": "code",
   "execution_count": 66,
   "id": "19f3dc23-2b58-4ff2-9b8d-acf765a6590b",
   "metadata": {},
   "outputs": [],
   "source": [
    "plt.style.use('figures.mplstyle')"
   ]
  },
  {
   "cell_type": "code",
   "execution_count": null,
   "id": "03361cca-4eeb-4dbd-9714-fe98bab6325e",
   "metadata": {},
   "outputs": [],
   "source": []
  },
  {
   "cell_type": "code",
   "execution_count": 78,
   "id": "69b29534-20f4-400b-b750-52b3a62cf541",
   "metadata": {},
   "outputs": [
    {
     "data": {
      "text/plain": [
       "210.0"
      ]
     },
     "execution_count": 78,
     "metadata": {},
     "output_type": "execute_result"
    }
   ],
   "source": [
    "round(np.std(table['velocities']),ndigits=-1)"
   ]
  },
  {
   "cell_type": "code",
   "execution_count": 85,
   "id": "0b4081ca-15e6-4fc4-bf4c-99d04aba77f8",
   "metadata": {},
   "outputs": [
    {
     "data": {
      "text/plain": [
       "<matplotlib.colorbar.Colorbar at 0x3af944aa0>"
      ]
     },
     "execution_count": 85,
     "metadata": {},
     "output_type": "execute_result"
    },
    {
     "data": {
      "image/png": "[encoded data removed]",
      "text/plain": [
       "<Figure size 600x600 with 2 Axes>"
      ]
     },
     "metadata": {},
     "output_type": "display_data"
    }
   ],
   "source": [
    "w = (vmap>100) | (vmap<-100)\n",
    "vmap[w] = np.nan\n",
    "plt.imshow(vmap,cmap='coolwarm',vmin=150,vmax=-150,origin='lower')\n",
    "plt.colorbar()"
   ]
  },
  {
   "cell_type": "code",
   "execution_count": 92,
   "id": "448ae704-204f-4b09-b235-0929db9fe2ea",
   "metadata": {},
   "outputs": [
    {
     "data": {
      "text/plain": [
       "[]"
      ]
     },
     "execution_count": 92,
     "metadata": {},
     "output_type": "execute_result"
    }
   ],
   "source": [
    "testdir = \"/Users/apitts4030/Repo/NaI_analysis/data/NGC4030/cube/BETA-CORR/\"\n",
    "testglob = glob(f\"{testdir}/**/*.fits\",recursive=True)\n",
    "testglob"
   ]
  },
  {
   "cell_type": "code",
   "execution_count": 93,
   "id": "b80303c9-969c-404a-836b-32d7f16ee33d",
   "metadata": {},
   "outputs": [],
   "source": [
    "testdir = \"/Users/apitts4030/Repo/NaI_analysis/data/NGC4030/cube/NGC4030-SQUARE0.6/BETA-CORR/\""
   ]
  },
  {
   "cell_type": "code",
   "execution_count": 94,
   "id": "60f90fc4-cab0-4b84-8afd-c616441dd3f6",
   "metadata": {},
   "outputs": [],
   "source": [
    "fils = glob(os.path.join(testdir,\"**\",\"*.fits\"),recursive=True)"
   ]
  },
  {
   "cell_type": "code",
   "execution_count": 97,
   "id": "e9b34022-d80e-45fa-ae2f-971575417770",
   "metadata": {},
   "outputs": [],
   "source": [
    "for fil in fils:\n",
    "    if \"MAPS\" in fil:\n",
    "        mapfil = fil"
   ]
  },
  {
   "cell_type": "code",
   "execution_count": 99,
   "id": "15f3a5e9-f87c-436e-82e0-8b1b0eddd0da",
   "metadata": {},
   "outputs": [],
   "source": [
    "Map = fits.open(mapfil)"
   ]
  },
  {
   "cell_type": "code",
   "execution_count": 106,
   "id": "0f7073ce-829a-47b6-87d5-1ce3a64b4469",
   "metadata": {},
   "outputs": [
    {
     "name": "stdout",
     "output_type": "stream",
     "text": [
      "Filename: /Users/apitts4030/Repo/NaI_analysis/data/NGC4030/cube/NGC4030-SQUARE0.6/BETA-CORR/SQUARE0.6-MILESHC-MASTARHC2-NOISM/1/1/manga-1-1-MAPS-SQUARE0.6-MILESHC-MASTARHC2-NOISM.fits\n",
      "No.    Name      Ver    Type      Cards   Dimensions   Format\n",
      "  0  PRIMARY       1 PrimaryHDU    1384   ()      \n",
      "  1  SPX_SKYCOO    1 ImageHDU        44   (326, 326, 2)   float32   \n",
      "  2  SPX_ELLCOO    1 ImageHDU        49   (326, 326, 4)   float32   \n",
      "  3  SPX_MFLUX     1 ImageHDU        36   (326, 326)   float32   \n",
      "  4  SPX_MFLUX_IVAR    1 ImageHDU        37   (326, 326)   float32   \n",
      "  5  SPX_SNR       1 ImageHDU        34   (326, 326)   float32   \n",
      "  6  BINID         1 ImageHDU        46   (326, 326, 5)   int32   \n",
      "  7  BIN_LWSKYCOO    1 ImageHDU        44   (326, 326, 2)   float32   \n",
      "  8  BIN_LWELLCOO    1 ImageHDU        49   (326, 326, 4)   float32   \n",
      "  9  BIN_AREA      1 ImageHDU        35   (326, 326)   float32   \n",
      " 10  BIN_FAREA     1 ImageHDU        34   (326, 326)   float32   \n",
      " 11  BIN_MFLUX     1 ImageHDU        37   (326, 326)   float32   \n",
      " 12  BIN_MFLUX_IVAR    1 ImageHDU        38   (326, 326)   float32   \n",
      " 13  BIN_MFLUX_MASK    1 ImageHDU        37   (326, 326)   int32   \n",
      " 14  BIN_SNR       1 ImageHDU        34   (326, 326)   float32   \n",
      " 15  STELLAR_VEL    1 ImageHDU        37   (326, 326)   float32   \n",
      " 16  STELLAR_VEL_IVAR    1 ImageHDU        38   (326, 326)   float32   \n",
      " 17  STELLAR_VEL_MASK    1 ImageHDU        37   (326, 326)   int32   \n",
      " 18  STELLAR_SIGMA    1 ImageHDU        37   (326, 326)   float32   \n",
      " 19  STELLAR_SIGMA_IVAR    1 ImageHDU        38   (326, 326)   float32   \n",
      " 20  STELLAR_SIGMA_MASK    1 ImageHDU        37   (326, 326)   int32   \n",
      " 21  STELLAR_SIGMACORR    1 ImageHDU        44   (326, 326, 2)   float32   \n",
      " 22  STELLAR_FOM    1 ImageHDU        59   (326, 326, 9)   float32   \n",
      " 23  EMLINE_SFLUX    1 ImageHDU        79   (326, 326, 35)   float32   \n",
      " 24  EMLINE_SFLUX_IVAR    1 ImageHDU        80   (326, 326, 35)   float32   \n",
      " 25  EMLINE_SFLUX_MASK    1 ImageHDU        79   (326, 326, 35)   int32   \n",
      " 26  EMLINE_SEW    1 ImageHDU        79   (326, 326, 35)   float32   \n",
      " 27  EMLINE_SEW_CNT    1 ImageHDU        77   (326, 326, 35)   float32   \n",
      " 28  EMLINE_SEW_IVAR    1 ImageHDU        80   (326, 326, 35)   float32   \n",
      " 29  EMLINE_SEW_MASK    1 ImageHDU        79   (326, 326, 35)   int32   \n",
      " 30  EMLINE_GFLUX    1 ImageHDU        79   (326, 326, 35)   float32   \n",
      " 31  EMLINE_GFLUX_IVAR    1 ImageHDU        80   (326, 326, 35)   float32   \n",
      " 32  EMLINE_GFLUX_MASK    1 ImageHDU        79   (326, 326, 35)   int32   \n",
      " 33  EMLINE_GEW    1 ImageHDU        79   (326, 326, 35)   float32   \n",
      " 34  EMLINE_GEW_CNT    1 ImageHDU        77   (326, 326, 35)   float32   \n",
      " 35  EMLINE_GEW_IVAR    1 ImageHDU        80   (326, 326, 35)   float32   \n",
      " 36  EMLINE_GEW_MASK    1 ImageHDU        79   (326, 326, 35)   int32   \n",
      " 37  EMLINE_GVEL    1 ImageHDU        79   (326, 326, 35)   float32   \n",
      " 38  EMLINE_GVEL_IVAR    1 ImageHDU        80   (326, 326, 35)   float32   \n",
      " 39  EMLINE_GVEL_MASK    1 ImageHDU        79   (326, 326, 35)   int32   \n",
      " 40  EMLINE_GSIGMA    1 ImageHDU        79   (326, 326, 35)   float32   \n",
      " 41  EMLINE_GSIGMA_IVAR    1 ImageHDU        80   (326, 326, 35)   float32   \n",
      " 42  EMLINE_GSIGMA_MASK    1 ImageHDU        79   (326, 326, 35)   int32   \n",
      " 43  EMLINE_INSTSIGMA    1 ImageHDU        77   (326, 326, 35)   float32   \n",
      " 44  EMLINE_TPLSIGMA    1 ImageHDU        77   (326, 326, 35)   float32   \n",
      " 45  EMLINE_GA     1 ImageHDU        77   (326, 326, 35)   float32   \n",
      " 46  EMLINE_GANR    1 ImageHDU        76   (326, 326, 35)   float32   \n",
      " 47  EMLINE_FOM    1 ImageHDU        59   (326, 326, 9)   float32   \n",
      " 48  EMLINE_LFOM    1 ImageHDU        76   (326, 326, 35)   float32   \n",
      " 49  SPECINDEX     1 ImageHDU       135   (326, 326, 46)   float32   \n",
      " 50  SPECINDEX_IVAR    1 ImageHDU       136   (326, 326, 46)   float32   \n",
      " 51  SPECINDEX_MASK    1 ImageHDU        90   (326, 326, 46)   int32   \n",
      " 52  SPECINDEX_CORR    1 ImageHDU        87   (326, 326, 46)   float32   \n",
      " 53  SPECINDEX_MODEL    1 ImageHDU        87   (326, 326, 46)   float32   \n",
      " 54  SPECINDEX_BF    1 ImageHDU       135   (326, 326, 46)   float32   \n",
      " 55  SPECINDEX_BF_IVAR    1 ImageHDU       136   (326, 326, 46)   float32   \n",
      " 56  SPECINDEX_BF_MASK    1 ImageHDU        90   (326, 326, 46)   int32   \n",
      " 57  SPECINDEX_BF_CORR    1 ImageHDU        87   (326, 326, 46)   float32   \n",
      " 58  SPECINDEX_BF_MODEL    1 ImageHDU        87   (326, 326, 46)   float32   \n",
      " 59  SPECINDEX_WGT    1 ImageHDU       135   (326, 326, 46)   float32   \n",
      " 60  SPECINDEX_WGT_IVAR    1 ImageHDU       136   (326, 326, 46)   float32   \n",
      " 61  SPECINDEX_WGT_MASK    1 ImageHDU        90   (326, 326, 46)   int32   \n",
      " 62  SPECINDEX_WGT_CORR    1 ImageHDU        87   (326, 326, 46)   float32   \n",
      " 63  SPECINDEX_WGT_MODEL    1 ImageHDU        87   (326, 326, 46)   float32   \n"
     ]
    }
   ],
   "source": [
    "Map.info()"
   ]
  },
  {
   "cell_type": "code",
   "execution_count": null,
   "id": "6a8be299-8bc1-42d3-b5a9-76d9b861cf81",
   "metadata": {},
   "outputs": [],
   "source": []
  },
  {
   "cell_type": "code",
   "execution_count": 113,
   "id": "53add9cf-3b67-4c9e-97ec-9187cc918ece",
   "metadata": {},
   "outputs": [
    {
     "data": {
      "text/plain": [
       "XTENSION= 'IMAGE   '           / Image extension                                \n",
       "BITPIX  =                  -32 / array data type                                \n",
       "NAXIS   =                    3 / number of array dimensions                     \n",
       "NAXIS1  =                  326                                                  \n",
       "NAXIS2  =                  326                                                  \n",
       "NAXIS3  =                   35                                                  \n",
       "PCOUNT  =                    0 / number of parameters                           \n",
       "GCOUNT  =                    1 / number of groups                               \n",
       "WCSAXES =                    3 / Number of coordinate axes                      \n",
       "CRPIX1  =      168.69830612546 / Pixel coordinate of reference point            \n",
       "CRPIX2  =      162.60512922633 / Pixel coordinate of reference point            \n",
       "CRPIX3  =                  1.0 / Pixel coordinate of reference point            \n",
       "PC1_1   = -5.5555555555556E-05 / Coordinate transformation matrix element       \n",
       "PC2_2   =  5.5555555555556E-05 / Coordinate transformation matrix element       \n",
       "CDELT1  =                  1.0 / [deg] Coordinate increment at reference point  \n",
       "CDELT2  =                  1.0 / [deg] Coordinate increment at reference point  \n",
       "CDELT3  =                  1.0 / Coordinate increment at reference point        \n",
       "CUNIT1  = 'deg'                / Units of coordinate increment and value        \n",
       "CUNIT2  = 'deg'                / Units of coordinate increment and value        \n",
       "CTYPE1  = 'RA---TAN'           / Right ascension, gnomonic projection           \n",
       "CTYPE2  = 'DEC--TAN'           / Declination, gnomonic projection               \n",
       "CTYPE3  = '        '           / Undefined type                                 \n",
       "CRVAL1  =           180.098775 / [deg] Coordinate value at reference point      \n",
       "CRVAL2  =              -1.1001 / [deg] Coordinate value at reference point      \n",
       "CRVAL3  =                  1.0 / Coordinate value at reference point            \n",
       "LONPOLE =                180.0 / [deg] Native longitude of celestial pole       \n",
       "LATPOLE =              -1.1001 / [deg] Native latitude of celestial pole        \n",
       "CRDER3  =                0.026 / Random error in coordinate                     \n",
       "CSYER1  =    1.26809825762E-05 / [deg] Systematic error in coordinate           \n",
       "CSYER2  =    7.82119428274E-06 / [deg] Systematic error in coordinate           \n",
       "MJDREF  =                  0.0 / [d] MJD of fiducial time                       \n",
       "RADESYS = 'ICRS'               / Equatorial coordinate system                   \n",
       "CUNIT3  = '        '           / Undefined units                                \n",
       "AUTHOR  = 'K Westfall <westfall@ucolick.org> & SDSS-IV Data Group'              \n",
       "MASKNAME= 'MANGA_DAPPIXMASK'                                                    \n",
       "C01     = 'OIId-3728'          / Data in channel 1                              \n",
       "C02     = 'OII-3729'           / Data in channel 2                              \n",
       "C03     = 'H12-3751'           / Data in channel 3                              \n",
       "C04     = 'H11-3771'           / Data in channel 4                              \n",
       "C05     = 'Hthe-3798'          / Data in channel 5                              \n",
       "C06     = 'Heta-3836'          / Data in channel 6                              \n",
       "C07     = 'NeIII-3869'         / Data in channel 7                              \n",
       "C08     = 'HeI-3889'           / Data in channel 8                              \n",
       "C09     = 'Hzet-3890'          / Data in channel 9                              \n",
       "C10     = 'NeIII-3968'         / Data in channel 10                             \n",
       "C11     = 'Heps-3971'          / Data in channel 11                             \n",
       "C12     = 'Hdel-4102'          / Data in channel 12                             \n",
       "C13     = 'Hgam-4341'          / Data in channel 13                             \n",
       "C14     = 'HeII-4687'          / Data in channel 14                             \n",
       "C15     = 'Hb-4862 '           / Data in channel 15                             \n",
       "C16     = 'OIII-4960'          / Data in channel 16                             \n",
       "C17     = 'OIII-5008'          / Data in channel 17                             \n",
       "C18     = 'NI-5199 '           / Data in channel 18                             \n",
       "C19     = 'NI-5201 '           / Data in channel 19                             \n",
       "C20     = 'HeI-5877'           / Data in channel 20                             \n",
       "C21     = 'OI-6302 '           / Data in channel 21                             \n",
       "C22     = 'OI-6365 '           / Data in channel 22                             \n",
       "C23     = 'NII-6549'           / Data in channel 23                             \n",
       "C24     = 'Ha-6564 '           / Data in channel 24                             \n",
       "C25     = 'NII-6585'           / Data in channel 25                             \n",
       "C26     = 'SII-6718'           / Data in channel 26                             \n",
       "C27     = 'SII-6732'           / Data in channel 27                             \n",
       "C28     = 'HeI-7067'           / Data in channel 28                             \n",
       "C29     = 'ArIII-7137'         / Data in channel 29                             \n",
       "C30     = 'ArIII-7753'         / Data in channel 30                             \n",
       "C31     = 'Peta-9017'          / Data in channel 31                             \n",
       "C32     = 'SIII-9071'          / Data in channel 32                             \n",
       "C33     = 'Pzet-9231'          / Data in channel 33                             \n",
       "C34     = 'SIII-9533'          / Data in channel 34                             \n",
       "C35     = 'Peps-9548'          / Data in channel 35                             \n",
       "BUNIT   = '1E-17 erg/s/cm^2/spaxel' / Unit of pixel value                       \n",
       "HDUCLASS= 'SDSS    '           / SDSS format class                              \n",
       "HDUCLAS1= 'CUBE    '           / Data format                                    \n",
       "HDUCLAS2= 'DATA    '                                                            \n",
       "ERRDATA = 'EMLINE_SFLUX_IVAR'  / Associated inv. variance extension             \n",
       "QUALDATA= 'EMLINE_SFLUX_MASK'  / Associated quality extension                   \n",
       "EXTNAME = 'EMLINE_SFLUX'       / extension name                                 \n",
       "CHECKSUM= 'HDrIKDo9HDoGHDo9'   / HDU checksum updated 2024-06-25T01:58:54       \n",
       "DATASUM = '3926914179'         / data unit checksum updated 2024-06-25T01:58:54 "
      ]
     },
     "execution_count": 113,
     "metadata": {},
     "output_type": "execute_result"
    }
   ],
   "source": [
    "Map['EMLINE_SFLUX'].header"
   ]
  },
  {
   "cell_type": "code",
   "execution_count": 91,
   "id": "43b0628e-c859-4875-9b0b-8e3ba8dd3ac5",
   "metadata": {},
   "outputs": [
    {
     "data": {
      "text/plain": [
       "'/Users/apitts4030/Repo/NaI_analysis'"
      ]
     },
     "execution_count": 91,
     "metadata": {},
     "output_type": "execute_result"
    }
   ],
   "source": [
    "import os\n",
    "os.path.dirname(os.path.abspath('maps'))"
   ]
  },
  {
   "cell_type": "code",
   "execution_count": 114,
   "id": "e3dbdc54-1068-495d-90d4-176e8d64e4bd",
   "metadata": {},
   "outputs": [],
   "source": [
    "import astropy.units as u\n",
    "\n",
    "test = 100 * u.m"
   ]
  },
  {
   "cell_type": "code",
   "execution_count": null,
   "id": "082d8f2c-ec1d-4791-ba35-1c1d7523d664",
   "metadata": {},
   "outputs": [],
   "source": [
    "dtype = []\n",
    "dtype.append( ('OIII/HB', list) )\n",
    "dtype.append( ('NII/HA', list) )\n",
    "dtype.append( ('SII/HA', list) )\n",
    "dtype.append( ('OI/HA', list) )\n",
    "dtype.append( ('') )"
   ]
  },
  {
   "cell_type": "code",
   "execution_count": 123,
   "id": "26efaf9a-8240-4922-bea6-8cdb5e4f867d",
   "metadata": {},
   "outputs": [
    {
     "name": "stderr",
     "output_type": "stream",
     "text": [
      "/var/folders/ms/1cj6qz8d54qg6yvchfl0610c0000gt/T/ipykernel_25006/4175704624.py:12: RuntimeWarning: invalid value encountered in divide\n",
      "  oiii_hb = oiii/hb\n",
      "/var/folders/ms/1cj6qz8d54qg6yvchfl0610c0000gt/T/ipykernel_25006/4175704624.py:17: RuntimeWarning: divide by zero encountered in divide\n",
      "  sii_ha = sii/ha\n",
      "/var/folders/ms/1cj6qz8d54qg6yvchfl0610c0000gt/T/ipykernel_25006/4175704624.py:17: RuntimeWarning: invalid value encountered in divide\n",
      "  sii_ha = sii/ha\n",
      "/var/folders/ms/1cj6qz8d54qg6yvchfl0610c0000gt/T/ipykernel_25006/4175704624.py:22: RuntimeWarning: divide by zero encountered in divide\n",
      "  oi_ha = oi/ha\n",
      "/var/folders/ms/1cj6qz8d54qg6yvchfl0610c0000gt/T/ipykernel_25006/4175704624.py:22: RuntimeWarning: invalid value encountered in divide\n",
      "  oi_ha = oi/ha\n",
      "/var/folders/ms/1cj6qz8d54qg6yvchfl0610c0000gt/T/ipykernel_25006/4175704624.py:27: RuntimeWarning: invalid value encountered in divide\n",
      "  nii_ha = nii/ha\n"
     ]
    }
   ],
   "source": [
    "emlines = Map['EMLINE_SFLUX'].data\n",
    "ivars = Map['EMLINE_SFLUX_IVAR'].data\n",
    "binid = Map['BINID'].data[0]\n",
    "\n",
    "\n",
    "ha = emlines[23]\n",
    "hb = emlines[14]\n",
    "\n",
    "oiii = emlines[15] #oiii 4690\n",
    "#oiii = emlines[16] #oiii 5007 \n",
    "\n",
    "oiii_hb = oiii/hb\n",
    "\n",
    "sii = emlines[25] # sii 6718\n",
    "#sii = emlines[26] # sii 6732\n",
    "\n",
    "sii_ha = sii/ha\n",
    "\n",
    "oi = emlines[20] # oi 6302\n",
    "#oi = emlines[21] # oi 6365\n",
    "\n",
    "oi_ha = oi/ha\n",
    "\n",
    "nii = emlines[22] # nii 6549\n",
    "#nii = emlines[24] # nii 6585\n",
    "\n",
    "nii_ha = nii/ha\n",
    "\n",
    "fake_niiha = np.linspace(np.min(nii_ha),np.max(nii_ha),10000)\n",
    "fake_siiha = np.linspace(np.min(sii_ha),np.max(sii_ha),10000)\n",
    "fake_oiha = np.linspace(np.min(oi_ha),np.max(oi_ha),10000)"
   ]
  },
  {
   "cell_type": "code",
   "execution_count": 140,
   "id": "ee48c7c1-6006-49ec-9d59-c985ae684331",
   "metadata": {},
   "outputs": [],
   "source": [
    "def demarcation2(ratio):\n",
    "    w = np.isfinite(ratio)\n",
    "    fake_ratio = np.linspace(np.min(ratio[w]),np.max(ratio[w]),1000)\n",
    "    demarc_line = 0.61 / np.log10((fake_ratio) - 0.05) + 1.3\n",
    "\n",
    "    return np.log10(fake_ratio), np.log10(demarc_line)"
   ]
  },
  {
   "cell_type": "code",
   "execution_count": 124,
   "id": "b7d92ab9-c1ac-45ac-bf48-818ab9c50409",
   "metadata": {},
   "outputs": [],
   "source": [
    "def demarcation(ratio):\n",
    "    return 0.61 / np.log10((ratio) - 0.05) + 1.3"
   ]
  },
  {
   "cell_type": "code",
   "execution_count": null,
   "id": "281cbab6-14cb-46c6-be28-1a0b8df3b8a2",
   "metadata": {},
   "outputs": [],
   "source": [
    "def setup_elrs(emlines):\n",
    "    ha = emlines[23]\n",
    "    hb = emlines[14]\n",
    "    oiii = emlines[15] #oiii 4690\n",
    "    #oiii = emlines[16] #oiii 5007     \n",
    "    sii = emlines[25] # sii 6718\n",
    "    #sii = emlines[26] # sii 6732\n",
    "    oi = emlines[20] # oi 6302\n",
    "    #oi = emlines[21] # oi 6365\n",
    "    nii = emlines[22] # nii 6549\n",
    "    #nii = emlines[24] # nii 6585\n",
    "    global sii_ha = sii/ha\n",
    "    global oiii_hb = oiii/hb    \n",
    "    global oi_ha = oi/ha\n",
    "    global nii_ha = nii/ha\n",
    "    \n",
    "    ELRs = []"
   ]
  },
  {
   "cell_type": "code",
   "execution_count": 141,
   "id": "a6767e22-f8b3-476a-8e05-d0e0ab58c7cd",
   "metadata": {},
   "outputs": [
    {
     "name": "stderr",
     "output_type": "stream",
     "text": [
      "/var/folders/ms/1cj6qz8d54qg6yvchfl0610c0000gt/T/ipykernel_25006/3888483919.py:2: RuntimeWarning: invalid value encountered in log10\n",
      "  ax[0].plot(np.log10(nii_ha.flatten()),np.log10(oiii_hb.flatten()),'v')\n",
      "/var/folders/ms/1cj6qz8d54qg6yvchfl0610c0000gt/T/ipykernel_25006/3888483919.py:2: RuntimeWarning: divide by zero encountered in log10\n",
      "  ax[0].plot(np.log10(nii_ha.flatten()),np.log10(oiii_hb.flatten()),'v')\n",
      "/var/folders/ms/1cj6qz8d54qg6yvchfl0610c0000gt/T/ipykernel_25006/1262710901.py:4: RuntimeWarning: invalid value encountered in log10\n",
      "  demarc_line = 0.61 / np.log10((fake_ratio) - 0.05) + 1.3\n",
      "/var/folders/ms/1cj6qz8d54qg6yvchfl0610c0000gt/T/ipykernel_25006/1262710901.py:6: RuntimeWarning: invalid value encountered in log10\n",
      "  return np.log10(fake_ratio), np.log10(demarc_line)\n",
      "/var/folders/ms/1cj6qz8d54qg6yvchfl0610c0000gt/T/ipykernel_25006/3888483919.py:8: RuntimeWarning: invalid value encountered in log10\n",
      "  ax[1].plot(np.log10(sii_ha.flatten()),np.log10(oiii_hb.flatten()), 'v')\n",
      "/var/folders/ms/1cj6qz8d54qg6yvchfl0610c0000gt/T/ipykernel_25006/3888483919.py:8: RuntimeWarning: divide by zero encountered in log10\n",
      "  ax[1].plot(np.log10(sii_ha.flatten()),np.log10(oiii_hb.flatten()), 'v')\n",
      "/var/folders/ms/1cj6qz8d54qg6yvchfl0610c0000gt/T/ipykernel_25006/3888483919.py:12: RuntimeWarning: divide by zero encountered in log10\n",
      "  ax[2].plot(np.log10(oi_ha.flatten()),np.log10(oiii_hb.flatten()), 'v')\n",
      "/var/folders/ms/1cj6qz8d54qg6yvchfl0610c0000gt/T/ipykernel_25006/3888483919.py:12: RuntimeWarning: invalid value encountered in log10\n",
      "  ax[2].plot(np.log10(oi_ha.flatten()),np.log10(oiii_hb.flatten()), 'v')\n"
     ]
    },
    {
     "data": {
      "image/png": "[encoded data removed]",
      "text/plain": [
       "<Figure size 1200x400 with 3 Axes>"
      ]
     },
     "metadata": {},
     "output_type": "display_data"
    }
   ],
   "source": [
    "fig, ax = plt.subplots(1,3,figsize=(12,4),sharey=True)\n",
    "ax[0].plot(np.log10(nii_ha.flatten()),np.log10(oiii_hb.flatten()),'v')\n",
    "ax[0].plot(line, demarc, 'k', linestyle='dotted')\n",
    "ax[0].set_ylabel(r\"$\\mathrm{log\\ ([O\\ III]/H \\beta)}$\")\n",
    "ax[0].set_xlabel(r\"$\\mathrm{log\\ ([N\\ II]/H \\alpha)}$\")\n",
    "\n",
    "ax[1].plot(np.log10(sii_ha.flatten()),np.log10(oiii_hb.flatten()), 'v')\n",
    "ax[1].plot(np.log10(fake_siiha), demarcation(fake_siiha), 'k', linestyle='dotted')\n",
    "ax[1].set_xlabel(r\"$\\mathrm{log\\ ([S\\ II]/H \\alpha)}$\")\n",
    "\n",
    "ax[2].plot(np.log10(oi_ha.flatten()),np.log10(oiii_hb.flatten()), 'v')\n",
    "ax[2].plot(np.log10(fake_oiha), demarcation(fake_oiha), 'k', linestyle='dotted')\n",
    "ax[2].set_xlabel(r\"$\\mathrm{log\\ ([O\\ I]/H \\alpha)}$\")\n",
    "fig.subplots_adjust(hspace=0,wspace=0)"
   ]
  },
  {
   "cell_type": "code",
   "execution_count": 170,
   "id": "3254b183-d595-4769-baa9-fd2e06d61486",
   "metadata": {},
   "outputs": [
    {
     "data": {
      "text/plain": [
       "(326, 326)"
      ]
     },
     "execution_count": 170,
     "metadata": {},
     "output_type": "execute_result"
    }
   ],
   "source": [
    "oiii_hb.shape"
   ]
  },
  {
   "cell_type": "code",
   "execution_count": 166,
   "id": "22e70d02-8559-4001-b2aa-78be1e413c82",
   "metadata": {},
   "outputs": [
    {
     "name": "stderr",
     "output_type": "stream",
     "text": [
      "/var/folders/ms/1cj6qz8d54qg6yvchfl0610c0000gt/T/ipykernel_25006/1749688364.py:7: RuntimeWarning: invalid value encountered in divide\n",
      "  oiii_hb = np.log10(oiii/hb)\n",
      "/var/folders/ms/1cj6qz8d54qg6yvchfl0610c0000gt/T/ipykernel_25006/1749688364.py:7: RuntimeWarning: divide by zero encountered in log10\n",
      "  oiii_hb = np.log10(oiii/hb)\n",
      "/var/folders/ms/1cj6qz8d54qg6yvchfl0610c0000gt/T/ipykernel_25006/1749688364.py:7: RuntimeWarning: invalid value encountered in log10\n",
      "  oiii_hb = np.log10(oiii/hb)\n",
      "/var/folders/ms/1cj6qz8d54qg6yvchfl0610c0000gt/T/ipykernel_25006/1749688364.py:11: RuntimeWarning: divide by zero encountered in divide\n",
      "  sii_ha = np.log10(sii/ha)\n",
      "/var/folders/ms/1cj6qz8d54qg6yvchfl0610c0000gt/T/ipykernel_25006/1749688364.py:11: RuntimeWarning: invalid value encountered in divide\n",
      "  sii_ha = np.log10(sii/ha)\n",
      "/var/folders/ms/1cj6qz8d54qg6yvchfl0610c0000gt/T/ipykernel_25006/1749688364.py:11: RuntimeWarning: invalid value encountered in log10\n",
      "  sii_ha = np.log10(sii/ha)\n",
      "/var/folders/ms/1cj6qz8d54qg6yvchfl0610c0000gt/T/ipykernel_25006/1749688364.py:16: RuntimeWarning: divide by zero encountered in divide\n",
      "  oi_ha = np.log10(oi/ha)\n",
      "/var/folders/ms/1cj6qz8d54qg6yvchfl0610c0000gt/T/ipykernel_25006/1749688364.py:16: RuntimeWarning: invalid value encountered in divide\n",
      "  oi_ha = np.log10(oi/ha)\n",
      "/var/folders/ms/1cj6qz8d54qg6yvchfl0610c0000gt/T/ipykernel_25006/1749688364.py:16: RuntimeWarning: divide by zero encountered in log10\n",
      "  oi_ha = np.log10(oi/ha)\n",
      "/var/folders/ms/1cj6qz8d54qg6yvchfl0610c0000gt/T/ipykernel_25006/1749688364.py:16: RuntimeWarning: invalid value encountered in log10\n",
      "  oi_ha = np.log10(oi/ha)\n",
      "/var/folders/ms/1cj6qz8d54qg6yvchfl0610c0000gt/T/ipykernel_25006/1749688364.py:21: RuntimeWarning: invalid value encountered in divide\n",
      "  nii_ha = np.log10(nii/ha)\n"
     ]
    },
    {
     "data": {
      "text/plain": [
       "(-3.833695888519287, 1.1040496826171875)"
      ]
     },
     "execution_count": 166,
     "metadata": {},
     "output_type": "execute_result"
    },
    {
     "data": {
      "image/png": "[encoded data removed]",
      "text/plain": [
       "<Figure size 1200x400 with 3 Axes>"
      ]
     },
     "metadata": {},
     "output_type": "display_data"
    }
   ],
   "source": [
    "ha = emlines[23]\n",
    "hb = emlines[14]\n",
    "\n",
    "#oiii = emlines[15] #oiii 4690\n",
    "oiii = emlines[16] #oiii 5007 \n",
    "\n",
    "oiii_hb = np.log10(oiii/hb)\n",
    "\n",
    "sii = emlines[25] + emlines[26] # sii 6718 + 6732\n",
    "\n",
    "sii_ha = np.log10(sii/ha)\n",
    "\n",
    "oi = emlines[20] # oi 6302\n",
    "#oi = emlines[21] # oi 6365\n",
    "\n",
    "oi_ha = np.log10(oi/ha)\n",
    "\n",
    "#nii = emlines[22] # nii 6549\n",
    "nii = emlines[24] # nii 6585\n",
    "\n",
    "nii_ha = np.log10(nii/ha)\n",
    "\n",
    "fake_niiha = np.linspace(np.min(nii_ha[np.isfinite(nii_ha)]),np.max(nii_ha[np.isfinite(nii_ha)]),1000)\n",
    "fake_siiha = np.linspace(np.min(sii_ha[np.isfinite(sii_ha)]),np.max(sii_ha[np.isfinite(sii_ha)]),1000)\n",
    "fake_oiha = np.linspace(np.min(oi_ha[np.isfinite(oi_ha)]),np.max(oi_ha[np.isfinite(oi_ha)]),1000)\n",
    "\n",
    "fig, ax = plt.subplots(1,3,figsize=(12,4),sharey=True)\n",
    "\n",
    "\n",
    "\n",
    "ax[0].plot(nii_ha,oiii_hb,'v',color='k',ms=1,alpha=0.75)\n",
    "\n",
    "demarcation = lambda log_lr: 0.61 / (log_lr - 0.05) + 1.3\n",
    "classification = demarcation(fake_niiha)\n",
    "w = fake_niiha < 0.05\n",
    "ax[0].plot(fake_niiha[w], classification[w], color='r', linestyle='dotted')\n",
    "ax[0].set_ylabel(r\"$\\mathrm{(log[O\\ III]/H \\beta)}$\")\n",
    "ax[0].set_xlabel(r\"$\\mathrm{(log[N\\ II]/H \\alpha)}$\")\n",
    "ax[0].set_xlim(np.min(nii_ha[np.isfinite(nii_ha)]),np.max(nii_ha[np.isfinite(nii_ha)]))\n",
    "ax[0].set_ylim(np.min(oiii_hb[np.isfinite(oiii_hb)]),np.max(oiii_hb[np.isfinite(oiii_hb)]))\n",
    "\n",
    "\n",
    "\n",
    "ax[1].plot(sii_ha,oiii_hb, 'v', color='k',ms=1,alpha=0.75)\n",
    "\n",
    "demarcation = lambda log_lr: 0.72 / (log_lr - 0.32) + 1.3\n",
    "classification = demarcation(fake_siiha)\n",
    "w = fake_siiha < 0.32\n",
    "ax[1].plot(fake_siiha[w], classification[w], color='r', linestyle='dotted')\n",
    "ax[1].set_xlabel(r\"$\\mathrm{(log[S\\ II]/H \\alpha)}$\")\n",
    "\n",
    "ax[0].set_xlim(np.min(nii_ha[np.isfinite(nii_ha)]),np.max(nii_ha[np.isfinite(nii_ha)]))\n",
    "ax[0].set_ylim(np.min(oiii_hb[np.isfinite(oiii_hb)]),np.max(oiii_hb[np.isfinite(oiii_hb)]))\n",
    "ax[1].set_xlim(np.min(sii_ha[np.isfinite(sii_ha)]),np.max(sii_ha[np.isfinite(sii_ha)]))\n",
    "ax[1].set_ylim(np.min(oiii_hb[np.isfinite(oiii_hb)]),np.max(oiii_hb[np.isfinite(oiii_hb)]))\n",
    "\n",
    "\n",
    "ax[2].plot(oi_ha,oiii_hb, 'v', color='k', ms=1, alpha=0.75)\n",
    "\n",
    "demarcation = lambda log_lr: 0.73 / (log_lr - 0.59) + 1.33\n",
    "classification = demarcation(fake_oiha)\n",
    "w = fake_oiha < 0.59\n",
    "ax[2].plot(fake_oiha[w], classification[w], color='r', linestyle='dotted')\n",
    "ax[2].set_xlabel(r\"$\\mathrm{(log[O\\ I]/H \\alpha)}$\")\n"
   ]
  },
  {
   "cell_type": "code",
   "execution_count": 179,
   "id": "9799f1be-dd76-43c8-ba10-f55bf764a89f",
   "metadata": {},
   "outputs": [],
   "source": [
    "ys, xs = np.where(5 == binid)"
   ]
  },
  {
   "cell_type": "code",
   "execution_count": 180,
   "id": "728764f6-4a71-478b-b520-651c7279ebbf",
   "metadata": {},
   "outputs": [
    {
     "data": {
      "text/plain": [
       "array([177, 177, 177, 178, 178, 178, 179, 179, 179])"
      ]
     },
     "execution_count": 180,
     "metadata": {},
     "output_type": "execute_result"
    }
   ],
   "source": [
    "ys"
   ]
  },
  {
   "cell_type": "code",
   "execution_count": 181,
   "id": "d138adc8-3184-408d-99a1-b4442072f8c5",
   "metadata": {},
   "outputs": [
    {
     "data": {
      "text/plain": [
       "array([159, 160, 161, 159, 160, 161, 159, 160, 161])"
      ]
     },
     "execution_count": 181,
     "metadata": {},
     "output_type": "execute_result"
    }
   ],
   "source": [
    "xs"
   ]
  },
  {
   "cell_type": "code",
   "execution_count": 182,
   "id": "4b02dfe8-0689-4b23-aa15-fe1b454fe56f",
   "metadata": {},
   "outputs": [
    {
     "data": {
      "text/plain": [
       "array([5, 5, 5, 5, 5, 5, 5, 5, 5], dtype='>i4')"
      ]
     },
     "execution_count": 182,
     "metadata": {},
     "output_type": "execute_result"
    }
   ],
   "source": [
    "binid[ys,xs]"
   ]
  },
  {
   "cell_type": "code",
   "execution_count": 203,
   "id": "8c6d0075-badf-4845-95ef-b2bb26cea2bc",
   "metadata": {},
   "outputs": [],
   "source": [
    "test = np.zeros((5,5),dtype=str)"
   ]
  },
  {
   "cell_type": "code",
   "execution_count": 204,
   "id": "403dc44b-f510-466d-b95f-ed6de8b7ac3c",
   "metadata": {},
   "outputs": [
    {
     "data": {
      "text/plain": [
       "array([['', '', '', '', ''],\n",
       "       ['', '', '', '', ''],\n",
       "       ['', '', '', '', ''],\n",
       "       ['', '', '', '', ''],\n",
       "       ['', '', '', '', '']], dtype='<U1')"
      ]
     },
     "execution_count": 204,
     "metadata": {},
     "output_type": "execute_result"
    }
   ],
   "source": [
    "test"
   ]
  },
  {
   "cell_type": "code",
   "execution_count": 205,
   "id": "f7c528ca-c663-4967-a4c9-1696f87664a2",
   "metadata": {},
   "outputs": [],
   "source": [
    "test[1,4] = 'test'"
   ]
  },
  {
   "cell_type": "code",
   "execution_count": 218,
   "id": "e7c8fc03-1a63-4b0b-8a1a-ef5013711358",
   "metadata": {},
   "outputs": [],
   "source": [
    "def BPT(map_fil, fig_output):\n",
    "    \"\"\"\n",
    "    Creates spaxel-level BPT diagrams for individual galaxies using DAP emissionn line flux map and a new map\n",
    "    containing color-coded classifications of each spaxel. Classifications are determined by Kewley et al. 2006.\n",
    "    \"\"\"\n",
    "\n",
    "    logging.info(\"Obtaining Maps.\")\n",
    "    Map = fits.open(map_fil)\n",
    "    emlines = Map['EMLINE_SFLUX'].data\n",
    "    binid = Map['BINID'].data[0]\n",
    "\n",
    "\n",
    "    ha = emlines[23]\n",
    "    hb = emlines[14]\n",
    "\n",
    "    #oiii = emlines[15] #oiii 4690\n",
    "    oiii = emlines[16] #oiii 5007 \n",
    "\n",
    "    oiii_hb = np.log10(oiii/hb)\n",
    "\n",
    "    sii = emlines[25] + emlines[26] # sii 6718,32\n",
    "\n",
    "    sii_ha = np.log10(sii/ha)\n",
    "\n",
    "    oi = emlines[20] # oi 6302\n",
    "    #oi = emlines[21] # oi 6365\n",
    "\n",
    "    oi_ha = np.log10(oi/ha)\n",
    "\n",
    "    #nii = emlines[22] # nii 6549\n",
    "    nii = emlines[24] # nii 6585\n",
    "\n",
    "    nii_ha = np.log10(nii/ha)\n",
    "\n",
    "    fake_niiha = np.linspace(np.min(nii_ha[np.isfinite(nii_ha)]),np.max(nii_ha[np.isfinite(nii_ha)]),10000)\n",
    "    fake_siiha = np.linspace(np.min(sii_ha[np.isfinite(sii_ha)]),np.max(sii_ha[np.isfinite(sii_ha)]),10000)\n",
    "    fake_oiha = np.linspace(np.min(oi_ha[np.isfinite(oi_ha)]),np.max(oi_ha[np.isfinite(oi_ha)]),10000)\n",
    "\n",
    "\n",
    "\n",
    "    logging.info(\"Creating BPT ELRs plot.\")\n",
    "    fig, ax = plt.subplots(1,3,figsize=(12,4),sharey=True)\n",
    "\n",
    "\n",
    "    ax[0].plot(nii_ha,oiii_hb,'v',color='k',ms=1,alpha=0.35)\n",
    "\n",
    "    demarcation = lambda log_lr: 0.61 / (log_lr - 0.05) + 1.3\n",
    "    classification = demarcation(fake_niiha)\n",
    "    w = fake_niiha < 0.05\n",
    "    ax[0].plot(fake_niiha[w], classification[w], color='r')\n",
    "    ax[0].set_ylabel(r\"$\\mathrm{(log[O\\ III]/H \\beta)}$\")\n",
    "    ax[0].set_xlabel(r\"$\\mathrm{(log[N\\ II]/H \\alpha)}$\")\n",
    "\n",
    "\n",
    "\n",
    "    ax[1].plot(sii_ha,oiii_hb, 'v', color='k',ms=1,alpha=0.35)\n",
    "    \n",
    "    demarcation = lambda log_lr: 0.72 / (log_lr - 0.32) + 1.3\n",
    "    classification = demarcation(fake_siiha)\n",
    "    w = fake_siiha < 0.32\n",
    "    ax[1].plot(fake_siiha[w], classification[w], color='r')\n",
    "    ax[1].set_xlabel(r\"$\\mathrm{(log[S\\ II]/H \\alpha)}$\")\n",
    "\n",
    "\n",
    "    ax[2].plot(oi_ha,oiii_hb, 'v', color='k',ms=1,alpha=0.35)\n",
    "\n",
    "    demarcation = lambda log_lr: 0.73 / (log_lr - 0.59) + 1.33\n",
    "    classification = demarcation(fake_oiha)\n",
    "    w = fake_oiha < 0.59\n",
    "    ax[2].plot(fake_oiha[w], classification[w], color='r')\n",
    "    ax[2].set_xlabel(r\"$\\mathrm{(log[O\\ I]/H \\alpha)}$\")\n",
    "\n",
    "\n",
    "    ax[0].set_xlim(np.min(nii_ha[np.isfinite(nii_ha)]),np.max(nii_ha[np.isfinite(nii_ha)]))\n",
    "    ax[0].set_ylim(np.min(oiii_hb[np.isfinite(oiii_hb)]),np.max(oiii_hb[np.isfinite(oiii_hb)]))\n",
    "    ax[1].set_xlim(np.min(sii_ha[np.isfinite(sii_ha)]),np.max(sii_ha[np.isfinite(sii_ha)]))\n",
    "    ax[1].set_ylim(np.min(oiii_hb[np.isfinite(oiii_hb)]),np.max(oiii_hb[np.isfinite(oiii_hb)]))\n",
    "    ax[2].set_xlim(np.min(oi_ha[np.isfinite(oi_ha)]),np.max(oi_ha[np.isfinite(oi_ha)]))\n",
    "    ax[2].set_ylim(np.min(oiii_hb[np.isfinite(oiii_hb)]),np.max(oiii_hb[np.isfinite(oiii_hb)]))\n",
    "        #fig.set_box_aspect(0)\n",
    "    fig.subplots_adjust(hspace=0,wspace=0)\n",
    "    #fig.savefig(fig_output,bbox_inches='tight',dpi=300)\n",
    "    logging.info(f\"BPT Plot saved to {fig_output}\")\n",
    "    \n",
    "    logging.info(\"Creating classification map.\")\n",
    "    class_map = np.zeros(binid.shape, dtype=str)\n",
    "\n",
    "    color_map = {\n",
    "        'star-forming': np.array([119, 168, 212]), # blue\n",
    "        'composite': np.array([235, 235, 240]), # white\n",
    "        'seyfert': np.array([250, 209, 44]), # yellow\n",
    "        'liners': np.array([51, 54, 82]), # dark blue\n",
    "        'unk': np.array([0, 0, 0])\n",
    "    }\n",
    "\n",
    "    data3d = np.ndarray((binid.shape[0], binid.shape[0], 3), dtype=int)  \n",
    "\n",
    "    for ID in np.unique(binid):\n",
    "        w = binid == ID\n",
    "        ys, xs = np.where(binid == ID)\n",
    "\n",
    "        elrs = {\n",
    "            'oiii':np.median(oiii_hb[w]),\n",
    "            'nii':np.median(nii_ha[w]),\n",
    "            'sii':np.median(sii_ha[w]),\n",
    "            'oi':np.median(oi_ha[w])\n",
    "        }\n",
    "\n",
    "        classification_str = classify_ELR(elrs)\n",
    "        class_map[w] = classification_str\n",
    "        data3d[ys, xs] = color_map[classification_str]\n",
    "\n",
    "    return data3d"
   ]
  },
  {
   "cell_type": "code",
   "execution_count": 219,
   "id": "9f614193-baf1-48cb-b8b5-0ab5fabcb5c5",
   "metadata": {},
   "outputs": [],
   "source": [
    "def classify_ELR(elr_dict):\n",
    "    if (elr_dict['oiii'] < 0.61 / (elr_dict['nii'] - 0.05) + 1.3) and (elr_dict['oiii'] < 0.72/(elr_dict['sii'] - 0.32) + 1.3) and (elr_dict['oiii'] < 0.73 / (elr_dict['oi'] + 0.59) + 1.33):\n",
    "        return 'star-forming'\n",
    "    \n",
    "    elif (elr_dict['oiii'] >  0.61 / (elr_dict['nii'] - 0.05) + 1.3) and (elr_dict['oiii'] < 0.61 / (elr_dict['nii'] - 0.47) + 1.19):\n",
    "        return 'composite'\n",
    "    \n",
    "    elif (elr_dict['oiii'] > 0.61 / (elr_dict['nii'] - 0.47) + 1.19) and (elr_dict['oiii'] > 0.72/(elr_dict['sii'] - 0.32) + 1.3) and (elr_dict['oiii'] > 0.73 / (elr_dict['oi'] + 0.59) + 1.33):\n",
    "        return 'seyfert'\n",
    "    \n",
    "    elif (elr_dict['oi'] > - 0.59) and (elr_dict['oiii'] > 1.89 * elr_dict['sii'] + 0.76) and (elr_dict['oiii'] > 1.18 * elr_dict['oi'] + 1.3):\n",
    "        return 'seyfert'\n",
    "    \n",
    "    elif (elr_dict['oiii'] > 0.61 / (elr_dict['nii'] - 0.47) + 1.19) and (elr_dict['oiii'] > 0.72/(elr_dict['sii'] - 0.32) + 1.3) and (elr_dict['oiii'] < 1.89 * elr_dict['sii'] + 0.76):\n",
    "        return 'liners'\n",
    "    \n",
    "    elif (elr_dict['oi'] > -0.59) and (elr_dict['oiii'] < 1.18 * elr_dict['oi'] + 1.3):\n",
    "        return 'liners'\n",
    "    \n",
    "    else:\n",
    "        return 'unk'"
   ]
  },
  {
   "cell_type": "code",
   "execution_count": 220,
   "id": "2a72a6ad-ed1d-4c63-9789-0c45525c4c66",
   "metadata": {},
   "outputs": [],
   "source": [
    "import logging\n",
    "logger = logging.getLogger()\n",
    "logger.setLevel(logging.INFO)"
   ]
  },
  {
   "cell_type": "code",
   "execution_count": 221,
   "id": "d809967f-6163-4786-a51c-9d52d78653d2",
   "metadata": {},
   "outputs": [],
   "source": [
    "map_fil = \"data/NGC4030/cube/NGC4030-SQUARE0.6/BETA-CORR/SQUARE0.6-MILESHC-MASTARHC2-NOISM/1/1/manga-1-1-MAPS-SQUARE0.6-MILESHC-MASTARHC2-NOISM.fits\""
   ]
  },
  {
   "cell_type": "code",
   "execution_count": 222,
   "id": "b34cd421-138a-4f04-bdba-6508d8a88144",
   "metadata": {},
   "outputs": [
    {
     "name": "stderr",
     "output_type": "stream",
     "text": [
      "INFO:root:Obtaining Maps.\n",
      "/var/folders/ms/1cj6qz8d54qg6yvchfl0610c0000gt/T/ipykernel_25006/2596488095.py:19: RuntimeWarning: invalid value encountered in divide\n",
      "  oiii_hb = np.log10(oiii/hb)\n",
      "/var/folders/ms/1cj6qz8d54qg6yvchfl0610c0000gt/T/ipykernel_25006/2596488095.py:19: RuntimeWarning: divide by zero encountered in log10\n",
      "  oiii_hb = np.log10(oiii/hb)\n",
      "/var/folders/ms/1cj6qz8d54qg6yvchfl0610c0000gt/T/ipykernel_25006/2596488095.py:19: RuntimeWarning: invalid value encountered in log10\n",
      "  oiii_hb = np.log10(oiii/hb)\n",
      "/var/folders/ms/1cj6qz8d54qg6yvchfl0610c0000gt/T/ipykernel_25006/2596488095.py:23: RuntimeWarning: divide by zero encountered in divide\n",
      "  sii_ha = np.log10(sii/ha)\n",
      "/var/folders/ms/1cj6qz8d54qg6yvchfl0610c0000gt/T/ipykernel_25006/2596488095.py:23: RuntimeWarning: invalid value encountered in divide\n",
      "  sii_ha = np.log10(sii/ha)\n",
      "/var/folders/ms/1cj6qz8d54qg6yvchfl0610c0000gt/T/ipykernel_25006/2596488095.py:23: RuntimeWarning: invalid value encountered in log10\n",
      "  sii_ha = np.log10(sii/ha)\n",
      "/var/folders/ms/1cj6qz8d54qg6yvchfl0610c0000gt/T/ipykernel_25006/2596488095.py:28: RuntimeWarning: divide by zero encountered in divide\n",
      "  oi_ha = np.log10(oi/ha)\n",
      "/var/folders/ms/1cj6qz8d54qg6yvchfl0610c0000gt/T/ipykernel_25006/2596488095.py:28: RuntimeWarning: invalid value encountered in divide\n",
      "  oi_ha = np.log10(oi/ha)\n",
      "/var/folders/ms/1cj6qz8d54qg6yvchfl0610c0000gt/T/ipykernel_25006/2596488095.py:28: RuntimeWarning: divide by zero encountered in log10\n",
      "  oi_ha = np.log10(oi/ha)\n",
      "/var/folders/ms/1cj6qz8d54qg6yvchfl0610c0000gt/T/ipykernel_25006/2596488095.py:28: RuntimeWarning: invalid value encountered in log10\n",
      "  oi_ha = np.log10(oi/ha)\n",
      "/var/folders/ms/1cj6qz8d54qg6yvchfl0610c0000gt/T/ipykernel_25006/2596488095.py:33: RuntimeWarning: invalid value encountered in divide\n",
      "  nii_ha = np.log10(nii/ha)\n",
      "INFO:root:Creating BPT ELRs plot.\n",
      "INFO:root:BPT Plot saved to None\n",
      "INFO:root:Creating classification map.\n"
     ]
    },
    {
     "data": {
      "image/png": "[encoded data removed]",
      "text/plain": [
       "<Figure size 1200x400 with 3 Axes>"
      ]
     },
     "metadata": {},
     "output_type": "display_data"
    }
   ],
   "source": [
    "class_map = BPT(map_fil,fig_output=None)"
   ]
  },
  {
   "cell_type": "code",
   "execution_count": 223,
   "id": "4f4b62cd-c17b-4a0e-95b3-234a806d3790",
   "metadata": {},
   "outputs": [
    {
     "data": {
      "text/plain": [
       "(326, 326, 3)"
      ]
     },
     "execution_count": 223,
     "metadata": {},
     "output_type": "execute_result"
    }
   ],
   "source": [
    "class_map.shape"
   ]
  },
  {
   "cell_type": "code",
   "execution_count": 233,
   "id": "c08e0717-d59d-4ee9-9b0f-ba6678bf1222",
   "metadata": {},
   "outputs": [],
   "source": [
    "color_hex = {\n",
    "        'star-forming': '#77a9d4', # blue\n",
    "        'composite': '#ebebf0', # white\n",
    "        'seyfert': '#fad12c', # yellow\n",
    "        'liners': '#ff265b', # dark blue\n",
    "        'unk': '#000000'\n",
    "    }"
   ]
  },
  {
   "cell_type": "code",
   "execution_count": 240,
   "id": "bfc2f964-02fe-48ff-abb5-befebab41790",
   "metadata": {},
   "outputs": [
    {
     "data": {
      "image/png": "[encoded data removed]",
      "text/plain": [
       "<Figure size 600x600 with 1 Axes>"
      ]
     },
     "metadata": {},
     "output_type": "display_data"
    }
   ],
   "source": [
    "fig, ax = plt.subplots(1)\n",
    "ax.imshow(class_map,origin='lower')\n",
    "\n",
    "shift = 0\n",
    "for cat in color_hex.keys():\n",
    "    x = 1.025\n",
    "    y = 0.9\n",
    "    ax.text(x, y-shift, cat, fontsize='large', transform=ax.transAxes, bbox={'facecolor':color_hex[cat],'pad':5})\n",
    "    shift += 0.075"
   ]
  },
  {
   "cell_type": "code",
   "execution_count": 244,
   "id": "f72e20de-05a5-4b5d-9a19-530d03497e4a",
   "metadata": {},
   "outputs": [
    {
     "data": {
      "text/plain": [
       "32.6"
      ]
     },
     "execution_count": 244,
     "metadata": {},
     "output_type": "execute_result"
    }
   ],
   "source": [
    "(binid.shape[0] * .2)/2"
   ]
  },
  {
   "cell_type": "code",
   "execution_count": 248,
   "id": "b77de6ee-8ba9-4fa6-9077-d24829806a5c",
   "metadata": {},
   "outputs": [
    {
     "name": "stdout",
     "output_type": "stream",
     "text": [
      "Filename: data/NGC4030/cube/NGC4030-SQUARE0.6/BETA-CORR/SQUARE0.6-MILESHC-MASTARHC2-NOISM/1/1/manga-1-1-LOGCUBE-SQUARE0.6-MILESHC-MASTARHC2-NOISM.fits\n",
      "No.    Name      Ver    Type      Cards   Dimensions   Format\n",
      "  0  PRIMARY       1 PrimaryHDU    1373   ()      \n",
      "  1  FLUX          1 ImageHDU        45   (326, 326, 4009)   float32   \n",
      "  2  IVAR          1 ImageHDU        46   (326, 326, 4009)   float32   \n",
      "  3  MASK          1 ImageHDU        45   (326, 326, 4009)   int16   \n",
      "  4  LSF           1 ImageHDU        43   (326, 326, 4009)   float32   \n",
      "  5  WAVE          1 ImageHDU         9   (4009,)   float32   \n",
      "  6  REDCORR       1 ImageHDU         9   (4009,)   float32   \n",
      "  7  MODEL         1 ImageHDU        44   (326, 326, 4009)   float32   \n",
      "  8  MODEL_MASK    1 ImageHDU        44   (326, 326, 4009)   int16   \n",
      "  9  EMLINE        1 ImageHDU        43   (326, 326, 4009)   float32   \n",
      " 10  STELLAR       1 ImageHDU        44   (326, 326, 4009)   float32   \n",
      " 11  STELLAR_MASK    1 ImageHDU        44   (326, 326, 4009)   int16   \n",
      " 12  BINID         1 ImageHDU        46   (326, 326, 5)   int32   \n"
     ]
    }
   ],
   "source": [
    "cube.info()"
   ]
  },
  {
   "cell_type": "code",
   "execution_count": 7,
   "id": "0827e5af-a5f0-4f83-bebb-338eabe13d66",
   "metadata": {},
   "outputs": [],
   "source": [
    "mapfil = \"data/NGC4030/maps/NGC4030_EW-Map.fits\"\n",
    "ewmap = fits.getdata(mapfil)"
   ]
  },
  {
   "cell_type": "code",
   "execution_count": 6,
   "id": "c17e230d-9bb0-49de-bdcd-c9701516cd7f",
   "metadata": {},
   "outputs": [],
   "source": [
    "from bokeh.plotting import figure, show"
   ]
  },
  {
   "cell_type": "code",
   "execution_count": null,
   "id": "d4110926-5a2b-4e3c-a052-877ca601ef51",
   "metadata": {},
   "outputs": [],
   "source": [
    "plot = figure()"
   ]
  },
  {
   "cell_type": "code",
   "execution_count": 10,
   "id": "339f51e7-54d6-42f8-a656-5bd538792ce9",
   "metadata": {},
   "outputs": [],
   "source": [
    "region = 5880, 5910\n",
    "\n",
    "wave = cube['WAVE'].data"
   ]
  },
  {
   "cell_type": "code",
   "execution_count": 11,
   "id": "16eddda4-4d1b-4a73-99dc-58392f30fe5b",
   "metadata": {},
   "outputs": [],
   "source": [
    "inds = np.where((wave>=region[0]) & (wave<=region[1]))"
   ]
  },
  {
   "cell_type": "code",
   "execution_count": 12,
   "id": "f2367c85-4261-4cb6-b6e6-8ad543a654ba",
   "metadata": {},
   "outputs": [
    {
     "data": {
      "text/plain": [
       "(array([1262, 1263, 1264, 1265, 1266, 1267, 1268, 1269, 1270, 1271, 1272,\n",
       "        1273, 1274, 1275, 1276, 1277, 1278, 1279, 1280, 1281, 1282, 1283,\n",
       "        1284, 1285, 1286, 1287, 1288, 1289, 1290, 1291]),)"
      ]
     },
     "execution_count": 12,
     "metadata": {},
     "output_type": "execute_result"
    }
   ],
   "source": [
    "inds"
   ]
  },
  {
   "cell_type": "code",
   "execution_count": 14,
   "id": "e81d34eb-4e3b-40eb-884c-c7e6a5e3c5d9",
   "metadata": {},
   "outputs": [
    {
     "data": {
      "text/plain": [
       "30"
      ]
     },
     "execution_count": 14,
     "metadata": {},
     "output_type": "execute_result"
    }
   ],
   "source": [
    "len(inds[0])"
   ]
  },
  {
   "cell_type": "code",
   "execution_count": 28,
   "id": "bced7a23-42ea-4b57-a8d2-882294e50b30",
   "metadata": {},
   "outputs": [
    {
     "data": {
      "text/plain": [
       "6069.79"
      ]
     },
     "execution_count": 28,
     "metadata": {},
     "output_type": "execute_result"
    }
   ],
   "source": [
    "5893 * (1+0.03)"
   ]
  },
  {
   "cell_type": "code",
   "execution_count": null,
   "id": "cce2c6dd-3da2-4d50-87d3-9267f162d546",
   "metadata": {},
   "outputs": [],
   "source": []
  }
 ],
 "metadata": {
  "kernelspec": {
   "display_name": "Python 3 (ipykernel)",
   "language": "python",
   "name": "python3"
  },
  "language_info": {
   "codemirror_mode": {
    "name": "ipython",
    "version": 3
   },
   "file_extension": ".py",
   "mimetype": "text/x-python",
   "name": "python",
   "nbconvert_exporter": "python",
   "pygments_lexer": "ipython3",
   "version": "3.12.4"
  }
 },
 "nbformat": 4,
 "nbformat_minor": 5
}
