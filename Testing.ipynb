{
 "cells": [
  {
   "cell_type": "code",
   "execution_count": 10,
   "id": "8d70309e-43ab-4382-bb0f-2ed18aa2774a",
   "metadata": {},
   "outputs": [],
   "source": [
    "import numpy as np\n",
    "import matplotlib.pyplot as plt\n",
    "from astropy.io import fits\n",
    "from astropy.table import Table"
   ]
  },
  {
   "cell_type": "code",
   "execution_count": 4,
   "id": "f1596ce9-abe1-48e1-8125-8f847fa12742",
   "metadata": {},
   "outputs": [],
   "source": [
    "datadir = \"data/NGC4030/mcmc/NGC4030-SQUARE0.6/BETA-CORR/NGC4030-SQUARE0.6-binid-0-700-samples-run-0.fits\""
   ]
  },
  {
   "cell_type": "code",
   "execution_count": 6,
   "id": "4b9c1449-c31c-46f6-b17c-2583d200eb2a",
   "metadata": {},
   "outputs": [],
   "source": [
    "hdul = fits.open(datadir)"
   ]
  },
  {
   "cell_type": "code",
   "execution_count": 11,
   "id": "35d69511-4939-4f85-bdb0-402a56448d51",
   "metadata": {},
   "outputs": [],
   "source": [
    "table = Table(hdul[1].data)"
   ]
  },
  {
   "cell_type": "code",
   "execution_count": 14,
   "id": "a4337f7d-4776-48fd-9487-4f7e20a0a109",
   "metadata": {},
   "outputs": [
    {
     "data": {
      "text/plain": [
       "['bin', 'samples', 'percentiles', 'velocities']"
      ]
     },
     "execution_count": 14,
     "metadata": {},
     "output_type": "execute_result"
    }
   ],
   "source": [
    "table.colnames"
   ]
  },
  {
   "cell_type": "code",
   "execution_count": 13,
   "id": "df53ed6c-6e79-4255-8c6b-8edb2e1362b3",
   "metadata": {},
   "outputs": [
    {
     "data": {
      "text/plain": [
       "['Column',\n",
       " 'ColumnClass',\n",
       " 'MaskedColumn',\n",
       " 'Row',\n",
       " 'TableColumns',\n",
       " 'TableFormatter',\n",
       " '__array__',\n",
       " '__bytes__',\n",
       " '__class__',\n",
       " '__copy__',\n",
       " '__deepcopy__',\n",
       " '__delattr__',\n",
       " '__delitem__',\n",
       " '__dict__',\n",
       " '__dir__',\n",
       " '__doc__',\n",
       " '__eq__',\n",
       " '__format__',\n",
       " '__ge__',\n",
       " '__getattribute__',\n",
       " '__getitem__',\n",
       " '__getstate__',\n",
       " '__gt__',\n",
       " '__hash__',\n",
       " '__init__',\n",
       " '__init_subclass__',\n",
       " '__ior__',\n",
       " '__le__',\n",
       " '__len__',\n",
       " '__lt__',\n",
       " '__module__',\n",
       " '__ne__',\n",
       " '__new__',\n",
       " '__or__',\n",
       " '__reduce__',\n",
       " '__reduce_ex__',\n",
       " '__repr__',\n",
       " '__setattr__',\n",
       " '__setitem__',\n",
       " '__setstate__',\n",
       " '__sizeof__',\n",
       " '__str__',\n",
       " '__subclasshook__',\n",
       " '__weakref__',\n",
       " '_base_repr_',\n",
       " '_check_names_dtype',\n",
       " '_column_class',\n",
       " '_convert_col_for_table',\n",
       " '_convert_data_to_col',\n",
       " '_convert_string_dtype',\n",
       " '_copy_indices',\n",
       " '_first_colname',\n",
       " '_get_col_cls_for_table',\n",
       " '_init_from_cols',\n",
       " '_init_from_dict',\n",
       " '_init_from_list',\n",
       " '_init_from_list_of_dicts',\n",
       " '_init_from_ndarray',\n",
       " '_init_indices',\n",
       " '_ipython_key_completions_',\n",
       " '_is_list_or_tuple_of_str',\n",
       " '_is_mixin_for_table',\n",
       " '_make_index_row_display_table',\n",
       " '_make_table_from_cols',\n",
       " '_mask',\n",
       " '_masked',\n",
       " '_meta',\n",
       " '_new_from_slice',\n",
       " '_replace_cols',\n",
       " '_replace_column_warnings',\n",
       " '_repr_html_',\n",
       " '_rows_equal',\n",
       " '_set_col_parent_table_and_mask',\n",
       " '_set_column_attribute',\n",
       " '_set_masked',\n",
       " '_set_of_names_in_colnames',\n",
       " '_set_row',\n",
       " 'add_column',\n",
       " 'add_columns',\n",
       " 'add_index',\n",
       " 'add_row',\n",
       " 'argsort',\n",
       " 'as_array',\n",
       " 'colnames',\n",
       " 'columns',\n",
       " 'convert_bytestring_to_unicode',\n",
       " 'convert_unicode_to_bytestring',\n",
       " 'copy',\n",
       " 'dtype',\n",
       " 'field',\n",
       " 'filled',\n",
       " 'formatter',\n",
       " 'from_pandas',\n",
       " 'group_by',\n",
       " 'groups',\n",
       " 'has_masked_columns',\n",
       " 'has_masked_values',\n",
       " 'has_mixin_columns',\n",
       " 'iloc',\n",
       " 'index_column',\n",
       " 'index_mode',\n",
       " 'indices',\n",
       " 'info',\n",
       " 'insert_row',\n",
       " 'items',\n",
       " 'itercols',\n",
       " 'iterrows',\n",
       " 'keep_columns',\n",
       " 'keys',\n",
       " 'loc',\n",
       " 'loc_indices',\n",
       " 'mask',\n",
       " 'masked',\n",
       " 'meta',\n",
       " 'more',\n",
       " 'pformat',\n",
       " 'pformat_all',\n",
       " 'pprint',\n",
       " 'pprint_all',\n",
       " 'pprint_exclude_names',\n",
       " 'pprint_include_names',\n",
       " 'primary_key',\n",
       " 'read',\n",
       " 'remove_column',\n",
       " 'remove_columns',\n",
       " 'remove_indices',\n",
       " 'remove_row',\n",
       " 'remove_rows',\n",
       " 'rename_column',\n",
       " 'rename_columns',\n",
       " 'replace_column',\n",
       " 'reverse',\n",
       " 'round',\n",
       " 'setdefault',\n",
       " 'show_in_browser',\n",
       " 'show_in_notebook',\n",
       " 'sort',\n",
       " 'to_pandas',\n",
       " 'update',\n",
       " 'values',\n",
       " 'values_equal',\n",
       " 'write']"
      ]
     },
     "execution_count": 13,
     "metadata": {},
     "output_type": "execute_result"
    }
   ],
   "source": [
    "dir(table)"
   ]
  },
  {
   "cell_type": "code",
   "execution_count": 17,
   "id": "1b7a4844-48b6-47a0-a6c1-7c94a4b9bef8",
   "metadata": {},
   "outputs": [
    {
     "data": {
      "text/html": [
       "&lt;Column name=&apos;velocities&apos; dtype=&apos;float64&apos; length=701&gt;\n",
       "<table>\n",
       "<tr><td>-117.05774445619626</td></tr>\n",
       "<tr><td>-108.92228269201179</td></tr>\n",
       "<tr><td>-108.20174800324331</td></tr>\n",
       "<tr><td>-103.41542578277829</td></tr>\n",
       "<tr><td>-89.41003780472714</td></tr>\n",
       "<tr><td>-94.64593482875534</td></tr>\n",
       "<tr><td>-90.35757374186954</td></tr>\n",
       "<tr><td>-105.30633880527027</td></tr>\n",
       "<tr><td>-121.24847590488541</td></tr>\n",
       "<tr><td>-105.04969734205628</td></tr>\n",
       "<tr><td>-118.0112064322411</td></tr>\n",
       "<tr><td>-115.33151826559586</td></tr>\n",
       "<tr><td>...</td></tr>\n",
       "<tr><td>-20.570936736940993</td></tr>\n",
       "<tr><td>-4.707286820932599</td></tr>\n",
       "<tr><td>-10.51115008305905</td></tr>\n",
       "<tr><td>-2.675624165952506</td></tr>\n",
       "<tr><td>16.663800056413393</td></tr>\n",
       "<tr><td>5.311468089819327</td></tr>\n",
       "<tr><td>4.288539433950378</td></tr>\n",
       "<tr><td>-23.033354127704996</td></tr>\n",
       "<tr><td>-11.501910059566978</td></tr>\n",
       "<tr><td>-19.427520237481065</td></tr>\n",
       "<tr><td>-19.765994851852863</td></tr>\n",
       "</table>"
      ],
      "text/plain": [
       "<Column name='velocities' dtype='float64' length=701>\n",
       "-117.05774445619626\n",
       "-108.92228269201179\n",
       "-108.20174800324331\n",
       "-103.41542578277829\n",
       " -89.41003780472714\n",
       " -94.64593482875534\n",
       " -90.35757374186954\n",
       "-105.30633880527027\n",
       "-121.24847590488541\n",
       "-105.04969734205628\n",
       " -118.0112064322411\n",
       "-115.33151826559586\n",
       "                ...\n",
       "-20.570936736940993\n",
       " -4.707286820932599\n",
       " -10.51115008305905\n",
       " -2.675624165952506\n",
       " 16.663800056413393\n",
       "  5.311468089819327\n",
       "  4.288539433950378\n",
       "-23.033354127704996\n",
       "-11.501910059566978\n",
       "-19.427520237481065\n",
       "-19.765994851852863"
      ]
     },
     "execution_count": 17,
     "metadata": {},
     "output_type": "execute_result"
    }
   ],
   "source": [
    "table['velocities']"
   ]
  },
  {
   "cell_type": "code",
   "execution_count": null,
   "id": "d0145c8a-3381-4bcf-973d-901abf7c78d6",
   "metadata": {},
   "outputs": [],
   "source": [
    "def velocity_map(galname):\n",
    "    \n",
    "    filepaths = glob()"
   ]
  },
  {
   "cell_type": "code",
   "execution_count": 19,
   "id": "b00d8a94-6f00-4504-900f-40e9a328f4a7",
   "metadata": {},
   "outputs": [
    {
     "data": {
      "text/plain": [
       "'NaImcmcIFU/muse/NaI_MCMC_output/NGC4030-SQUARE0.6/'"
      ]
     },
     "execution_count": 19,
     "metadata": {},
     "output_type": "execute_result"
    }
   ],
   "source": [
    "import os\n",
    "\n",
    "os.path.join('NaImcmcIFU/muse/NaI_MCMC_output', \"NGC4030-SQUARE0.6/\")"
   ]
  },
  {
   "cell_type": "code",
   "execution_count": 20,
   "id": "8c5dcfc2-a773-4216-92ba-26a0c33d2075",
   "metadata": {},
   "outputs": [
    {
     "data": {
      "text/plain": [
       "'/Users/apitts4030/Repo/NaI_analysis'"
      ]
     },
     "execution_count": 20,
     "metadata": {},
     "output_type": "execute_result"
    }
   ],
   "source": [
    "pwd"
   ]
  },
  {
   "cell_type": "code",
   "execution_count": 23,
   "id": "a2675c31-79ad-4894-b79d-be2b4a4b95e9",
   "metadata": {},
   "outputs": [
    {
     "data": {
      "text/plain": [
       "'/Users/apitts4030/Repo'"
      ]
     },
     "execution_count": 23,
     "metadata": {},
     "output_type": "execute_result"
    }
   ],
   "source": [
    "os.path.dirname(os.getcwd())"
   ]
  },
  {
   "cell_type": "code",
   "execution_count": 24,
   "id": "813cbdc8-596c-49c3-88b7-a9f067354083",
   "metadata": {},
   "outputs": [],
   "source": [
    "testdict = {\n",
    "    'mcmc':'NaImcmcIFU/muse/NaI_MCMC_output/NGC4030-SQUARE0.6/',\n",
    "    'cube':'skibidi'\n",
    "}"
   ]
  },
  {
   "cell_type": "code",
   "execution_count": 27,
   "id": "ec249176-c0a0-4b53-bfe8-179af60987c1",
   "metadata": {},
   "outputs": [
    {
     "name": "stdout",
     "output_type": "stream",
     "text": [
      "true\n",
      "true\n"
     ]
    }
   ],
   "source": [
    "for key in testdict.keys():\n",
    "    "
   ]
  },
  {
   "cell_type": "code",
   "execution_count": null,
   "id": "6f7a8410-0132-4764-9b89-bd6670936485",
   "metadata": {},
   "outputs": [],
   "source": []
  }
 ],
 "metadata": {
  "kernelspec": {
   "display_name": "Python 3 (ipykernel)",
   "language": "python",
   "name": "python3"
  },
  "language_info": {
   "codemirror_mode": {
    "name": "ipython",
    "version": 3
   },
   "file_extension": ".py",
   "mimetype": "text/x-python",
   "name": "python",
   "nbconvert_exporter": "python",
   "pygments_lexer": "ipython3",
   "version": "3.12.4"
  }
 },
 "nbformat": 4,
 "nbformat_minor": 5
}
