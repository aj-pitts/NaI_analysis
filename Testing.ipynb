{
 "cells": [
  {
   "cell_type": "code",
   "execution_count": 1,
   "id": "8d70309e-43ab-4382-bb0f-2ed18aa2774a",
   "metadata": {},
   "outputs": [],
   "source": [
    "import numpy as np\n",
    "import matplotlib.pyplot as plt\n",
    "from astropy.io import fits"
   ]
  },
  {
   "cell_type": "code",
   "execution_count": 2,
   "id": "f1596ce9-abe1-48e1-8125-8f847fa12742",
   "metadata": {},
   "outputs": [],
   "source": [
    "test = fits.open(\"../data/NGC4030/mcmc/NGC4030-SQUARE0.6/BETA-CORR/NGC4030-SQUARE0.6-binid-0-700-samples-run-0.fits\")"
   ]
  },
  {
   "cell_type": "code",
   "execution_count": 11,
   "id": "eef0d6c7-cb51-4bf5-b354-7fb872172c65",
   "metadata": {},
   "outputs": [
    {
     "data": {
      "text/plain": [
       "XTENSION= 'BINTABLE'           / binary table extension                         \n",
       "BITPIX  =                    8 / array data type                                \n",
       "NAXIS   =                    2 / number of array dimensions                     \n",
       "NAXIS1  =              3520108 / length of dimension 1                          \n",
       "NAXIS2  =                  701 / length of dimension 2                          \n",
       "PCOUNT  =                    0 / number of group parameters                     \n",
       "GCOUNT  =                    1 / number of groups                               \n",
       "TFIELDS =                    4 / number of table fields                         \n",
       "TTYPE1  = 'bin     '                                                            \n",
       "TFORM1  = 'J       '                                                            \n",
       "TTYPE2  = 'samples '                                                            \n",
       "TFORM2  = '440000D '                                                            \n",
       "TDIM2   = '(4,1100,100)'                                                        \n",
       "TTYPE3  = 'percentiles'                                                         \n",
       "TFORM3  = '12D     '                                                            \n",
       "TDIM3   = '(3,4)   '                                                            \n",
       "TTYPE4  = 'velocities'                                                          \n",
       "TFORM4  = 'D       '                                                            "
      ]
     },
     "execution_count": 11,
     "metadata": {},
     "output_type": "execute_result"
    }
   ],
   "source": [
    "test[1].header"
   ]
  },
  {
   "cell_type": "code",
   "execution_count": null,
   "id": "4b0a2402-86aa-4cd2-b76e-72b3b7c8b566",
   "metadata": {},
   "outputs": [],
   "source": []
  }
 ],
 "metadata": {
  "kernelspec": {
   "display_name": "Python 3 (ipykernel)",
   "language": "python",
   "name": "python3"
  },
  "language_info": {
   "codemirror_mode": {
    "name": "ipython",
    "version": 3
   },
   "file_extension": ".py",
   "mimetype": "text/x-python",
   "name": "python",
   "nbconvert_exporter": "python",
   "pygments_lexer": "ipython3",
   "version": "3.12.4"
  }
 },
 "nbformat": 4,
 "nbformat_minor": 5
}
